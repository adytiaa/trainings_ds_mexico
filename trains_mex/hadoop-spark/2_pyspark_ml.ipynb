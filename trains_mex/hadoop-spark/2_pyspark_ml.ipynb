{
 "cells": [
  {
   "cell_type": "markdown",
   "metadata": {},
   "source": [
    "# Maching Learning with PySpark\n",
    "Apache Spark's integrated machine learning library is MLlib. The API can be used with Java, Scala, Python, and R.\n",
    "In this tutorial we will use MLlib and the SQL module with PySpark to do data exploration and build a simple regression model to predict the income of individuals.\n",
    "The data is available at http://www.dcc.fc.up.pt/~ltorgo/Regression/cal_housing.html"
   ]
  },
  {
   "cell_type": "markdown",
   "metadata": {},
   "source": [
    "## Data Ingestion"
   ]
  },
  {
   "cell_type": "code",
   "execution_count": 1,
   "metadata": {},
   "outputs": [],
   "source": [
    "from pyspark import SparkConf, SparkContext\n",
    "from pyspark.sql import SparkSession\n",
    "\n",
    "# create a SparkContext to connect to a Spark cluster\n",
    "conf = SparkConf().setMaster('local').setAppName('myApp')\n",
    "sc = SparkContext(conf=conf)\n",
    "\n",
    "# create a SparkSession that is the entry point to programming Spark with the Dataset and DataFrame API.\n",
    "spark = SparkSession(sc)"
   ]
  },
  {
   "cell_type": "code",
   "execution_count": 2,
   "metadata": {},
   "outputs": [
    {
     "data": {
      "text/plain": [
       "['longitude: continuous.',\n",
       " 'latitude: continuous.',\n",
       " 'housingMedianAge: continuous. ',\n",
       " 'totalRooms: continuous. ',\n",
       " 'totalBedrooms: continuous. ',\n",
       " 'population: continuous. ',\n",
       " 'households: continuous. ',\n",
       " 'medianIncome: continuous. ',\n",
       " 'medianHouseValue: continuous. ']"
      ]
     },
     "execution_count": 2,
     "metadata": {},
     "output_type": "execute_result"
    }
   ],
   "source": [
    "# read header file\n",
    "header = sc.textFile('cal_housing.domain').collect() # read header file\n",
    "header"
   ]
  },
  {
   "cell_type": "code",
   "execution_count": 3,
   "metadata": {},
   "outputs": [
    {
     "name": "stdout",
     "output_type": "stream",
     "text": [
      "+---------+--------+----------------+----------+-------------+----------+----------+------------+----------------+\n",
      "|longitude|latitude|housingMedianAge|totalRooms|totalBedrooms|population|households|medianIncome|medianHouseValue|\n",
      "+---------+--------+----------------+----------+-------------+----------+----------+------------+----------------+\n",
      "|  -122.23|   37.88|            41.0|     880.0|        129.0|     322.0|     126.0|      8.3252|        452600.0|\n",
      "|  -122.22|   37.86|            21.0|    7099.0|       1106.0|    2401.0|    1138.0|      8.3014|        358500.0|\n",
      "|  -122.24|   37.85|            52.0|    1467.0|        190.0|     496.0|     177.0|      7.2574|        352100.0|\n",
      "|  -122.25|   37.85|            52.0|    1274.0|        235.0|     558.0|     219.0|      5.6431|        341300.0|\n",
      "|  -122.25|   37.85|            52.0|    1627.0|        280.0|     565.0|     259.0|      3.8462|        342200.0|\n",
      "|  -122.25|   37.85|            52.0|     919.0|        213.0|     413.0|     193.0|      4.0368|        269700.0|\n",
      "|  -122.25|   37.84|            52.0|    2535.0|        489.0|    1094.0|     514.0|      3.6591|        299200.0|\n",
      "|  -122.25|   37.84|            52.0|    3104.0|        687.0|    1157.0|     647.0|        3.12|        241400.0|\n",
      "|  -122.26|   37.84|            42.0|    2555.0|        665.0|    1206.0|     595.0|      2.0804|        226700.0|\n",
      "|  -122.25|   37.84|            52.0|    3549.0|        707.0|    1551.0|     714.0|      3.6912|        261100.0|\n",
      "+---------+--------+----------------+----------+-------------+----------+----------+------------+----------------+\n",
      "only showing top 10 rows\n",
      "\n"
     ]
    }
   ],
   "source": [
    "cal_housing = spark.read.csv(\"cal_housing.data\", \n",
    "                             header=\"false\", \n",
    "                             sep=\",\", \n",
    "                             inferSchema=\"true\").toDF(*map(lambda x: x.split(':', 1)[0],header))\n",
    "\n",
    "# show the top 10 rows\n",
    "cal_housing.show(10)"
   ]
  },
  {
   "cell_type": "markdown",
   "metadata": {},
   "source": [
    "## Data Exploration\n",
    "### Define Summary statistics"
   ]
  },
  {
   "cell_type": "code",
   "execution_count": 4,
   "metadata": {},
   "outputs": [
    {
     "name": "stdout",
     "output_type": "stream",
     "text": [
      "+-------+------------------+\n",
      "|summary|  medianHouseValue|\n",
      "+-------+------------------+\n",
      "|  count|             20640|\n",
      "|   mean|206855.81690891474|\n",
      "| stddev|115395.61587441359|\n",
      "|    min|           14999.0|\n",
      "|    max|          500001.0|\n",
      "+-------+------------------+\n",
      "\n"
     ]
    }
   ],
   "source": [
    "cal_housing.select(\"medianHouseValue\").describe().show()"
   ]
  },
  {
   "cell_type": "markdown",
   "metadata": {},
   "source": [
    "### Find covariance between attributes"
   ]
  },
  {
   "cell_type": "code",
   "execution_count": 5,
   "metadata": {},
   "outputs": [
    {
     "data": {
      "text/plain": [
       "33772890.18720292"
      ]
     },
     "execution_count": 5,
     "metadata": {},
     "output_type": "execute_result"
    }
   ],
   "source": [
    "cal_housing.stat.cov(\"totalRooms\", \"medianHouseValue\")"
   ]
  },
  {
   "cell_type": "markdown",
   "metadata": {},
   "source": [
    "### Find correlation between attributes"
   ]
  },
  {
   "cell_type": "code",
   "execution_count": 6,
   "metadata": {},
   "outputs": [
    {
     "data": {
      "text/plain": [
       "1.0"
      ]
     },
     "execution_count": 6,
     "metadata": {},
     "output_type": "execute_result"
    }
   ],
   "source": [
    "cal_housing.stat.corr(\"medianHouseValue\", \"medianHouseValue\")"
   ]
  },
  {
   "cell_type": "code",
   "execution_count": 7,
   "metadata": {},
   "outputs": [
    {
     "data": {
      "text/plain": [
       "0.13415311380656275"
      ]
     },
     "execution_count": 7,
     "metadata": {},
     "output_type": "execute_result"
    }
   ],
   "source": [
    "cal_housing.stat.corr(\"totalRooms\",\"medianHouseValue\")"
   ]
  },
  {
   "cell_type": "markdown",
   "metadata": {},
   "source": [
    "## Data Preprocessing & Feature Engineering\n",
    "Spark provides different functions to preprocess data. We can handle missing values, normalize the data, bucketize the attribute values etc. Some of these functions are:\n",
    "- Word2Vec\n",
    "- Tokenizer\n",
    "- Binarizer\n",
    "- PCA\n",
    "- OneHotEncoder\n",
    "- Normalizer\n",
    "- StandardScaler\n",
    "- StringIndexer\n",
    "- IndexToString\n",
    "- StopWordsRemover\n",
    "- Bucketizer\n",
    "\n",
    "The example data set does not have missing values.\n",
    "\n",
    "In our current dataset, we don't have missing values. We have many columns which have huge different between maxmimum and minimum values. We can standardize them. Let's look an example of deadling with missing values.\n"
   ]
  },
  {
   "cell_type": "markdown",
   "metadata": {},
   "source": [
    "### Missing Values"
   ]
  },
  {
   "cell_type": "code",
   "execution_count": 8,
   "metadata": {},
   "outputs": [
    {
     "name": "stdout",
     "output_type": "stream",
     "text": [
      "+-----+------+\n",
      "| name|  item|\n",
      "+-----+------+\n",
      "|Alice|  milk|\n",
      "|  Bob| bread|\n",
      "| Mike|  null|\n",
      "|Steve|apples|\n",
      "|Steve|apples|\n",
      "+-----+------+\n",
      "\n"
     ]
    }
   ],
   "source": [
    "names = [\"Alice\", \"Bob\", \"Mike\", \"Steve\", \"Steve\"]\n",
    "items = [\"milk\", \"bread\", None, \"apples\", \"apples\"]\n",
    "\n",
    "df = spark.createDataFrame(list(zip(names, items))).toDF(\"name\", \"item\")\n",
    "df.show()\n"
   ]
  },
  {
   "cell_type": "markdown",
   "metadata": {},
   "source": [
    "### Drop NA rows"
   ]
  },
  {
   "cell_type": "code",
   "execution_count": 9,
   "metadata": {},
   "outputs": [
    {
     "name": "stdout",
     "output_type": "stream",
     "text": [
      "+-----+------+\n",
      "| name|  item|\n",
      "+-----+------+\n",
      "|Alice|  milk|\n",
      "|  Bob| bread|\n",
      "|Steve|apples|\n",
      "|Steve|apples|\n",
      "+-----+------+\n",
      "\n"
     ]
    }
   ],
   "source": [
    "df.dropna().show()"
   ]
  },
  {
   "cell_type": "markdown",
   "metadata": {},
   "source": [
    "### Fill NA values"
   ]
  },
  {
   "cell_type": "code",
   "execution_count": 10,
   "metadata": {},
   "outputs": [
    {
     "name": "stdout",
     "output_type": "stream",
     "text": [
      "+-----+------+\n",
      "| name|  item|\n",
      "+-----+------+\n",
      "|Alice|  milk|\n",
      "|  Bob| bread|\n",
      "| Mike|banana|\n",
      "|Steve|apples|\n",
      "|Steve|apples|\n",
      "+-----+------+\n",
      "\n"
     ]
    }
   ],
   "source": [
    "df.na.fill({'item':'banana'}).show()"
   ]
  },
  {
   "cell_type": "markdown",
   "metadata": {},
   "source": [
    "### Drop duplicates"
   ]
  },
  {
   "cell_type": "code",
   "execution_count": 11,
   "metadata": {},
   "outputs": [
    {
     "name": "stdout",
     "output_type": "stream",
     "text": [
      "+-----+------+\n",
      "| name|  item|\n",
      "+-----+------+\n",
      "|Steve|apples|\n",
      "|Alice|  milk|\n",
      "| Mike|  null|\n",
      "|  Bob| bread|\n",
      "+-----+------+\n",
      "\n"
     ]
    }
   ],
   "source": [
    "df.dropDuplicates().show()"
   ]
  },
  {
   "cell_type": "markdown",
   "metadata": {},
   "source": [
    "### Frequent Items"
   ]
  },
  {
   "cell_type": "code",
   "execution_count": 12,
   "metadata": {},
   "outputs": [
    {
     "name": "stdout",
     "output_type": "stream",
     "text": [
      "+--------------+\n",
      "|item_freqItems|\n",
      "+--------------+\n",
      "|      [apples]|\n",
      "+--------------+\n",
      "\n"
     ]
    }
   ],
   "source": [
    "support = 0.5\n",
    "df.freqItems([\"item\"], support).show()"
   ]
  },
  {
   "cell_type": "markdown",
   "metadata": {},
   "source": [
    "### Back to the Housing Data Example"
   ]
  },
  {
   "cell_type": "code",
   "execution_count": 13,
   "metadata": {},
   "outputs": [
    {
     "name": "stdout",
     "output_type": "stream",
     "text": [
      "+---------+--------+----------------+----------+-------------+----------+----------+------------+----------------+\n",
      "|longitude|latitude|housingMedianAge|totalRooms|totalBedrooms|population|households|medianIncome|medianHouseValue|\n",
      "+---------+--------+----------------+----------+-------------+----------+----------+------------+----------------+\n",
      "|  -122.23|   37.88|            41.0|     880.0|        129.0|     322.0|     126.0|      8.3252|        452600.0|\n",
      "|  -122.22|   37.86|            21.0|    7099.0|       1106.0|    2401.0|    1138.0|      8.3014|        358500.0|\n",
      "|  -122.24|   37.85|            52.0|    1467.0|        190.0|     496.0|     177.0|      7.2574|        352100.0|\n",
      "|  -122.25|   37.85|            52.0|    1274.0|        235.0|     558.0|     219.0|      5.6431|        341300.0|\n",
      "|  -122.25|   37.85|            52.0|    1627.0|        280.0|     565.0|     259.0|      3.8462|        342200.0|\n",
      "+---------+--------+----------------+----------+-------------+----------+----------+------------+----------------+\n",
      "only showing top 5 rows\n",
      "\n"
     ]
    }
   ],
   "source": [
    "cal_housing.show(5)"
   ]
  },
  {
   "cell_type": "markdown",
   "metadata": {},
   "source": [
    "### Transform Data"
   ]
  },
  {
   "cell_type": "code",
   "execution_count": 14,
   "metadata": {},
   "outputs": [
    {
     "name": "stdout",
     "output_type": "stream",
     "text": [
      "+---------+--------+----------------+----------+-------------+----------+----------+------------+----------------+\n",
      "|longitude|latitude|housingMedianAge|totalRooms|totalBedrooms|population|households|medianIncome|medianHouseValue|\n",
      "+---------+--------+----------------+----------+-------------+----------+----------+------------+----------------+\n",
      "|  -122.23|   37.88|            41.0|     880.0|        129.0|     322.0|     126.0|      8.3252|           4.526|\n",
      "|  -122.22|   37.86|            21.0|    7099.0|       1106.0|    2401.0|    1138.0|      8.3014|           3.585|\n",
      "|  -122.24|   37.85|            52.0|    1467.0|        190.0|     496.0|     177.0|      7.2574|           3.521|\n",
      "|  -122.25|   37.85|            52.0|    1274.0|        235.0|     558.0|     219.0|      5.6431|           3.413|\n",
      "|  -122.25|   37.85|            52.0|    1627.0|        280.0|     565.0|     259.0|      3.8462|           3.422|\n",
      "+---------+--------+----------------+----------+-------------+----------+----------+------------+----------------+\n",
      "only showing top 5 rows\n",
      "\n"
     ]
    }
   ],
   "source": [
    "from pyspark.sql.functions import *\n",
    "\n",
    "cal_housing = cal_housing.withColumn(\"medianHouseValue\", col(\"medianHouseValue\")/100000)\n",
    "cal_housing.show(5)"
   ]
  },
  {
   "cell_type": "markdown",
   "metadata": {},
   "source": [
    "### Adding new Columns\n",
    "\n",
    "* roomsPerHousehold: number of rooms per households\n",
    "* populationPerHousehold: population per households\n",
    "* bedroomsPerRoom: number of bedrooms out of total number of rooms\n"
   ]
  },
  {
   "cell_type": "code",
   "execution_count": 15,
   "metadata": {
    "scrolled": true
   },
   "outputs": [
    {
     "name": "stdout",
     "output_type": "stream",
     "text": [
      "+----------+-------------+----------+------------------+----------------------+-------------------+\n",
      "|totalRooms|totalBedrooms|households| roomsPerHousehold|populationPerHousehold|    bedroomsPerRoom|\n",
      "+----------+-------------+----------+------------------+----------------------+-------------------+\n",
      "|     880.0|        129.0|     126.0| 6.984126984126984|    2.5555555555555554|0.14659090909090908|\n",
      "|    7099.0|       1106.0|    1138.0| 6.238137082601054|     2.109841827768014|0.15579659106916466|\n",
      "|    1467.0|        190.0|     177.0| 8.288135593220339|    2.8022598870056497|0.12951601908657123|\n",
      "|    1274.0|        235.0|     219.0|5.8173515981735155|     2.547945205479452|0.18445839874411302|\n",
      "|    1627.0|        280.0|     259.0| 6.281853281853282|    2.1814671814671813| 0.1720958819913952|\n",
      "+----------+-------------+----------+------------------+----------------------+-------------------+\n",
      "only showing top 5 rows\n",
      "\n"
     ]
    }
   ],
   "source": [
    "cal_housing = cal_housing.withColumn(\"roomsPerHousehold\", col(\"totalRooms\")/col(\"households\"))\\\n",
    "   .withColumn(\"populationPerHousehold\", col(\"population\")/col(\"households\"))\\\n",
    "   .withColumn(\"bedroomsPerRoom\", col(\"totalBedRooms\")/col(\"totalRooms\"))\n",
    "\n",
    "cal_housing.select(\"totalRooms\", \"totalBedrooms\", \"households\", \"roomsPerHousehold\", \n",
    "                   \"populationPerHousehold\", \"bedroomsPerRoom\").show(5)"
   ]
  },
  {
   "cell_type": "markdown",
   "metadata": {},
   "source": [
    "### Vectorize multiple columns\n",
    "The *VectorAssembler* transforms multiple columns into a vector column."
   ]
  },
  {
   "cell_type": "code",
   "execution_count": 16,
   "metadata": {},
   "outputs": [
    {
     "name": "stdout",
     "output_type": "stream",
     "text": [
      "+----------------+--------------------+\n",
      "|medianHouseValue|            features|\n",
      "+----------------+--------------------+\n",
      "|           4.526|[129.0,322.0,126....|\n",
      "|           3.585|[1106.0,2401.0,11...|\n",
      "|           3.521|[190.0,496.0,177....|\n",
      "|           3.413|[235.0,558.0,219....|\n",
      "|           3.422|[280.0,565.0,259....|\n",
      "|           2.697|[213.0,413.0,193....|\n",
      "|           2.992|[489.0,1094.0,514...|\n",
      "|           2.414|[687.0,1157.0,647...|\n",
      "|           2.267|[665.0,1206.0,595...|\n",
      "|           2.611|[707.0,1551.0,714...|\n",
      "+----------------+--------------------+\n",
      "only showing top 10 rows\n",
      "\n"
     ]
    }
   ],
   "source": [
    "from pyspark.ml.feature import VectorAssembler\n",
    "\n",
    "vectorAssembler = VectorAssembler(inputCols=['totalBedrooms', 'population', 'households', 'medianIncome', \n",
    "                                             'roomsPerHousehold', 'populationPerHousehold', 'bedroomsPerRoom'], \n",
    "                                  outputCol = 'features')\n",
    "\n",
    "cal_housing_vec = vectorAssembler.transform(cal_housing).select(\"medianHouseValue\", \"features\")\n",
    "\n",
    "cal_housing_vec.show(10)"
   ]
  },
  {
   "cell_type": "markdown",
   "metadata": {},
   "source": [
    "### Standardization of Features"
   ]
  },
  {
   "cell_type": "code",
   "execution_count": 17,
   "metadata": {},
   "outputs": [
    {
     "name": "stdout",
     "output_type": "stream",
     "text": [
      "+----------------+--------------------+--------------------+\n",
      "|medianHouseValue|            features|      scaledFeatures|\n",
      "+----------------+--------------------+--------------------+\n",
      "|           4.526|[129.0,322.0,126....|[0.30623297630686...|\n",
      "|           3.585|[1106.0,2401.0,11...|[2.62553233949916...|\n",
      "|           3.521|[190.0,496.0,177....|[0.45104081781631...|\n",
      "|           3.413|[235.0,558.0,219....|[0.55786627466754...|\n",
      "|           3.422|[280.0,565.0,259....|[0.66469173151877...|\n",
      "|           2.697|[213.0,413.0,193....|[0.50564049576249...|\n",
      "|           2.992|[489.0,1094.0,514...|[1.16083663111672...|\n",
      "|           2.414|[687.0,1157.0,647...|[1.63086864126214...|\n",
      "|           2.267|[665.0,1206.0,595...|[1.57864286235709...|\n",
      "|           2.611|[707.0,1551.0,714...|[1.67834662208491...|\n",
      "+----------------+--------------------+--------------------+\n",
      "only showing top 10 rows\n",
      "\n"
     ]
    }
   ],
   "source": [
    "from pyspark.ml.feature import StandardScaler\n",
    "\n",
    "scaler = StandardScaler(inputCol=\"features\", \n",
    "                        outputCol=\"scaledFeatures\", \n",
    "                        withStd=True, \n",
    "                        withMean=False)\n",
    "# Compute summary statistics by fitting the StandardScaler\n",
    "scalerModel = scaler.fit(cal_housing_vec)\n",
    "# Normalize each feature to have unit standard deviation.\n",
    "scaledData = scalerModel.transform(cal_housing_vec)\n",
    "\n",
    "scaledData.show(10)"
   ]
  },
  {
   "cell_type": "markdown",
   "metadata": {},
   "source": [
    "### Splitting Data intro Training and Test Set"
   ]
  },
  {
   "cell_type": "code",
   "execution_count": 18,
   "metadata": {},
   "outputs": [
    {
     "name": "stdout",
     "output_type": "stream",
     "text": [
      "Traing set rows: 14354\n",
      "Testing set rows: 6286\n"
     ]
    }
   ],
   "source": [
    "splits = scaledData.randomSplit([0.7, 0.3],seed=13)\n",
    "train_df = splits[0]\n",
    "test_df = splits[1]\n",
    "print(\"Traing set rows: {}\\nTesting set rows: {}\".format(train_df.count(), test_df.count()))"
   ]
  },
  {
   "cell_type": "markdown",
   "metadata": {},
   "source": [
    "### Train Regression Model"
   ]
  },
  {
   "cell_type": "code",
   "execution_count": 19,
   "metadata": {},
   "outputs": [
    {
     "name": "stdout",
     "output_type": "stream",
     "text": [
      "RMSE: 0.880718\n",
      "r2: 0.417920\n"
     ]
    }
   ],
   "source": [
    "from pyspark.ml.regression import LinearRegression\n",
    "\n",
    "# configure model\n",
    "lr = LinearRegression(featuresCol = 'scaledFeatures', \n",
    "                      labelCol='medianHouseValue', \n",
    "                      maxIter=10, \n",
    "                      regParam=0.3, elasticNetParam=0.8)\n",
    "# Train model\n",
    "model = lr.fit(train_df)\n",
    "\n",
    "trainSummary = model.summary\n",
    "print(\"RMSE: %f\" % trainSummary.rootMeanSquaredError)\n",
    "print(\"r2: %f\" % trainSummary.r2)"
   ]
  },
  {
   "cell_type": "markdown",
   "metadata": {},
   "source": [
    "### Test Regression Model"
   ]
  },
  {
   "cell_type": "code",
   "execution_count": 20,
   "metadata": {},
   "outputs": [
    {
     "name": "stdout",
     "output_type": "stream",
     "text": [
      "R Squared (R2) on test data = 0.418386\n"
     ]
    }
   ],
   "source": [
    "predictions = model.transform(test_df)\n",
    "\n",
    "from pyspark.ml.evaluation import RegressionEvaluator\n",
    "evaluator = RegressionEvaluator(predictionCol=\"prediction\", \n",
    "                                labelCol=\"medianHouseValue\", \n",
    "                                metricName=\"r2\")\n",
    "print(\"R Squared (R2) on test data = %g\" % evaluator.evaluate(predictions))"
   ]
  },
  {
   "attachments": {
    "ml-Pipeline.png": {
     "image/png": "[encoded data removed]"
    }
   },
   "cell_type": "markdown",
   "metadata": {},
   "source": [
    "## ML Pipeline\n",
    "ML Pipelines provide a uniform set of high-level APIs built on top of DataFrames that help users create and tune practical machine learning pipelines ( https://spark.apache.org/docs/latest/ml-pipeline.html ).\n",
    "The pipeline components are:\n",
    "- **Transformer**:  is an abstraction that includes feature transformers and learned models. Implements the *transform()* method and transforms a DataFrame into another DataFrame.\n",
    "- **Estimator**: abstracts the concept of a learning algorithm or any algorithm that fits or trains on data. Implements the *fit()* method. Uses a DataFrame and produces a Model.\n",
    "- **Pipeline**:  is a sequence of estimators and transformers that are run in a specific order.\n",
    "\n",
    "![ml-Pipeline.png](attachment:ml-Pipeline.png) <br>\n",
    "                    <center> <b>Image Source</b>: https://spark.apache.org/docs/2.1.0/ml-pipeline.html</center>\n",
    "\n"
   ]
  },
  {
   "cell_type": "markdown",
   "metadata": {},
   "source": [
    "The following ML pipeline will use the wine data set from http://mlr.cs.umass.edu/ml/machine-learning-databases/wine-quality/winequality-red.csv to predict the wine quality.\n",
    "\n",
    "### Read Data"
   ]
  },
  {
   "cell_type": "code",
   "execution_count": 21,
   "metadata": {},
   "outputs": [
    {
     "name": "stdout",
     "output_type": "stream",
     "text": [
      "+-------------+----------------+-----------+--------------+---------+-------------------+--------------------+-------+----+---------+-------+-------+\n",
      "|fixed_acidity|volatile_acidity|citric_acid|residual_sugar|chlorides|free_sulfur_dioxide|total_sulfur_dioxide|density|  pH|sulphates|alcohol|quality|\n",
      "+-------------+----------------+-----------+--------------+---------+-------------------+--------------------+-------+----+---------+-------+-------+\n",
      "|          7.4|             0.7|        0.0|           1.9|    0.076|               11.0|                34.0| 0.9978|3.51|     0.56|    9.4|      5|\n",
      "|          7.8|            0.88|        0.0|           2.6|    0.098|               25.0|                67.0| 0.9968| 3.2|     0.68|    9.8|      5|\n",
      "|          7.8|            0.76|       0.04|           2.3|    0.092|               15.0|                54.0|  0.997|3.26|     0.65|    9.8|      5|\n",
      "|         11.2|            0.28|       0.56|           1.9|    0.075|               17.0|                60.0|  0.998|3.16|     0.58|    9.8|      6|\n",
      "|          7.4|             0.7|        0.0|           1.9|    0.076|               11.0|                34.0| 0.9978|3.51|     0.56|    9.4|      5|\n",
      "+-------------+----------------+-----------+--------------+---------+-------------------+--------------------+-------+----+---------+-------+-------+\n",
      "only showing top 5 rows\n",
      "\n"
     ]
    }
   ],
   "source": [
    "from pyspark.sql import SparkSession\n",
    "spark = SparkSession.builder.appName(\"spark_ml_app\") .config(conf=SparkConf()).getOrCreate()\n",
    "\n",
    "wines = spark.read.csv(\"winequality-red.csv\", \n",
    "                       header=\"true\", \n",
    "                       sep=\";\", \n",
    "                       inferSchema=\"true\")\n",
    "\n",
    "wines.show(5)"
   ]
  },
  {
   "cell_type": "markdown",
   "metadata": {},
   "source": [
    "### Preprocessing and Train Model"
   ]
  },
  {
   "cell_type": "code",
   "execution_count": 22,
   "metadata": {},
   "outputs": [
    {
     "name": "stdout",
     "output_type": "stream",
     "text": [
      "+-------+----------+\n",
      "|quality|prediction|\n",
      "+-------+----------+\n",
      "|      6|       7.0|\n",
      "|      6|       6.0|\n",
      "|      7|       7.0|\n",
      "|      6|       6.0|\n",
      "|      7|       7.0|\n",
      "|      6|       6.0|\n",
      "|      6|       6.0|\n",
      "|      6|       5.0|\n",
      "|      5|       5.0|\n",
      "|      6|       6.0|\n",
      "+-------+----------+\n",
      "only showing top 10 rows\n",
      "\n"
     ]
    }
   ],
   "source": [
    "from pyspark.ml.feature import Bucketizer\n",
    "from pyspark.ml.feature import VectorAssembler\n",
    "from pyspark.ml.feature import StandardScaler\n",
    "from pyspark.ml.classification import RandomForestClassifier\n",
    "from pyspark.ml import Pipeline\n",
    "\n",
    "# split dataset into train and test\n",
    "splits = wines.randomSplit([0.7, 0.3], seed=13)\n",
    "train_df = splits[0]\n",
    "test_df = splits[1]\n",
    "\n",
    "# create vector from data columns\n",
    "vectorAssembler = VectorAssembler(inputCols=wines.columns[:-1], \n",
    "                                  outputCol='features')\n",
    "\n",
    "scaler = StandardScaler(inputCol=\"features\", \n",
    "                        outputCol=\"scaledFeatures\", \n",
    "                        withStd=False,\n",
    "                        withMean=True)\n",
    "\n",
    "rf = RandomForestClassifier(labelCol=\"quality\", featuresCol=\"scaledFeatures\", numTrees = 10)\n",
    "\n",
    "# Build the pipeline \n",
    "pipeline = Pipeline(stages=[vectorAssembler, scaler, rf])\n",
    "\n",
    "# Train the model\n",
    "model = pipeline.fit(train_df)\n",
    "\n",
    "# Make predictions\n",
    "predictions = model.transform(test_df)\n",
    "predictions.select(\"quality\", \"prediction\").show(10)"
   ]
  },
  {
   "cell_type": "markdown",
   "metadata": {},
   "source": [
    "### Evaluate Model"
   ]
  },
  {
   "cell_type": "code",
   "execution_count": 23,
   "metadata": {},
   "outputs": [
    {
     "name": "stdout",
     "output_type": "stream",
     "text": [
      "Test Error = 0.381339\n"
     ]
    }
   ],
   "source": [
    "from pyspark.ml.evaluation import MulticlassClassificationEvaluator\n",
    "\n",
    "evaluator = MulticlassClassificationEvaluator(labelCol=\"quality\", \n",
    "                                              predictionCol=\"prediction\", \n",
    "                                              metricName=\"accuracy\")\n",
    "accuracy = evaluator.evaluate(predictions)\n",
    "print(\"Test Error = %g\" % (1.0 - accuracy))"
   ]
  },
  {
   "cell_type": "markdown",
   "metadata": {},
   "source": [
    "### Cross Validation in Spark"
   ]
  },
  {
   "cell_type": "code",
   "execution_count": 24,
   "metadata": {},
   "outputs": [
    {
     "name": "stdout",
     "output_type": "stream",
     "text": [
      "Test Error = 0.387424\n"
     ]
    },
    {
     "data": {
      "text/plain": [
       "[VectorAssembler_0d950ae46c31,\n",
       " StandardScaler_0ee53d11b4fa,\n",
       " RandomForestClassificationModel (uid=RandomForestClassifier_68aa17d4f6e2) with 20 trees]"
      ]
     },
     "execution_count": 24,
     "metadata": {},
     "output_type": "execute_result"
    }
   ],
   "source": [
    "from pyspark.ml.tuning import CrossValidator, ParamGridBuilder\n",
    "\n",
    "paramGrid = ParamGridBuilder().addGrid(rf.numTrees, [3, 20]).build()\n",
    "\n",
    "cv = CrossValidator(estimator=pipeline, \n",
    "                    evaluator=evaluator, \n",
    "                    estimatorParamMaps=paramGrid, \n",
    "                    numFolds=3)\n",
    "\n",
    "cvModel = cv.fit(train_df)\n",
    "predictions = cvModel.transform(test_df)\n",
    "\n",
    "accuracy = evaluator.evaluate(predictions)\n",
    "\n",
    "print(\"Test Error = %g\" % (1.0 - accuracy))\n",
    "\n",
    "best_pipeline = cvModel.bestModel\n",
    "best_pipeline.stages"
   ]
  },
  {
   "cell_type": "markdown",
   "metadata": {},
   "source": [
    "## Saving and Loading Model\n",
    "### Save Model"
   ]
  },
  {
   "cell_type": "code",
   "execution_count": 25,
   "metadata": {},
   "outputs": [],
   "source": [
    "model.write().overwrite().save(\"wine-model\")"
   ]
  },
  {
   "cell_type": "markdown",
   "metadata": {},
   "source": [
    "### Load Model"
   ]
  },
  {
   "cell_type": "code",
   "execution_count": 26,
   "metadata": {},
   "outputs": [
    {
     "name": "stdout",
     "output_type": "stream",
     "text": [
      "+-------+----------+\n",
      "|quality|prediction|\n",
      "+-------+----------+\n",
      "|      6|       7.0|\n",
      "|      6|       6.0|\n",
      "|      7|       7.0|\n",
      "|      6|       6.0|\n",
      "|      7|       7.0|\n",
      "|      6|       6.0|\n",
      "|      6|       6.0|\n",
      "|      6|       5.0|\n",
      "|      5|       5.0|\n",
      "|      6|       6.0|\n",
      "+-------+----------+\n",
      "only showing top 10 rows\n",
      "\n"
     ]
    }
   ],
   "source": [
    "from pyspark.ml import PipelineModel\n",
    "# load model from disk\n",
    "wine_model = PipelineModel.read().load(\"wine-model\")\n",
    "\n",
    "# use model to predict\n",
    "predictions = wine_model.transform(test_df)\n",
    "\n",
    "predictions.select(\"quality\", \"prediction\").show(10)"
   ]
  },
  {
   "cell_type": "markdown",
   "metadata": {},
   "source": [
    "### Exercise 01\n",
    "Please download the [titanic data set](https://www.kaggle.com/c/titanic) and predict whether a person is survived or not.Let's look how spark facilitate to save and load model."
   ]
  },
  {
   "cell_type": "markdown",
   "metadata": {},
   "source": [
    "##### Load DataSet"
   ]
  },
  {
   "cell_type": "code",
   "execution_count": 27,
   "metadata": {},
   "outputs": [],
   "source": [
    "#Your code goes here"
   ]
  },
  {
   "cell_type": "markdown",
   "metadata": {},
   "source": [
    "##### Preporcess data\n",
    "\n",
    "- **Handling missing values**: Replace missing values in the age column to the mean of that column.\n",
    "- **Handling categorical columns**: *sex* and *embarked* are categorical variables, so handle them using StringIndexer and OneHotEncoding. You can use some other transformer from Spark's provided transformers as well.\n",
    "- **Define features**: Define your feature attributes using the VectorAssembler."
   ]
  },
  {
   "cell_type": "code",
   "execution_count": 28,
   "metadata": {},
   "outputs": [],
   "source": [
    "#Your code goes here"
   ]
  },
  {
   "cell_type": "markdown",
   "metadata": {},
   "source": [
    "##### Split into training (75%) and testing (25%) data."
   ]
  },
  {
   "cell_type": "code",
   "execution_count": 29,
   "metadata": {},
   "outputs": [],
   "source": [
    "#Your code goes here"
   ]
  },
  {
   "cell_type": "markdown",
   "metadata": {},
   "source": [
    "##### Define pipeline using RandomForest and train the model"
   ]
  },
  {
   "cell_type": "code",
   "execution_count": 30,
   "metadata": {},
   "outputs": [],
   "source": [
    "#Your code goes here"
   ]
  },
  {
   "cell_type": "markdown",
   "metadata": {},
   "source": [
    "##### Test and report accuracy of your model"
   ]
  },
  {
   "cell_type": "code",
   "execution_count": 31,
   "metadata": {},
   "outputs": [],
   "source": [
    "#Your code goes here"
   ]
  },
  {
   "cell_type": "markdown",
   "metadata": {},
   "source": [
    "### Exercise 02\n",
    "\n",
    "Build whole pipeline to perform Kmean clustering on the [Iris dataset](https://archive.ics.uci.edu/ml/datasets/iris)."
   ]
  },
  {
   "cell_type": "code",
   "execution_count": 32,
   "metadata": {},
   "outputs": [],
   "source": [
    "#Your code goes here"
   ]
  },
  {
   "cell_type": "markdown",
   "metadata": {},
   "source": [
    "## References\n",
    "1. [Statistical Data Exploration using Spark](http://blog.madhukaraphatak.com/statistical-data-exploration-spark-part-1/)\n",
    "2. [ML-programming-guide](https://spark.apache.org/docs/latest/ml-guide.html)\n",
    "3. https://www.simplilearn.com/spark-streaming-tutorial-video\n",
    "4. https://spark.apache.org/docs/latest/ml-pipeline.html"
   ]
  }
 ],
 "metadata": {
  "kernelspec": {
   "display_name": "Python 3",
   "language": "python",
   "name": "python3"
  },
  "language_info": {
   "codemirror_mode": {
    "name": "ipython",
    "version": 3
   },
   "file_extension": ".py",
   "mimetype": "text/x-python",
   "name": "python",
   "nbconvert_exporter": "python",
   "pygments_lexer": "ipython3",
   "version": "3.6.8"
  }
 },
 "nbformat": 4,
 "nbformat_minor": 2
}
