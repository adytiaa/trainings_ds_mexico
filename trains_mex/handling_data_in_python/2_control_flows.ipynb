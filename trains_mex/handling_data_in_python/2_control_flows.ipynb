{
 "cells": [
  {
   "cell_type": "markdown",
   "metadata": {},
   "source": [
    "# `range` statement\n",
    "* \"The `range` type represents an immutable sequence of numbers and is commonly used for looping a specific number of times in `for` loops\"\n",
    "\n",
    "`range(stop)`\n",
    "\n",
    "`range(start, stop[, step])`\n",
    "\n",
    "* \"The arguments to the range constructor must be integers\"\n",
    "* \"If the step argument is omitted, it defaults to 1\"\n",
    "* \"If the start argument is omitted, it defaults to 0\"\n",
    "* \"If step is zero, ValueError is raised.\"\n",
    "\n",
    "https://docs.python.org/3/library/stdtypes.html#ranges"
   ]
  },
  {
   "cell_type": "code",
   "execution_count": 1,
   "metadata": {},
   "outputs": [
    {
     "name": "stdout",
     "output_type": "stream",
     "text": [
      "0\n",
      "1\n",
      "2\n",
      "3\n",
      "4\n"
     ]
    }
   ],
   "source": [
    "for i in range(5):\n",
    "    print(i)"
   ]
  },
  {
   "cell_type": "code",
   "execution_count": 2,
   "metadata": {},
   "outputs": [
    {
     "name": "stdout",
     "output_type": "stream",
     "text": [
      "10\n",
      "8\n",
      "6\n",
      "4\n",
      "2\n"
     ]
    }
   ],
   "source": [
    "for i in range(10, 1, -2):\n",
    "    print(i)"
   ]
  },
  {
   "cell_type": "markdown",
   "metadata": {},
   "source": [
    "# `if` Statements\n",
    "* \"The `if` statement is used for conditional execution\"\n",
    "* one `if` statement, zero or more `elif` parts, and one optional `else` part\n",
    "* `elif` is a abbreviation of 'else if'\n",
    "* Same usage as `switch` or `case` statements in other programming languages\n",
    "\n",
    "https://docs.python.org/3/reference/compound_stmts.html#if\n",
    "\n",
    "https://docs.python.org/3/tutorial/controlflow.html#if-statements"
   ]
  },
  {
   "cell_type": "code",
   "execution_count": 3,
   "metadata": {},
   "outputs": [
    {
     "name": "stdout",
     "output_type": "stream",
     "text": [
      "3 is a positive number\n",
      "-20 is a negative number\n",
      "0 is zero\n"
     ]
    }
   ],
   "source": [
    "def check_number_sign(x):\n",
    "    if x < 0:\n",
    "        print(\"{} is a negative number\".format(x))\n",
    "    elif x > 0:\n",
    "        print(\"{} is a positive number\".format(x))\n",
    "    else:\n",
    "        print(\"{} is zero\".format(x))\n",
    "\n",
    "check_number_sign(3)\n",
    "check_number_sign(-20)\n",
    "check_number_sign(0)"
   ]
  },
  {
   "cell_type": "markdown",
   "metadata": {},
   "source": [
    "# `for` Statements\n",
    "* \"The `for` statement is used to iterate over the elements of a sequence (such as a string, tuple or list) or other iterable object\"\n",
    "\n",
    "https://docs.python.org/3/reference/compound_stmts.html#the-for-statement\n",
    "\n",
    "https://docs.python.org/3/tutorial/controlflow.html#for-statements"
   ]
  },
  {
   "cell_type": "code",
   "execution_count": 4,
   "metadata": {},
   "outputs": [
    {
     "name": "stdout",
     "output_type": "stream",
     "text": [
      "0\n",
      "1\n",
      "2\n",
      "3\n",
      "4\n"
     ]
    }
   ],
   "source": [
    "for x in range(5):\n",
    "    print(x)"
   ]
  },
  {
   "cell_type": "code",
   "execution_count": 5,
   "metadata": {},
   "outputs": [
    {
     "name": "stdout",
     "output_type": "stream",
     "text": [
      "some\n",
      "words\n",
      "in\n",
      "a\n",
      "list\n"
     ]
    }
   ],
   "source": [
    "for x in [\"some\", \"words\", \"in\", \"a\", \"list\"]:\n",
    "    print(x)"
   ]
  },
  {
   "cell_type": "markdown",
   "metadata": {},
   "source": [
    "# `while` Statements\n",
    "* \"The `while` statement is used for repeated execution as long as an expression is true\"\n",
    "* \"This repeatedly tests the expression and, if it is true, executes the first suite; if the expression is false (which may be the first time it is tested) the suite of the `else` clause, if present, is executed and the loop terminates.\"\n",
    "* Easy to create infinite loops with the `while` statement (be careful when using it)\n",
    "\n",
    "https://docs.python.org/3/reference/compound_stmts.html#the-while-statement"
   ]
  },
  {
   "cell_type": "code",
   "execution_count": 6,
   "metadata": {},
   "outputs": [
    {
     "name": "stdout",
     "output_type": "stream",
     "text": [
      "0 is smaller than 5\n",
      "1 is smaller than 5\n",
      "2 is smaller than 5\n",
      "3 is smaller than 5\n",
      "4 is smaller than 5\n"
     ]
    }
   ],
   "source": [
    "x = 0\n",
    "while x < 5:\n",
    "    print(\"{} is smaller than 5\".format(x))\n",
    "    x+=1"
   ]
  },
  {
   "cell_type": "markdown",
   "metadata": {},
   "source": [
    "# `break` and `continue` Statements\n",
    "## `break`\n",
    "* \"The `break` statement (...) breaks out of the **innermost** enclosing `for` or `while` loop.\"\n",
    "\n",
    "https://docs.python.org/3/tutorial/controlflow.html#break-and-continue-statements-and-else-clauses-on-loops"
   ]
  },
  {
   "cell_type": "code",
   "execution_count": 7,
   "metadata": {},
   "outputs": [
    {
     "name": "stdout",
     "output_type": "stream",
     "text": [
      "c\n",
      "h\n",
      "a\n"
     ]
    }
   ],
   "source": [
    "for c in \"characters\":\n",
    "    if c == \"r\":\n",
    "        break\n",
    "    print(c)"
   ]
  },
  {
   "cell_type": "markdown",
   "metadata": {},
   "source": [
    "## `continue`\n",
    "* The `continue` statement \"continues with the next iteration of the loop\"\n",
    "\n",
    "https://docs.python.org/3/tutorial/controlflow.html#break-and-continue-statements-and-else-clauses-on-loops"
   ]
  },
  {
   "cell_type": "code",
   "execution_count": 8,
   "metadata": {},
   "outputs": [
    {
     "name": "stdout",
     "output_type": "stream",
     "text": [
      "c\n",
      "h\n",
      "a\n",
      "a\n",
      "c\n",
      "t\n",
      "e\n",
      "s\n"
     ]
    }
   ],
   "source": [
    "for c in \"characters\":\n",
    "    if c == \"r\":\n",
    "        continue\n",
    "    print(c)"
   ]
  },
  {
   "cell_type": "markdown",
   "metadata": {},
   "source": [
    "# `else` Clauses on Loops\n",
    "* The `else` clause of a loop is \"executed when the loop terminates through exhaustion of the list (with for) or when the condition becomes false (with while)\"\n",
    "* Not executed \"when the loop is terminated by a `break` statement\"\n",
    "\n",
    "https://docs.python.org/3/tutorial/controlflow.html#break-and-continue-statements-and-else-clauses-on-loops"
   ]
  },
  {
   "cell_type": "code",
   "execution_count": 9,
   "metadata": {},
   "outputs": [
    {
     "name": "stdout",
     "output_type": "stream",
     "text": [
      "c\n",
      "h\n",
      "a\n",
      "r\n",
      "a\n",
      "c\n",
      "t\n",
      "e\n",
      "r\n",
      "s\n",
      "No more characters...\n"
     ]
    }
   ],
   "source": [
    "for c in \"characters\":\n",
    "    print(c)\n",
    "else:\n",
    "    print(\"No more characters...\")"
   ]
  },
  {
   "cell_type": "code",
   "execution_count": 10,
   "metadata": {},
   "outputs": [
    {
     "name": "stdout",
     "output_type": "stream",
     "text": [
      "0 is smaller than 5\n",
      "1 is smaller than 5\n",
      "2 is smaller than 5\n",
      "3 is smaller than 5\n",
      "4 is smaller than 5\n",
      "5 is not smaller than 5 anymore. while loop is terminating...\n"
     ]
    }
   ],
   "source": [
    "x = 0\n",
    "while x < 5:\n",
    "    print(\"{} is smaller than 5\".format(x))\n",
    "    x+=1\n",
    "else:\n",
    "    print(\"{} is not smaller than 5 anymore. while loop is terminating...\".format(x))"
   ]
  },
  {
   "cell_type": "markdown",
   "metadata": {},
   "source": [
    "# `pass` Statement\n",
    "* \"The `pass` statement does nothing\"\n",
    "* \"It can be used when a statement is required syntactically but the program requires no action\"\n",
    "\n",
    "https://docs.python.org/3/tutorial/controlflow.html#pass-statements"
   ]
  },
  {
   "cell_type": "code",
   "execution_count": 11,
   "metadata": {},
   "outputs": [],
   "source": [
    "# create a minimal class\n",
    "class EmptyClass:\n",
    "    pass\n",
    "\n",
    "def func():\n",
    "    pass  # Implement this later!"
   ]
  },
  {
   "cell_type": "markdown",
   "metadata": {},
   "source": [
    "# Python Operators Overview\n",
    "from https://www.tutorialspoint.com/python/python_basic_operators.htm\n",
    "\n",
    "## Arithmetic Operators\n",
    "\n",
    "| Operator  | Description     | Example      |\n",
    "|:----------|:----------------|:-------------|\n",
    "| `+`       | Addition        | `a = 3 + 4`  |\n",
    "| `-`       | Substraction    | `a = 3 - 4`  |\n",
    "| `*`       | Multiplication  | `a = 3 * 4`  |\n",
    "| `/`       | Division        | `a = 3 / 4`  |\n",
    "| `%`       | Modulus         | `a = 3 % 4`  |\n",
    "| `**`      | Exponent        | `a = 3 ** 4` |\n",
    "| `//`      | Floor Division  | `a = 3 // 4` |\n",
    "\n",
    "## Comparison Operators\n",
    "| Operator     | Description      | Example  |\n",
    "|:-------------|:-----------------|:---------|\n",
    "| `==`         | Equality         | `a == 3` |\n",
    "| `!=` (or`<>`)| Inqeuality       | `a != 3` |\n",
    "| `>`          | Greater than     | `a > 3`  |\n",
    "| `<`          | Less than        | `a < 3`  |\n",
    "| `>=`         | Greater or equal | `a >= 3` |\n",
    "| `<=`         | Less or equal    | `a <= 3` |\n",
    "\n",
    "## Assignment Operators\n",
    "| Operator  | Description        | Example   |\n",
    "|:----------|:-------------------|:----------|\n",
    "| `=`       | Assign             | `a = 3`   |\n",
    "| `+=`      | Add AND            | `a += 3`  |\n",
    "| `-=`      | Substract AND      | `a -= 3`  |\n",
    "| `*=`      | Multiply AND       | `a *= 3`  |\n",
    "| `/=`      | Divide AND         | `a /= 3`  |\n",
    "| `%=`      | Modulus AND        | `a %= 3`  |\n",
    "| `**=`     | Esponent AND       | `a **= 3` |\n",
    "| `//=`     | Floor Division AND | `a //= 3` |\n",
    "\n",
    "## Logical Operators\n",
    "| Operator  | Description     | Example   |\n",
    "|:----------|:----------------|:----------|\n",
    "| `and`     | Logical AND     | `a and b` |\n",
    "| `or`      | Logical OR      | `a or b`  |\n",
    "| `not`     | Logical NOT     | `not a`   |\n",
    "\n",
    "## Membership Operators\n",
    "| Operator  | Description            | Example      |\n",
    "|:----------|:-----------------------|:-------------|\n",
    "| `in`      | Member of sequence     | `a in b`     |\n",
    "| `not in`  | Not member of sequence | `a not in b` |\n",
    "\n",
    "## Identity Operators\n",
    "| Operator  | Description            | Example      |\n",
    "|:----------|:-----------------------|:-------------|\n",
    "| `is`      | Identity (same object) | `a is b`     |\n",
    "| `is not`  | Not the same object    | `a is not b` |\n",
    "\n",
    "Check also https://docs.python.org/3/reference/expressions.html#comparisons and https://docs.python.org/3/reference/expressions.html#operator-precedence for the operator precedence.\n"
   ]
  },
  {
   "cell_type": "markdown",
   "metadata": {},
   "source": [
    "# Iterables, Iterators, List Comprehension, Generators\n",
    "\n",
    "## Iterable\n",
    "* \"An object capable of returning its members one at a time\"\n",
    "* \"Examples of iterables include all sequence types (such as list, str, and tuple) and some non-sequence types like dict, file objects, and objects of any classes you define with an `__iter__()` method or with a `__getitem__()` method that implements Sequence semantics\"\n",
    "* \"Iterables can be used in a for loop and in many other places where a sequence is needed (zip(), map(), …)\"\n",
    "* \"When an iterable object is passed as an argument to the built-in function iter(), it returns an iterator for the object\"\n",
    "\n",
    "\n",
    "`x = [0, 1, 2]` makes x an iterable.\n",
    "\n",
    "https://docs.python.org/3/glossary.html#term-iterable\n",
    "\n",
    "\n",
    "## Iterator\n",
    "* \"An object representing a stream of data\"\n",
    "* \"Repeated calls to the iterator’s __next__() method (or passing it to the built-in function next()) return successive items in the stream\"\n",
    "* Has an internal state for keeping track of which value to return next\n",
    "\n",
    "`y = iter([0, 1, 2])` makes y an iterator.\n",
    "\n",
    "https://docs.python.org/3/glossary.html#term-iterator"
   ]
  },
  {
   "cell_type": "code",
   "execution_count": 12,
   "metadata": {},
   "outputs": [
    {
     "data": {
      "text/plain": [
       "[0, 1, 2]"
      ]
     },
     "execution_count": 12,
     "metadata": {},
     "output_type": "execute_result"
    }
   ],
   "source": [
    "x = [0, 1, 2]\n",
    "x"
   ]
  },
  {
   "cell_type": "code",
   "execution_count": 13,
   "metadata": {},
   "outputs": [
    {
     "name": "stdout",
     "output_type": "stream",
     "text": [
      "0\n",
      "1\n",
      "2\n"
     ]
    }
   ],
   "source": [
    "for i in iter(x):\n",
    "    print(i)"
   ]
  },
  {
   "cell_type": "code",
   "execution_count": 14,
   "metadata": {},
   "outputs": [
    {
     "data": {
      "text/plain": [
       "<list_iterator at 0x7fa110055940>"
      ]
     },
     "execution_count": 14,
     "metadata": {},
     "output_type": "execute_result"
    }
   ],
   "source": [
    "y = iter(x)\n",
    "y"
   ]
  },
  {
   "cell_type": "code",
   "execution_count": 15,
   "metadata": {},
   "outputs": [
    {
     "data": {
      "text/plain": [
       "0"
      ]
     },
     "execution_count": 15,
     "metadata": {},
     "output_type": "execute_result"
    }
   ],
   "source": [
    "next(y)"
   ]
  },
  {
   "cell_type": "code",
   "execution_count": 25,
   "metadata": {},
   "outputs": [
    {
     "ename": "StopIteration",
     "evalue": "",
     "output_type": "error",
     "traceback": [
      "\u001b[0;31m---------------------------------------------------------------------------\u001b[0m",
      "\u001b[0;31mStopIteration\u001b[0m                             Traceback (most recent call last)",
      "\u001b[0;32m<ipython-input-25-81b9d2f0f16a>\u001b[0m in \u001b[0;36m<module>\u001b[0;34m\u001b[0m\n\u001b[0;32m----> 1\u001b[0;31m \u001b[0mnext\u001b[0m\u001b[0;34m(\u001b[0m\u001b[0my\u001b[0m\u001b[0;34m)\u001b[0m\u001b[0;34m\u001b[0m\u001b[0;34m\u001b[0m\u001b[0m\n\u001b[0m",
      "\u001b[0;31mStopIteration\u001b[0m: "
     ]
    }
   ],
   "source": [
    "next(y)"
   ]
  },
  {
   "cell_type": "code",
   "execution_count": 24,
   "metadata": {},
   "outputs": [],
   "source": [
    "for i in y:\n",
    "    print(i)"
   ]
  },
  {
   "cell_type": "markdown",
   "metadata": {},
   "source": [
    "## List Comprehension\n",
    "`[expression for item in list if conditional]`\n",
    "\n",
    "`for item in list:\n",
    "    if conditional:\n",
    "        expression`\n",
    "* Use when you iterate multiple times\n",
    "* Creates a list in memory before iterating\n",
    "\n",
    "https://docs.python.org/3/library/stdtypes.html#lists\n",
    "\n",
    "https://stackoverflow.com/questions/47789/generator-expressions-vs-list-comprehension"
   ]
  },
  {
   "cell_type": "code",
   "execution_count": 26,
   "metadata": {},
   "outputs": [
    {
     "name": "stdout",
     "output_type": "stream",
     "text": [
      "0 is smaller than 3\n",
      "1 is smaller than 3\n",
      "2 is smaller than 3\n"
     ]
    }
   ],
   "source": [
    "# simple for loop\n",
    "for i in range(5):\n",
    "    if i < 3:\n",
    "        print(\"{} is smaller than 3\".format(i))"
   ]
  },
  {
   "cell_type": "code",
   "execution_count": 27,
   "metadata": {},
   "outputs": [
    {
     "name": "stdout",
     "output_type": "stream",
     "text": [
      "0 is smaller than 3\n",
      "1 is smaller than 3\n",
      "2 is smaller than 3\n"
     ]
    },
    {
     "data": {
      "text/plain": [
       "[None, None, None]"
      ]
     },
     "execution_count": 27,
     "metadata": {},
     "output_type": "execute_result"
    }
   ],
   "source": [
    "# same statement with list comprehension\n",
    "[print(\"{} is smaller than 3\".format(i)) for i in range(5) if i < 3]"
   ]
  },
  {
   "cell_type": "markdown",
   "metadata": {},
   "source": [
    "## Yield Statement\n",
    "* Similar to the `return` statement\n",
    "* Returns a generator\n",
    "* Stack is not cleaned (unlike return) and state resumes for the next function call\n",
    "\n",
    "https://docs.python.org/3/reference/expressions.html#yield-expressions\n",
    "\n",
    "## Generator\n",
    "`def gen():\n",
    "    yield 123`\n",
    "* \"A function which returns a generator iterator\"\n",
    "* \"It looks like a normal function except that it contains `yield` expressions for producing a series of values usable in a for-loop or that can be retrieved one at a time with the `next()` function\"\n",
    "* Use when you iterate once\n",
    "* Creates items \"on the fly\"\n",
    "\n",
    "### Generator Iterator\n",
    "* \"An object created by a generator function.\"\n",
    "* Rememebers the current execution state and continues the execution from that state for the next function call\n",
    "\n",
    "### Generator Expression\n",
    "* \"An expression that returns an iterator\"\n",
    "* \"It looks like a normal expression followed by a `for` clause defining a loop variable, range, and an optional `if` clause\"\n",
    "* \"The combined expression generates values for an enclosing function: \n",
    "\n",
    "https://docs.python.org/3/glossary.html#term-generator\n",
    "\n",
    "https://stackoverflow.com/questions/231767/what-does-the-yield-keyword-do"
   ]
  },
  {
   "cell_type": "code",
   "execution_count": 28,
   "metadata": {},
   "outputs": [
    {
     "data": {
      "text/plain": [
       "285"
      ]
     },
     "execution_count": 28,
     "metadata": {},
     "output_type": "execute_result"
    }
   ],
   "source": [
    "# generator expression\n",
    "# sum of squares 0, 1, 4, ... 81\n",
    "sum(i*i for i in range(10))"
   ]
  },
  {
   "cell_type": "markdown",
   "metadata": {},
   "source": [
    "# Exercises\n",
    "\n",
    "## Brackets\n",
    "*When to use which brackets: `()`, `[]`, `{}`?*\n",
    "\n",
    "What is the result and type of the following statements?"
   ]
  },
  {
   "cell_type": "code",
   "execution_count": 29,
   "metadata": {},
   "outputs": [
    {
     "data": {
      "text/plain": [
       "23"
      ]
     },
     "execution_count": 29,
     "metadata": {},
     "output_type": "execute_result"
    }
   ],
   "source": [
    "3 + 4 * 5"
   ]
  },
  {
   "cell_type": "code",
   "execution_count": 30,
   "metadata": {},
   "outputs": [
    {
     "data": {
      "text/plain": [
       "27"
      ]
     },
     "execution_count": 30,
     "metadata": {},
     "output_type": "execute_result"
    }
   ],
   "source": [
    "3 * (4 + 5)"
   ]
  },
  {
   "cell_type": "code",
   "execution_count": 31,
   "metadata": {},
   "outputs": [
    {
     "data": {
      "text/plain": [
       "tuple"
      ]
     },
     "execution_count": 31,
     "metadata": {},
     "output_type": "execute_result"
    }
   ],
   "source": [
    "a = ()\n",
    "type(a)"
   ]
  },
  {
   "cell_type": "code",
   "execution_count": 32,
   "metadata": {},
   "outputs": [
    {
     "data": {
      "text/plain": [
       "list"
      ]
     },
     "execution_count": 32,
     "metadata": {},
     "output_type": "execute_result"
    }
   ],
   "source": [
    "b = []\n",
    "type(b)"
   ]
  },
  {
   "cell_type": "code",
   "execution_count": 33,
   "metadata": {},
   "outputs": [
    {
     "data": {
      "text/plain": [
       "dict"
      ]
     },
     "execution_count": 33,
     "metadata": {},
     "output_type": "execute_result"
    }
   ],
   "source": [
    "c = {}\n",
    "type(c)"
   ]
  },
  {
   "cell_type": "code",
   "execution_count": 34,
   "metadata": {},
   "outputs": [
    {
     "data": {
      "text/plain": [
       "dict"
      ]
     },
     "execution_count": 34,
     "metadata": {},
     "output_type": "execute_result"
    }
   ],
   "source": [
    "d = {\"one\": 1, \"two\": 2}\n",
    "type(d)"
   ]
  },
  {
   "cell_type": "code",
   "execution_count": 35,
   "metadata": {},
   "outputs": [
    {
     "data": {
      "text/plain": [
       "set"
      ]
     },
     "execution_count": 35,
     "metadata": {},
     "output_type": "execute_result"
    }
   ],
   "source": [
    "e = {1, 2}\n",
    "type(e)"
   ]
  },
  {
   "cell_type": "code",
   "execution_count": 36,
   "metadata": {},
   "outputs": [
    {
     "data": {
      "text/plain": [
       "set()"
      ]
     },
     "execution_count": 36,
     "metadata": {},
     "output_type": "execute_result"
    }
   ],
   "source": [
    "set()"
   ]
  },
  {
   "cell_type": "markdown",
   "metadata": {},
   "source": [
    "## Conditional Statements and Loops\n",
    "Questions from https://www.w3resource.com/python-exercises/python-conditional-statements-and-loop-exercises.php.\n",
    "* Write a Python program to find those numbers which are divisible by 7 and multiple of 5, between 1500 and 2700 (both included). \n",
    "* Write a Python program to convert temperatures to and from celsius, fahrenheit. ```[ Formula : c/5 = (f-32)/9 [ where c = temperature in celsius and f = temperature in fahrenheit ]```. Expected Output : 60°C is 140 in Fahrenheit. 45°F is 7 in Celsius.\n",
    "* Write a Python program to construct the following pattern, using a nested for loop:\n",
    "\n",
    "```\n",
    "* \n",
    "* * \n",
    "* * * \n",
    "* * * * \n",
    "* * * * * \n",
    "* * * * \n",
    "* * * \n",
    "* * \n",
    "*\n",
    "\n",
    "```\n",
    "* Write a Python program that prints all the numbers from 0 to 6 except 3 and 6. Note : Use 'continue' statement. Expected Output : 0 1 2 4 5 \n",
    "* Write a Python program to get the Fibonacci series between 0 to 50. Note : The Fibonacci Sequence is the series of numbers: 0, 1, 1, 2, 3, 5, 8, 13, 21, .... Every next number is found by adding up the two numbers before it. Expected Output : 1 1 2 3 5 8 13 21 34\n",
    "* Write a Python program to check the validity of password input by users. Validation :\n",
    "  * At least 1 letter between [a-z] and 1 letter between [A-Z].\n",
    "  * At least 1 number between [0-9].\n",
    "  * At least 1 character from \\[\\$\\#\\@\\].\n",
    "  * Minimum length 6 characters.\n",
    "  * Maximum length 16 characters.\n",
    "* Write a Python program to calculate a dog's age in human years. Note: For the first two years, a dog year is equal to 10.5 human years. After that, each dog year equals 4 human years. Expected Output: Input a dog's age in human years: 15. The dog's age in dog's years is 73\n",
    "*  Write a Python program to check whether an alphabet is a vowel or consonant.\n",
    "* Write a Python program to display astrological sign for given date of birth. Expected Output: Input birthday: 15. Input month of birth (e.g. march, july etc): may. Your Astrological sign is : Taurus.\n",
    "* Write a Python program to construct the following pattern, using a nested loop number. Expected Output:\n",
    "```\n",
    "1\n",
    "22\n",
    "333\n",
    "4444\n",
    "55555\n",
    "666666\n",
    "7777777\n",
    "88888888\n",
    "999999999\n",
    "```"
   ]
  },
  {
   "cell_type": "code",
   "execution_count": null,
   "metadata": {
    "scrolled": true
   },
   "outputs": [],
   "source": [
    "# divisible by 7 and multiple of 5, between 1500 and 2700 (both included).\n",
    "[i for i in range(1500, 2701) if i % 7 == 0 and i % 5 == 0]"
   ]
  },
  {
   "cell_type": "code",
   "execution_count": null,
   "metadata": {},
   "outputs": [],
   "source": []
  },
  {
   "cell_type": "code",
   "execution_count": null,
   "metadata": {},
   "outputs": [],
   "source": []
  },
  {
   "cell_type": "markdown",
   "metadata": {},
   "source": [
    "# Exercise Solutions\n",
    "## Brackets\n",
    "\n",
    "* Use `()` for\n",
    "  * mathematical order of operations\n",
    "  * tuples\n",
    "  * generator expressions\n",
    "  * function calls\n",
    "  \n",
    "* Use `[]` for\n",
    "  * lists\n",
    "  * list comprehensions\n",
    "  * indexing / slicing / lookup\n",
    "\n",
    "* Use `{}` for\n",
    "  * dictionaries\n",
    "  * sets\n",
    "  \n",
    "## Conditional Statements and Loops"
   ]
  },
  {
   "cell_type": "code",
   "execution_count": null,
   "metadata": {},
   "outputs": [],
   "source": [
    "# Write a Python program to find those numbers which are divisible by 7 and multiple of 5, \n",
    "# between 1500 and 2700 (both included). \n",
    "# https://www.w3resource.com/python-exercises/python-conditional-exercise-1.php\n",
    "\n",
    "nl=[]\n",
    "for x in range(1500, 2701):\n",
    "    if (x%7==0) and (x%5==0):\n",
    "        nl.append(str(x))\n",
    "print (','.join(nl))"
   ]
  },
  {
   "cell_type": "code",
   "execution_count": null,
   "metadata": {},
   "outputs": [],
   "source": [
    "# Write a Python program to convert temperatures to and from celsius, fahrenheit. \n",
    "# [ Formula : c/5 = f-32/9 [ where c = temperature in celsius and f = temperature in fahrenheit ].\n",
    "# Expected Output : 60°C is 140 in Fahrenheit. 45°F is 7 in Celsius.\n",
    "# https://www.w3resource.com/python-exercises/python-conditional-exercise-2.php\n",
    "\n",
    "\n",
    "temp = input(\"Input the  temperature you like to convert? (e.g., 45F, 102C etc.) : \")\n",
    "degree = int(temp[:-1])\n",
    "i_convention = temp[-1]\n",
    "\n",
    "if i_convention.upper() == \"C\":\n",
    "    result = int(round((9 * degree) / 5 + 32))\n",
    "    o_convention = \"Fahrenheit\"\n",
    "elif i_convention.upper() == \"F\":\n",
    "    result = int(round((degree - 32) * 5 / 9))\n",
    "    o_convention = \"Celsius\"\n",
    "else:\n",
    "    print(\"Input proper convention.\")\n",
    "    quit()\n",
    "print(\"The temperature in\", o_convention, \"is\", result, \"degrees.\")"
   ]
  },
  {
   "cell_type": "code",
   "execution_count": null,
   "metadata": {},
   "outputs": [],
   "source": [
    "# Write a Python program to construct the following pattern, using a nested for loop:\n",
    "# * \n",
    "# * * \n",
    "# * * * \n",
    "# * * * * \n",
    "# * * * * * \n",
    "# * * * * \n",
    "# * * * \n",
    "# * * \n",
    "# *\n",
    "# https://www.w3resource.com/python-exercises/python-conditional-exercise-4.php\n",
    "\n",
    "n=5;\n",
    "for i in range(n):\n",
    "    for j in range(i):\n",
    "        print ('* ', end=\"\")\n",
    "    print('')\n",
    "\n",
    "for i in range(n,0,-1):\n",
    "    for j in range(i):\n",
    "        print('* ', end=\"\")\n",
    "    print('')"
   ]
  },
  {
   "cell_type": "code",
   "execution_count": null,
   "metadata": {},
   "outputs": [],
   "source": [
    "# Write a Python program that prints all the numbers from 0 to 6 except 3 and 6. \n",
    "# Note : Use 'continue' statement. Expected Output : 0 1 2 4 5 \n",
    "# https://www.w3resource.com/python-exercises/python-conditional-exercise-8.php\n",
    "\n",
    "for x in range(6):\n",
    "    if (x == 3 or x==6):\n",
    "        continue\n",
    "    print(x,end=' ')"
   ]
  },
  {
   "cell_type": "code",
   "execution_count": null,
   "metadata": {},
   "outputs": [],
   "source": [
    "# Write a Python program to get the Fibonacci series between 0 to 50. \n",
    "# Note : The Fibonacci Sequence is the series of numbers: 0, 1, 1, 2, 3, 5, 8, 13, 21, ... \n",
    "# Every next number is found by adding up the two numbers before it. Expected Output : 1 1 2 3 5 8 13 21 34\n",
    "# https://www.w3resource.com/python-exercises/python-conditional-exercise-9.php\n",
    "\n",
    "x, y = 0, 1\n",
    "\n",
    "while y<50:\n",
    "    print(y)\n",
    "    x, y = y, x+y\n"
   ]
  },
  {
   "cell_type": "code",
   "execution_count": null,
   "metadata": {},
   "outputs": [],
   "source": [
    "# Write a Python program to check the validity of password input by users. Validation :\n",
    "#  * At least 1 letter between [a-z] and 1 letter between [A-Z].\n",
    "#  * At least 1 number between [0-9].\n",
    "#  * At least 1 character from \\[\\$\\#\\@\\].\n",
    "#  * Minimum length 6 characters.\n",
    "#  * Maximum length 16 characters.\n",
    "# https://www.w3resource.com/python-exercises/python-conditional-exercise-15.php\n",
    "\n",
    "import re\n",
    "p= input(\"Input your password\")\n",
    "x = True\n",
    "while x:  \n",
    "    if (len(p)<6 or len(p)>12):\n",
    "        break\n",
    "    elif not re.search(\"[a-z]\",p):\n",
    "        break\n",
    "    elif not re.search(\"[0-9]\",p):\n",
    "        break\n",
    "    elif not re.search(\"[A-Z]\",p):\n",
    "        break\n",
    "    elif not re.search(\"[$#@]\",p):\n",
    "        break\n",
    "    elif re.search(\"\\s\",p):\n",
    "        break\n",
    "    else:\n",
    "        print(\"Valid Password\")\n",
    "        x=False\n",
    "        break\n",
    "\n",
    "if x:\n",
    "    print(\"Not a Valid Password\")"
   ]
  },
  {
   "cell_type": "code",
   "execution_count": null,
   "metadata": {},
   "outputs": [],
   "source": [
    "# Write a Python program to calculate a dog's age in human years. \n",
    "# Note: For the first two years, a dog year is equal to 10.5 human years. \n",
    "# After that, each dog year equals 4 human years. \n",
    "# Expected Output: Input a dog's age in human years: 15. The dog's age in dog's years is 73\n",
    "# https://www.w3resource.com/python-exercises/python-conditional-exercise-31.php\n",
    "\n",
    "h_age = int(input(\"Input a dog's age: \"))\n",
    "\n",
    "if h_age < 0:\n",
    "    print(\"Age must be positive number.\")\n",
    "    exit()\n",
    "elif h_age <= 2:\n",
    "    d_age = h_age * 10.5\n",
    "else:\n",
    "    d_age = 21 + (h_age - 2)*4\n",
    "\n",
    "print(\"The dog's age in human years is\", d_age)"
   ]
  },
  {
   "cell_type": "code",
   "execution_count": null,
   "metadata": {},
   "outputs": [],
   "source": [
    "# Write a Python program to check whether an alphabet is a vowel or consonant.\n",
    "# https://www.w3resource.com/python-exercises/python-conditional-exercise-32.php\n",
    "\n",
    "l = input(\"Input a letter of the alphabet: \")\n",
    "\n",
    "if l in ('a', 'e', 'i', 'o', 'u'):\n",
    "    print(\"%s is a vowel.\" % l)\n",
    "elif l == 'y':\n",
    "    print(\"Sometimes letter y stand for vowel, sometimes stand for consonant.\")\n",
    "else:\n",
    "    print(\"%s is a consonant.\" % l) "
   ]
  },
  {
   "cell_type": "code",
   "execution_count": null,
   "metadata": {},
   "outputs": [],
   "source": [
    "# Write a Python program to display astrological sign for given date of birth. \n",
    "# Expected Output: \n",
    "# Input birthday: 15\n",
    "# Input month of birth (e.g. march, july etc): may\n",
    "# Your Astrological sign is : Taurus.\n",
    "# https://www.w3resource.com/python-exercises/python-conditional-exercise-38.php\n",
    "\n",
    "day = int(input(\"Input your day of birth: \"))\n",
    "month = input(\"Input month of birth (e.g. march, july etc): \")\n",
    "if month == 'december':\n",
    "    astro_sign = 'Sagittarius' if (day < 22) else 'capricorn'\n",
    "elif month == 'january':\n",
    "    astro_sign = 'Capricorn' if (day < 20) else 'aquarius'\n",
    "elif month == 'february':\n",
    "    astro_sign = 'Aquarius' if (day < 19) else 'pisces'\n",
    "elif month == 'march':\n",
    "    astro_sign = 'Pisces' if (day < 21) else 'aries'\n",
    "elif month == 'april':\n",
    "    astro_sign = 'Aries' if (day < 20) else 'taurus'\n",
    "elif month == 'may':\n",
    "    astro_sign = 'Taurus' if (day < 21) else 'gemini'\n",
    "elif month == 'june':\n",
    "    astro_sign = 'Gemini' if (day < 21) else 'cancer'\n",
    "elif month == 'july':\n",
    "    astro_sign = 'Cancer' if (day < 23) else 'leo'\n",
    "elif month == 'august':\n",
    "    astro_sign = 'Leo' if (day < 23) else 'virgo'\n",
    "elif month == 'september':\n",
    "    astro_sign = 'Virgo' if (day < 23) else 'libra'\n",
    "elif month == 'october':\n",
    "    astro_sign = 'Libra' if (day < 23) else 'scorpio'\n",
    "elif month == 'november':\n",
    "    astro_sign = 'scorpio' if (day < 22) else 'sagittarius'\n",
    "print(\"Your Astrological sign is :\",astro_sign)"
   ]
  },
  {
   "cell_type": "code",
   "execution_count": null,
   "metadata": {},
   "outputs": [],
   "source": [
    "# Write a Python program to construct the following pattern, using a nested loop number. Expected Output:\n",
    "# 1\n",
    "# 22\n",
    "# 333\n",
    "# 4444\n",
    "# 55555\n",
    "# 666666\n",
    "# 7777777\n",
    "# 88888888\n",
    "# 999999999\n",
    "# https://www.w3resource.com/python-exercises/python-conditional-exercise-44.php\n",
    "\n",
    "for i in range(10):\n",
    "    print(str(i) * i)"
   ]
  },
  {
   "cell_type": "code",
   "execution_count": null,
   "metadata": {},
   "outputs": [],
   "source": []
  }
 ],
 "metadata": {
  "kernelspec": {
   "display_name": "Python 3",
   "language": "python",
   "name": "python3"
  },
  "language_info": {
   "codemirror_mode": {
    "name": "ipython",
    "version": 3
   },
   "file_extension": ".py",
   "mimetype": "text/x-python",
   "name": "python",
   "nbconvert_exporter": "python",
   "pygments_lexer": "ipython3",
   "version": "3.6.7"
  }
 },
 "nbformat": 4,
 "nbformat_minor": 2
}
