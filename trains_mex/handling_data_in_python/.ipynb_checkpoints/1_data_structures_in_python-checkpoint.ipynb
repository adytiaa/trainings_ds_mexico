{
 "cells": [
  {
   "cell_type": "markdown",
   "metadata": {},
   "source": [
    "# Data Structures in Python\n",
    "This notebook gives an overview of data types and structures in Python. After going through the material you will be able work with the most important data types and structures. In addition, you will understand the concepts of methods and functions, as well as objects and classes."
   ]
  },
  {
   "cell_type": "markdown",
   "metadata": {},
   "source": [
    "# Basic Data Types in Python\n",
    "\n",
    "![python_types](img/python_types.png)\n",
    "https://de.wikipedia.org/wiki/Datei:Python_3._The_standard_type_hierarchy.png\n",
    "\n",
    "## Boolean Values\n",
    "* \"Two constant objects `False` and `True`\"\n",
    "* \"Used to represent trueth values\"\n",
    "* \"In numeric contexts (...) they behave like the integers 0 and 1, respectively.\n",
    "* Subtype of Integers\n",
    "\n",
    "https://docs.python.org/3/library/stdtypes.html#boolean-values\n",
    "\n",
    "\n",
    "### Boolean Operations\n",
    "\n",
    "| Operation | Results | Note |\n",
    "|:----------|:--------|:-----|\n",
    "| `x or y`  | if x is false, then y, else x | short-circut operator (only evaluates the second arugment if the first one is false) |\n",
    "| `x and y` | if x is false, then x, else y | short-circut operator (only evaluates the second argument if the first one is true) |\n",
    "| `not x`   | if x is false, then `True`, else `False` | `not` has a lower priority then non-Boolean operators |\n",
    "\n",
    "https://docs.python.org/3/library/stdtypes.html#boolean-operations-and-or-not\n",
    "\n",
    "## Comparisons\n",
    "* All have the same priority (but higher than Boolean operations)\n",
    "\n",
    "| Operation | Meaning                 |\n",
    "|:----------|:------------------------|\n",
    "| `<`       | strictly less than      |\n",
    "| `<=`      | less than or equal      |\n",
    "| `>`       | strictly greater than   |\n",
    "| `>=`      | greater than or equal   |\n",
    "| `==`      | equal                   |\n",
    "| `!=`      | not equal               |\n",
    "| `is`      | object identity         |\n",
    "| `is not`  | negated object identity |\n",
    "\n",
    "https://docs.python.org/3/library/stdtypes.html#comparisons"
   ]
  },
  {
   "cell_type": "code",
   "execution_count": 8,
   "metadata": {},
   "outputs": [
    {
     "data": {
      "text/plain": [
       "False"
      ]
     },
     "execution_count": 8,
     "metadata": {},
     "output_type": "execute_result"
    }
   ],
   "source": [
    "5 < 3"
   ]
  },
  {
   "cell_type": "code",
   "execution_count": 2,
   "metadata": {},
   "outputs": [
    {
     "data": {
      "text/plain": [
       "True"
      ]
     },
     "execution_count": 2,
     "metadata": {},
     "output_type": "execute_result"
    }
   ],
   "source": [
    "5 > 3"
   ]
  },
  {
   "cell_type": "code",
   "execution_count": 33,
   "metadata": {},
   "outputs": [
    {
     "data": {
      "text/plain": [
       "False"
      ]
     },
     "execution_count": 33,
     "metadata": {},
     "output_type": "execute_result"
    }
   ],
   "source": [
    "# check string values\n",
    "'a' == 'b'"
   ]
  },
  {
   "cell_type": "code",
   "execution_count": 4,
   "metadata": {},
   "outputs": [
    {
     "data": {
      "text/plain": [
       "True"
      ]
     },
     "execution_count": 4,
     "metadata": {},
     "output_type": "execute_result"
    }
   ],
   "source": [
    "'a' != 'b'"
   ]
  },
  {
   "cell_type": "code",
   "execution_count": 34,
   "metadata": {},
   "outputs": [],
   "source": [
    "# define some variables\n",
    "a = 4\n",
    "b = 2\n",
    "c = a"
   ]
  },
  {
   "cell_type": "code",
   "execution_count": 35,
   "metadata": {},
   "outputs": [
    {
     "data": {
      "text/plain": [
       "False"
      ]
     },
     "execution_count": 35,
     "metadata": {},
     "output_type": "execute_result"
    }
   ],
   "source": [
    "# check object identity of a and b\n",
    "a is b"
   ]
  },
  {
   "cell_type": "code",
   "execution_count": 36,
   "metadata": {},
   "outputs": [
    {
     "data": {
      "text/plain": [
       "True"
      ]
     },
     "execution_count": 36,
     "metadata": {},
     "output_type": "execute_result"
    }
   ],
   "source": [
    "# check object identity of a and c (c=a)\n",
    "a is c"
   ]
  },
  {
   "cell_type": "code",
   "execution_count": 37,
   "metadata": {},
   "outputs": [
    {
     "data": {
      "text/plain": [
       "False"
      ]
     },
     "execution_count": 37,
     "metadata": {},
     "output_type": "execute_result"
    }
   ],
   "source": [
    "# compare the values of a (4) and b (2)\n",
    "a == b"
   ]
  },
  {
   "cell_type": "markdown",
   "metadata": {},
   "source": [
    "Object identities can return unexpected results for small ints or short strings!\n",
    "\n",
    "\"However, for the sake of optimization (mostly) there are some exceptions for small integers (between -5 and 256) and small strings (interned strings, with a special length (usually less than 20 character)) which are singletons and have same id (actually one object with multiple pointer).\" https://stackoverflow.com/a/38189759/6270819"
   ]
  },
  {
   "cell_type": "code",
   "execution_count": 38,
   "metadata": {},
   "outputs": [],
   "source": [
    "# define to variables with the same value\n",
    "a = 3\n",
    "b = 3"
   ]
  },
  {
   "cell_type": "code",
   "execution_count": 39,
   "metadata": {},
   "outputs": [
    {
     "data": {
      "text/plain": [
       "True"
      ]
     },
     "execution_count": 39,
     "metadata": {},
     "output_type": "execute_result"
    }
   ],
   "source": [
    "# compare the value (3=3)\n",
    "a == b"
   ]
  },
  {
   "cell_type": "code",
   "execution_count": 40,
   "metadata": {},
   "outputs": [
    {
     "data": {
      "text/plain": [
       "True"
      ]
     },
     "execution_count": 40,
     "metadata": {},
     "output_type": "execute_result"
    }
   ],
   "source": [
    "# compare the object identity. this behavior is not expected because b != a\n",
    "a is b"
   ]
  },
  {
   "cell_type": "code",
   "execution_count": 43,
   "metadata": {},
   "outputs": [
    {
     "data": {
      "text/plain": [
       "94378797177312"
      ]
     },
     "execution_count": 43,
     "metadata": {},
     "output_type": "execute_result"
    }
   ],
   "source": [
    "# a and b have the same ID even though they are not defined as being the same object\n",
    "id(a)"
   ]
  },
  {
   "cell_type": "code",
   "execution_count": 44,
   "metadata": {},
   "outputs": [
    {
     "data": {
      "text/plain": [
       "94378797177312"
      ]
     },
     "execution_count": 44,
     "metadata": {},
     "output_type": "execute_result"
    }
   ],
   "source": [
    "id(b)"
   ]
  },
  {
   "cell_type": "code",
   "execution_count": 45,
   "metadata": {},
   "outputs": [],
   "source": [
    "# increase a by 1 and define a new variable c\n",
    "a = a + 1\n",
    "c = 4"
   ]
  },
  {
   "cell_type": "code",
   "execution_count": 46,
   "metadata": {},
   "outputs": [
    {
     "data": {
      "text/plain": [
       "94378797177344"
      ]
     },
     "execution_count": 46,
     "metadata": {},
     "output_type": "execute_result"
    }
   ],
   "source": [
    "# now a and c share the same ID and b stays the same as before\n",
    "id(a)"
   ]
  },
  {
   "cell_type": "code",
   "execution_count": 47,
   "metadata": {},
   "outputs": [
    {
     "data": {
      "text/plain": [
       "94378797177312"
      ]
     },
     "execution_count": 47,
     "metadata": {},
     "output_type": "execute_result"
    }
   ],
   "source": [
    "id(b)"
   ]
  },
  {
   "cell_type": "code",
   "execution_count": 48,
   "metadata": {},
   "outputs": [
    {
     "data": {
      "text/plain": [
       "94378797177344"
      ]
     },
     "execution_count": 48,
     "metadata": {},
     "output_type": "execute_result"
    }
   ],
   "source": [
    "id(c)"
   ]
  },
  {
   "cell_type": "code",
   "execution_count": 51,
   "metadata": {},
   "outputs": [
    {
     "data": {
      "text/plain": [
       "False"
      ]
     },
     "execution_count": 51,
     "metadata": {},
     "output_type": "execute_result"
    }
   ],
   "source": [
    "# a is now 4 and b is still 3\n",
    "a is b"
   ]
  },
  {
   "cell_type": "code",
   "execution_count": 52,
   "metadata": {},
   "outputs": [
    {
     "data": {
      "text/plain": [
       "True"
      ]
     },
     "execution_count": 52,
     "metadata": {},
     "output_type": "execute_result"
    }
   ],
   "source": [
    "# a and c share the same ID so the object identity comparison returns True\n",
    "a is c"
   ]
  },
  {
   "cell_type": "markdown",
   "metadata": {},
   "source": [
    "## Numbers\n",
    "### Integers\n",
    "* Whole numbers\n",
    "* Positive, negative, or zero\n",
    "* Unlimited precision in Python"
   ]
  },
  {
   "cell_type": "code",
   "execution_count": 18,
   "metadata": {},
   "outputs": [
    {
     "data": {
      "text/plain": [
       "3"
      ]
     },
     "execution_count": 18,
     "metadata": {},
     "output_type": "execute_result"
    }
   ],
   "source": [
    "i = 3\n",
    "i"
   ]
  },
  {
   "cell_type": "code",
   "execution_count": 19,
   "metadata": {},
   "outputs": [
    {
     "data": {
      "text/plain": [
       "int"
      ]
     },
     "execution_count": 19,
     "metadata": {},
     "output_type": "execute_result"
    }
   ],
   "source": [
    "type(i)"
   ]
  },
  {
   "cell_type": "markdown",
   "metadata": {},
   "source": [
    "### Float\n",
    "* Floating point numbers\n",
    "* Usually implemented as `double` in C\n",
    "* `sys.float_info` shows information about the precision of floats in your system"
   ]
  },
  {
   "cell_type": "code",
   "execution_count": 20,
   "metadata": {},
   "outputs": [
    {
     "data": {
      "text/plain": [
       "3.2"
      ]
     },
     "execution_count": 20,
     "metadata": {},
     "output_type": "execute_result"
    }
   ],
   "source": [
    "f = 3.2\n",
    "f"
   ]
  },
  {
   "cell_type": "code",
   "execution_count": 21,
   "metadata": {},
   "outputs": [
    {
     "data": {
      "text/plain": [
       "float"
      ]
     },
     "execution_count": 21,
     "metadata": {},
     "output_type": "execute_result"
    }
   ],
   "source": [
    "type(f)"
   ]
  },
  {
   "cell_type": "code",
   "execution_count": 22,
   "metadata": {},
   "outputs": [
    {
     "data": {
      "text/plain": [
       "sys.float_info(max=1.7976931348623157e+308, max_exp=1024, max_10_exp=308, min=2.2250738585072014e-308, min_exp=-1021, min_10_exp=-307, dig=15, mant_dig=53, epsilon=2.220446049250313e-16, radix=2, rounds=1)"
      ]
     },
     "execution_count": 22,
     "metadata": {},
     "output_type": "execute_result"
    }
   ],
   "source": [
    "import sys\n",
    "sys.float_info"
   ]
  },
  {
   "cell_type": "markdown",
   "metadata": {},
   "source": [
    "**Operations for integers and floats**\n",
    "\n",
    "| Operation           | Result   |\n",
    "|:--------------------|:----------|\n",
    "|  `x + y`            | sum of x and y |\n",
    "|  `x - y`            | difference of x and y |\n",
    "|  `x * y`            | product of x and y |\n",
    "|  `x / y`            | quotient of x and y |\n",
    "|  `x // y`           | floored quotient of x and y (returns integer)|\n",
    "|  `x % y`            | remainder of `x / y` |\n",
    "|  `-x`               | x negated |\n",
    "|  `+x`               | x unchanged |\n",
    "|  `abs(x)`           | absolute value or magnitude of x |\n",
    "|  `int(x)`           | x converetd to integer |\n",
    "|  `float(x)`         | x converted to floating point |\n",
    "|  `complex(re, im)`  | a complex number with real part re and imaginary part im (default is zero) |\n",
    "|  `c.conjugate()`    | conjugate of the complex number c |\n",
    "|  `divmod(x, y)`     | the pair `(x // y, x % y)` |\n",
    "|  `pow(x, y)`        | x to the power of y |\n",
    "|  `x ** y`           | x to the power of y |\n",
    "| `math.trunc(x)`     | x truncated to [Integral](https://docs.python.org/3/library/numbers.html#numbers.Integral) |\n",
    "| `round(x[, n])`     | x rounded to $n$ digits, rounding half to even. $n$ defaults to 0. |\n",
    "| `math.floor(x)`     | the greatest [Integral](https://docs.python.org/3/library/numbers.html#numbers.Integral) <= x |\n",
    "| `math.ceil(x)`      | the least [Integral](https://docs.python.org/3/library/numbers.html#numbers.Integral) >= x |\n",
    "\n",
    "**Remarks**\n",
    "* \"Python defines `pow(0, 0)` and `0 ** 0` to be `1`, as is common for programming languages.\"\n",
    "* Additional numeric operations are defined in the [math](https://docs.python.org/3/library/math.html#module-math) and [cmath](https://docs.python.org/3/library/cmath.html#module-cmath) modules\n",
    "* Also see further comments and remarks at https://docs.python.org/3/library/stdtypes.html#numeric-types-int-float-complex\n",
    "\n",
    "\n",
    "### Complex Numbers\n",
    "* A \"number that be expressed in te form $a + bi$, where $a$ and $b$ are real numbers, and $i$ is a solution of the equation $x^2 = -1$\" (https://en.wikipedia.org/wiki/Complex_number)\n",
    "* Real ($a$) and imaginary ($b$) part\n",
    "* `j` suffic in Python (electrical engineering convention)"
   ]
  },
  {
   "cell_type": "code",
   "execution_count": 28,
   "metadata": {},
   "outputs": [
    {
     "data": {
      "text/plain": [
       "(2+1j)"
      ]
     },
     "execution_count": 28,
     "metadata": {},
     "output_type": "execute_result"
    }
   ],
   "source": [
    "c = 2+1j\n",
    "c"
   ]
  },
  {
   "cell_type": "code",
   "execution_count": 29,
   "metadata": {},
   "outputs": [
    {
     "data": {
      "text/plain": [
       "complex"
      ]
     },
     "execution_count": 29,
     "metadata": {},
     "output_type": "execute_result"
    }
   ],
   "source": [
    "type(c)"
   ]
  },
  {
   "cell_type": "code",
   "execution_count": 30,
   "metadata": {},
   "outputs": [
    {
     "data": {
      "text/plain": [
       "(2+3j)"
      ]
     },
     "execution_count": 30,
     "metadata": {},
     "output_type": "execute_result"
    }
   ],
   "source": [
    "complex(2,3)"
   ]
  },
  {
   "cell_type": "markdown",
   "metadata": {},
   "source": [
    "## Strings\n",
    "* Textual data\n",
    "* Immutable sequences\n",
    "* Unicode encoding in Python 3 (was ASCII in Python 2)\n",
    "* Denoted with\n",
    "  * Single quotes\n",
    "  * Double quotes\n",
    "  * Tripe quoted (double quotes preferred by PEP8): span multiple lines\n",
    "* Nested quoted possible (e.g. `\"a sentence with 'quoted text'.\"`\n",
    "  \n",
    "https://docs.python.org/3/library/stdtypes.html#text-sequence-type-str"
   ]
  },
  {
   "cell_type": "code",
   "execution_count": 31,
   "metadata": {},
   "outputs": [
    {
     "data": {
      "text/plain": [
       "'text'"
      ]
     },
     "execution_count": 31,
     "metadata": {},
     "output_type": "execute_result"
    }
   ],
   "source": [
    "s = 'text'\n",
    "s"
   ]
  },
  {
   "cell_type": "code",
   "execution_count": 37,
   "metadata": {},
   "outputs": [
    {
     "data": {
      "text/plain": [
       "'new text'"
      ]
     },
     "execution_count": 37,
     "metadata": {},
     "output_type": "execute_result"
    }
   ],
   "source": [
    "s = \"new text\"\n",
    "s"
   ]
  },
  {
   "cell_type": "code",
   "execution_count": 39,
   "metadata": {},
   "outputs": [
    {
     "data": {
      "text/plain": [
       "'new text with\\n       new line'"
      ]
     },
     "execution_count": 39,
     "metadata": {},
     "output_type": "execute_result"
    }
   ],
   "source": [
    "s = \"\"\"new text with\n",
    "       new line\"\"\"\n",
    "s"
   ]
  },
  {
   "cell_type": "code",
   "execution_count": 40,
   "metadata": {},
   "outputs": [
    {
     "name": "stdout",
     "output_type": "stream",
     "text": [
      "a sentence with 'quoted text'.\n"
     ]
    }
   ],
   "source": [
    "s = \"a sentence with 'quoted text'.\"\n",
    "print(s)"
   ]
  },
  {
   "cell_type": "markdown",
   "metadata": {},
   "source": [
    "### Common Sequence Operations\n",
    "* \"Supported by most sequence types, both mutable and immutable\"\n",
    "  * String\n",
    "  * List\n",
    "  * Tuple\n",
    "  * Range\n",
    "  * ...\n",
    "\n",
    "| Operation | Result |\n",
    "|:----------|:-------|\n",
    "| `x in s` | `True` if an item of s is equal to x, else `False` |\n",
    "| `x not in s` | `False` if an item of s is equal to x, else `True`\t|\n",
    "| `s + t` | the concatenation of s and t |\n",
    "| `s * n or n * s` | equivalent to adding s to itself n times |\n",
    "| `s[i]` | ith item of s, origin 0 |\n",
    "| `s[i:j]` | slice of s from i to j |\n",
    "| `s[i:j:k]` | slice of s from i to j with step k |\n",
    "| `len(s)` | length of s |\n",
    "| `min(s)` | smallest item of s |\n",
    "| `max(s)` | largest item of s |\n",
    "| `s.index(x[, i[, j]])` | index of the first occurrence of x in s (at or after index i and before index j) |\n",
    "| `s.count(x)` | total number of occurrences of x in s |\n",
    "\n",
    "Check https://docs.python.org/3/library/stdtypes.html#typesseq-common for more details and remarks to the common sequence operations."
   ]
  },
  {
   "cell_type": "code",
   "execution_count": 41,
   "metadata": {},
   "outputs": [
    {
     "data": {
      "text/plain": [
       "[0, 1, 2, 3]"
      ]
     },
     "execution_count": 41,
     "metadata": {},
     "output_type": "execute_result"
    }
   ],
   "source": [
    "# create a list with some elements\n",
    "a = [0, 1, 2, 3]\n",
    "a"
   ]
  },
  {
   "cell_type": "code",
   "execution_count": 44,
   "metadata": {},
   "outputs": [
    {
     "data": {
      "text/plain": [
       "False"
      ]
     },
     "execution_count": 44,
     "metadata": {},
     "output_type": "execute_result"
    }
   ],
   "source": [
    "# check if 2 is in list a\n",
    "'a' in a"
   ]
  },
  {
   "cell_type": "code",
   "execution_count": 50,
   "metadata": {},
   "outputs": [
    {
     "data": {
      "text/plain": [
       "1"
      ]
     },
     "execution_count": 50,
     "metadata": {},
     "output_type": "execute_result"
    }
   ],
   "source": [
    "# get element at index 1 (0-based!)\n",
    "a[1]"
   ]
  },
  {
   "cell_type": "code",
   "execution_count": 51,
   "metadata": {},
   "outputs": [
    {
     "data": {
      "text/plain": [
       "[1, 2]"
      ]
     },
     "execution_count": 51,
     "metadata": {},
     "output_type": "execute_result"
    }
   ],
   "source": [
    "# get element from index 1 to index 3 (exclusive)\n",
    "a[1:3]"
   ]
  },
  {
   "cell_type": "code",
   "execution_count": 54,
   "metadata": {},
   "outputs": [
    {
     "data": {
      "text/plain": [
       "[0, 2]"
      ]
     },
     "execution_count": 54,
     "metadata": {},
     "output_type": "execute_result"
    }
   ],
   "source": [
    "a[0:4:2]"
   ]
  },
  {
   "cell_type": "code",
   "execution_count": 55,
   "metadata": {},
   "outputs": [
    {
     "data": {
      "text/plain": [
       "4"
      ]
     },
     "execution_count": 55,
     "metadata": {},
     "output_type": "execute_result"
    }
   ],
   "source": [
    "# get the number of elements of the list\n",
    "len(a)"
   ]
  },
  {
   "cell_type": "code",
   "execution_count": 56,
   "metadata": {},
   "outputs": [
    {
     "data": {
      "text/plain": [
       "3"
      ]
     },
     "execution_count": 56,
     "metadata": {},
     "output_type": "execute_result"
    }
   ],
   "source": [
    "# get the maximum element of the list\n",
    "max(a)"
   ]
  },
  {
   "cell_type": "markdown",
   "metadata": {},
   "source": [
    "### Mutable Sequence Operations\n",
    "* The following table shows operations that are defined for mutable sequence type\n",
    "  * *s*: mutable sequence type\n",
    "  * *x*: arbitrary object\n",
    "  \n",
    "\n",
    "| Operation | Result |\n",
    "|:----------|:-------|\n",
    "|`s[i] = x` | item *i* of *s* is replaced by *x* |\t \n",
    "|`s[i:j] = t` | slice of *s* from *i* to *j* is replaced by the contents of the iterable *t* |\n",
    "|`del s[i:j]` | same as `s[i:j] = []` |\n",
    "|`s[i:j:k] = t` | the elements of `s[i:j:k]` are replaced by those of *t* |\n",
    "|`del s[i:j:k]` | removes the elements of `s[i:j:k]` from the list |\n",
    "|`s.append(x)` | appends *x* to the end of the sequence (same as `s[len(s):len(s)] = [x]`) |\n",
    "|`s.clear()` | removes all items from *s* (same as `del s[:]`) |\n",
    "|`s.copy()` | creates a shallow copy of *s* (same as `s[:]`) |\n",
    "|`s.extend(t)` or `s += t` | extends *s* with the contents of *t* (for the most part the same as `s[len(s):len(s)] = t`) |\n",
    "|`s *= n` | updates *s* with its contents repeated *n* times |\n",
    "|`s.insert(i, x)` | inserts *x* into *s* at the index given by *i* (same as `s[i:i] = [x]`) |\n",
    "|`s.pop([i])` | retrieves the item at *i* and also removes it from *s* |\n",
    "|`s.remove(x)` | remove the first item from *s* where `s[i]` is equal to *x* |\n",
    "|`s.reverse()` | reverses the items of *s* in place |\n",
    "\n",
    "Check https://docs.python.org/3/library/stdtypes.html#mutable-sequence-types for more details and remarks."
   ]
  },
  {
   "cell_type": "code",
   "execution_count": 57,
   "metadata": {},
   "outputs": [
    {
     "data": {
      "text/plain": [
       "[0, 1, 2, 3]"
      ]
     },
     "execution_count": 57,
     "metadata": {},
     "output_type": "execute_result"
    }
   ],
   "source": [
    "a"
   ]
  },
  {
   "cell_type": "code",
   "execution_count": 58,
   "metadata": {},
   "outputs": [
    {
     "data": {
      "text/plain": [
       "[0, 1, -1, 3]"
      ]
     },
     "execution_count": 58,
     "metadata": {},
     "output_type": "execute_result"
    }
   ],
   "source": [
    "# replace element at index 2 with the new value\n",
    "a[2] = -1\n",
    "a"
   ]
  },
  {
   "cell_type": "code",
   "execution_count": 59,
   "metadata": {},
   "outputs": [
    {
     "data": {
      "text/plain": [
       "[0, 1, -1, 3, 4]"
      ]
     },
     "execution_count": 59,
     "metadata": {},
     "output_type": "execute_result"
    }
   ],
   "source": [
    "# add a new element to the list\n",
    "a.append(4)\n",
    "a"
   ]
  },
  {
   "cell_type": "code",
   "execution_count": 60,
   "metadata": {},
   "outputs": [
    {
     "data": {
      "text/plain": [
       "[0, 1, -1, 3, 4, 5, 6, 7]"
      ]
     },
     "execution_count": 60,
     "metadata": {},
     "output_type": "execute_result"
    }
   ],
   "source": [
    "# add multiple new elements\n",
    "a.extend([5, 6, 7])\n",
    "a"
   ]
  },
  {
   "cell_type": "code",
   "execution_count": 61,
   "metadata": {},
   "outputs": [
    {
     "data": {
      "text/plain": [
       "[0, 1, 3, 4, 5, 6, 7]"
      ]
     },
     "execution_count": 61,
     "metadata": {},
     "output_type": "execute_result"
    }
   ],
   "source": [
    "# remove the first occurence of -1\n",
    "a.remove(-1)\n",
    "a"
   ]
  },
  {
   "cell_type": "code",
   "execution_count": 62,
   "metadata": {},
   "outputs": [
    {
     "data": {
      "text/plain": [
       "[0, 1, 2, 3, 4, 5, 6, 7]"
      ]
     },
     "execution_count": 62,
     "metadata": {},
     "output_type": "execute_result"
    }
   ],
   "source": [
    "# insert the value 2 at index 2\n",
    "a.insert(2, 2)\n",
    "a"
   ]
  },
  {
   "cell_type": "markdown",
   "metadata": {},
   "source": [
    "### String Methods\n",
    "* All Common Sequence Operations\n",
    "* All methods defined at https://docs.python.org/3/library/stdtypes.html#string-methods such as:\n",
    "  * `str.endswith(suffix[, start[, end]])`: \"Return `True` if the string ends with the specified *suffix*, otherwise return `False`.\"\n",
    "  * `str.find(sub[, start[, end]])`: \"Return the lowest index in the string where substring *sub* is found within the slice `s[start:end]`. Optional arguments *start* and *end* are interpreted as in slice notation. Return `-1` if *sub* is not found.\"\n",
    "  * `str.format(*args, **kwargs)`: \"Perform a string formatting operation\"\n",
    "  * `str.join(iterable)`: \"Return a string which is the concatenation of the strings in *iterable*\"\n",
    "  * `str.lower()`: \"Return a copy of the string with all the cased characters converted to lowercase.\"\n",
    "  * `str.replace(old, new[, count])`: \"Return a copy of the string with all occurrences of substring *old* replaced by *new*\"\n",
    "  * `str.split(sep=None, maxsplit=-1)`: \"Return a list of the words in the string, using *sep* as the delimiter string\"\n",
    "  * `str.startswith(prefix[, start[, end]])`: \"Return `True` if string starts with the *prefix*, otherwise return `False`\"\n",
    "  * `str.upper()`: \"Return a copy of the string with all the cased characters converted to uppercase\"\n",
    "  * ..."
   ]
  },
  {
   "cell_type": "code",
   "execution_count": 65,
   "metadata": {},
   "outputs": [
    {
     "data": {
      "text/plain": [
       "True"
      ]
     },
     "execution_count": 65,
     "metadata": {},
     "output_type": "execute_result"
    }
   ],
   "source": [
    "\"text that ends with a word\".endswith(\"word\")"
   ]
  },
  {
   "cell_type": "code",
   "execution_count": 66,
   "metadata": {},
   "outputs": [
    {
     "data": {
      "text/plain": [
       "2"
      ]
     },
     "execution_count": 66,
     "metadata": {},
     "output_type": "execute_result"
    }
   ],
   "source": [
    "\"text\".find(\"x\")"
   ]
  },
  {
   "cell_type": "code",
   "execution_count": 67,
   "metadata": {},
   "outputs": [
    {
     "data": {
      "text/plain": [
       "'3 - 2 is 1'"
      ]
     },
     "execution_count": 67,
     "metadata": {},
     "output_type": "execute_result"
    }
   ],
   "source": [
    "\"3 - 2 is {}\".format(3-2)"
   ]
  },
  {
   "cell_type": "code",
   "execution_count": 68,
   "metadata": {},
   "outputs": [
    {
     "data": {
      "text/plain": [
       "'a-b-c'"
      ]
     },
     "execution_count": 68,
     "metadata": {},
     "output_type": "execute_result"
    }
   ],
   "source": [
    "\"-\".join([\"a\", \"b\", \"c\"])"
   ]
  },
  {
   "cell_type": "code",
   "execution_count": 69,
   "metadata": {},
   "outputs": [
    {
     "data": {
      "text/plain": [
       "'text'"
      ]
     },
     "execution_count": 69,
     "metadata": {},
     "output_type": "execute_result"
    }
   ],
   "source": [
    "\"TEXT\".lower()"
   ]
  },
  {
   "cell_type": "code",
   "execution_count": 71,
   "metadata": {},
   "outputs": [
    {
     "data": {
      "text/plain": [
       "'I like food'"
      ]
     },
     "execution_count": 71,
     "metadata": {},
     "output_type": "execute_result"
    }
   ],
   "source": [
    "\"I like music\".replace(\"music\", \"food\")"
   ]
  },
  {
   "cell_type": "code",
   "execution_count": 72,
   "metadata": {},
   "outputs": [
    {
     "data": {
      "text/plain": [
       "['a', 'b', 'c']"
      ]
     },
     "execution_count": 72,
     "metadata": {},
     "output_type": "execute_result"
    }
   ],
   "source": [
    "\"a-b-c\".split(\"-\")"
   ]
  },
  {
   "cell_type": "code",
   "execution_count": 73,
   "metadata": {},
   "outputs": [
    {
     "data": {
      "text/plain": [
       "True"
      ]
     },
     "execution_count": 73,
     "metadata": {},
     "output_type": "execute_result"
    }
   ],
   "source": [
    "\"This sentence starts with 'This'\".startswith(\"This\")"
   ]
  },
  {
   "cell_type": "code",
   "execution_count": 70,
   "metadata": {},
   "outputs": [
    {
     "data": {
      "text/plain": [
       "'TEXT'"
      ]
     },
     "execution_count": 70,
     "metadata": {},
     "output_type": "execute_result"
    }
   ],
   "source": [
    "\"text\".upper()"
   ]
  },
  {
   "cell_type": "markdown",
   "metadata": {},
   "source": [
    "#### String  Formating with .format()"
   ]
  },
  {
   "cell_type": "code",
   "execution_count": 1,
   "metadata": {},
   "outputs": [
    {
     "data": {
      "text/plain": [
       "'one 1'"
      ]
     },
     "execution_count": 1,
     "metadata": {},
     "output_type": "execute_result"
    }
   ],
   "source": [
    "\"{} {}\".format('one', 2)"
   ]
  },
  {
   "cell_type": "code",
   "execution_count": 2,
   "metadata": {
    "scrolled": true
   },
   "outputs": [
    {
     "data": {
      "text/plain": [
       "'2 one'"
      ]
     },
     "execution_count": 2,
     "metadata": {},
     "output_type": "execute_result"
    }
   ],
   "source": [
    "'{1} {0}'.format('one', 2)"
   ]
  },
  {
   "cell_type": "code",
   "execution_count": 4,
   "metadata": {},
   "outputs": [
    {
     "data": {
      "text/plain": [
       "'      test'"
      ]
     },
     "execution_count": 4,
     "metadata": {},
     "output_type": "execute_result"
    }
   ],
   "source": [
    "'{:>10}'.format('test')"
   ]
  },
  {
   "cell_type": "code",
   "execution_count": 7,
   "metadata": {},
   "outputs": [
    {
     "data": {
      "text/plain": [
       "'test      '"
      ]
     },
     "execution_count": 7,
     "metadata": {},
     "output_type": "execute_result"
    }
   ],
   "source": [
    "'{:<10}'.format('test')"
   ]
  },
  {
   "cell_type": "code",
   "execution_count": 8,
   "metadata": {},
   "outputs": [
    {
     "data": {
      "text/plain": [
       "'_test__'"
      ]
     },
     "execution_count": 8,
     "metadata": {},
     "output_type": "execute_result"
    }
   ],
   "source": [
    "'{:_^7}'.format('test')"
   ]
  },
  {
   "cell_type": "code",
   "execution_count": 9,
   "metadata": {
    "scrolled": true
   },
   "outputs": [
    {
     "data": {
      "text/plain": [
       "'xylop'"
      ]
     },
     "execution_count": 9,
     "metadata": {},
     "output_type": "execute_result"
    }
   ],
   "source": [
    "'{:.5}'.format('xylophone')"
   ]
  },
  {
   "cell_type": "code",
   "execution_count": 10,
   "metadata": {},
   "outputs": [
    {
     "data": {
      "text/plain": [
       "'3.141593'"
      ]
     },
     "execution_count": 10,
     "metadata": {},
     "output_type": "execute_result"
    }
   ],
   "source": [
    "'{:f}'.format(3.141592653589793)"
   ]
  },
  {
   "cell_type": "code",
   "execution_count": 11,
   "metadata": {},
   "outputs": [
    {
     "data": {
      "text/plain": [
       "'003.14'"
      ]
     },
     "execution_count": 11,
     "metadata": {},
     "output_type": "execute_result"
    }
   ],
   "source": [
    "'{:06.2f}'.format(3.141592653589793)"
   ]
  },
  {
   "cell_type": "code",
   "execution_count": 12,
   "metadata": {},
   "outputs": [
    {
     "data": {
      "text/plain": [
       "' 3.140000; -3.140000'"
      ]
     },
     "execution_count": 12,
     "metadata": {},
     "output_type": "execute_result"
    }
   ],
   "source": [
    "'{: f}; {: f}'.format(3.14, -3.14)  # show a space for positive numbers"
   ]
  },
  {
   "cell_type": "markdown",
   "metadata": {},
   "source": [
    "## None\n",
    "* \"Used to represent the absence of a value\"\n",
    "* \"The sole value of the type `NoneType`\"\n",
    "\n",
    "https://docs.python.org/3.7/library/constants.html"
   ]
  },
  {
   "cell_type": "code",
   "execution_count": 74,
   "metadata": {},
   "outputs": [
    {
     "data": {
      "text/plain": [
       "NoneType"
      ]
     },
     "execution_count": 74,
     "metadata": {},
     "output_type": "execute_result"
    }
   ],
   "source": [
    "n = None\n",
    "type(n)"
   ]
  },
  {
   "cell_type": "markdown",
   "metadata": {},
   "source": [
    "# Data Structures in Python\n",
    "\n",
    "## Tuples\n",
    "* Immutable sequences\n",
    "* Can be used for homogeneous and heterogeneous data\n",
    "* Constructed by:\n",
    "  * Pair of parentheses `()` for an empty tuple\n",
    "  * \"Trailing comma for a singleton tuple\" `a,` or `(a,)`\n",
    "  * \"Separating items with commas: `a, b, c` or `(a, b, c)`\n",
    "  * Using `tuple()` or `tuple(iterable)`\n",
    "* Apart from the empty tuple, the parantheses are optional: the comma makes the tuple\n",
    "  \n",
    "https://docs.python.org/3/library/stdtypes.html#tuples"
   ]
  },
  {
   "cell_type": "code",
   "execution_count": 77,
   "metadata": {},
   "outputs": [
    {
     "data": {
      "text/plain": [
       "()"
      ]
     },
     "execution_count": 77,
     "metadata": {},
     "output_type": "execute_result"
    }
   ],
   "source": [
    "e = ()\n",
    "e"
   ]
  },
  {
   "cell_type": "code",
   "execution_count": 78,
   "metadata": {},
   "outputs": [
    {
     "data": {
      "text/plain": [
       "tuple"
      ]
     },
     "execution_count": 78,
     "metadata": {},
     "output_type": "execute_result"
    }
   ],
   "source": [
    "type(e)"
   ]
  },
  {
   "cell_type": "code",
   "execution_count": 83,
   "metadata": {},
   "outputs": [
    {
     "data": {
      "text/plain": [
       "(1,)"
      ]
     },
     "execution_count": 83,
     "metadata": {},
     "output_type": "execute_result"
    }
   ],
   "source": [
    "a = 1\n",
    "t = (a,)\n",
    "t"
   ]
  },
  {
   "cell_type": "code",
   "execution_count": 84,
   "metadata": {},
   "outputs": [
    {
     "data": {
      "text/plain": [
       "(1, 2, 3)"
      ]
     },
     "execution_count": 84,
     "metadata": {},
     "output_type": "execute_result"
    }
   ],
   "source": [
    "a, b, c = 1, 2, 3\n",
    "\n",
    "t = a, b, c\n",
    "\n",
    "# t[0] = 4\n",
    "# TypeError: 'tuple' object does not support item assignment\n",
    "\n",
    "t"
   ]
  },
  {
   "cell_type": "markdown",
   "metadata": {},
   "source": [
    "**Pay attention on how you define your tuples. Ambiguity!**"
   ]
  },
  {
   "cell_type": "code",
   "execution_count": 85,
   "metadata": {},
   "outputs": [
    {
     "data": {
      "text/plain": [
       "('abc',)"
      ]
     },
     "execution_count": 85,
     "metadata": {},
     "output_type": "execute_result"
    }
   ],
   "source": [
    "# ['abc'] is the only element in a list of elements\n",
    "tuple(['abc'])"
   ]
  },
  {
   "cell_type": "code",
   "execution_count": 86,
   "metadata": {},
   "outputs": [
    {
     "data": {
      "text/plain": [
       "('a', 'b', 'c')"
      ]
     },
     "execution_count": 86,
     "metadata": {},
     "output_type": "execute_result"
    }
   ],
   "source": [
    "# 'abc' is a string sequence of three characters: tuple() expects an iterable!\n",
    "tuple('abc')"
   ]
  },
  {
   "cell_type": "code",
   "execution_count": 87,
   "metadata": {},
   "outputs": [
    {
     "data": {
      "text/plain": [
       "(1, 2, 3, 4, 5)"
      ]
     },
     "execution_count": 87,
     "metadata": {},
     "output_type": "execute_result"
    }
   ],
   "source": [
    "# + calls sequence.extend on the tuples\n",
    "(1, 2, 3) + (4, 5)"
   ]
  },
  {
   "cell_type": "code",
   "execution_count": 88,
   "metadata": {},
   "outputs": [
    {
     "data": {
      "text/plain": [
       "(1, 2, 7, 5)"
      ]
     },
     "execution_count": 88,
     "metadata": {},
     "output_type": "execute_result"
    }
   ],
   "source": [
    "# + sums the elements\n",
    "1, 2, 3 + 4, 5"
   ]
  },
  {
   "cell_type": "markdown",
   "metadata": {},
   "source": [
    "## Lists\n",
    "* Mutable sequences\n",
    "* **Typically** used for homogeneous data\n",
    "  * Items in the list can have different data types\n",
    "* Constructed by:\n",
    "  * Pair of quare brackets `[]` for an empty list\n",
    "  * \"Using square brackets, separating items with commas: `[a]` or `[a, b, c]`\"\n",
    "  * \"Using a list comprehension `[x for x in iterable]`\"\n",
    "  * Using  `list()` or `list(iterable)`\n",
    "\n",
    "https://docs.python.org/3/library/stdtypes.html#lists"
   ]
  },
  {
   "cell_type": "code",
   "execution_count": 90,
   "metadata": {},
   "outputs": [
    {
     "data": {
      "text/plain": [
       "[]"
      ]
     },
     "execution_count": 90,
     "metadata": {},
     "output_type": "execute_result"
    }
   ],
   "source": [
    "i = []\n",
    "i"
   ]
  },
  {
   "cell_type": "code",
   "execution_count": 91,
   "metadata": {},
   "outputs": [
    {
     "data": {
      "text/plain": [
       "list"
      ]
     },
     "execution_count": 91,
     "metadata": {},
     "output_type": "execute_result"
    }
   ],
   "source": [
    "type(i)"
   ]
  },
  {
   "cell_type": "code",
   "execution_count": 92,
   "metadata": {},
   "outputs": [
    {
     "data": {
      "text/plain": [
       "[1]"
      ]
     },
     "execution_count": 92,
     "metadata": {},
     "output_type": "execute_result"
    }
   ],
   "source": [
    "a = 1\n",
    "i = [a]\n",
    "i"
   ]
  },
  {
   "cell_type": "code",
   "execution_count": 93,
   "metadata": {},
   "outputs": [
    {
     "data": {
      "text/plain": [
       "[4, 2, 3]"
      ]
     },
     "execution_count": 93,
     "metadata": {},
     "output_type": "execute_result"
    }
   ],
   "source": [
    "a, b, c = 1, 2, 3\n",
    "i = [a, b, c]\n",
    "i[0] = 4\n",
    "i"
   ]
  },
  {
   "cell_type": "code",
   "execution_count": 99,
   "metadata": {},
   "outputs": [
    {
     "data": {
      "text/plain": [
       "[4, 5, 6]"
      ]
     },
     "execution_count": 99,
     "metadata": {},
     "output_type": "execute_result"
    }
   ],
   "source": [
    "[x for x in [4, 5, 6]]"
   ]
  },
  {
   "cell_type": "code",
   "execution_count": 98,
   "metadata": {},
   "outputs": [
    {
     "name": "stdout",
     "output_type": "stream",
     "text": [
      "[4, 5, 6]\n"
     ]
    }
   ],
   "source": [
    "i = []\n",
    "for x in [4, 5, 6]:\n",
    "    i.append(x)\n",
    "print(i)"
   ]
  },
  {
   "cell_type": "code",
   "execution_count": 100,
   "metadata": {},
   "outputs": [
    {
     "data": {
      "text/plain": [
       "['a', 'b', 'c']"
      ]
     },
     "execution_count": 100,
     "metadata": {},
     "output_type": "execute_result"
    }
   ],
   "source": [
    "list('abc')"
   ]
  },
  {
   "cell_type": "code",
   "execution_count": 101,
   "metadata": {},
   "outputs": [
    {
     "data": {
      "text/plain": [
       "['abc']"
      ]
     },
     "execution_count": 101,
     "metadata": {},
     "output_type": "execute_result"
    }
   ],
   "source": [
    "list(['abc'])"
   ]
  },
  {
   "cell_type": "code",
   "execution_count": 102,
   "metadata": {},
   "outputs": [
    {
     "name": "stdout",
     "output_type": "stream",
     "text": [
      "<class 'int'>\n",
      "<class 'str'>\n"
     ]
    }
   ],
   "source": [
    "# items in a list can have different data types\n",
    "for i in [1, 'a']:\n",
    "    print(type(i))"
   ]
  },
  {
   "cell_type": "markdown",
   "metadata": {},
   "source": [
    "### Lists vs Tuples\n",
    "| -           | Lists                          | Tuples                       |\n",
    "|:------------|:-------------------------------|:-----------------------------|\n",
    "| Sequence    | mutable                        | imutable                     |\n",
    "| Items       | homogeneous (or heterogeneous) | homogeneous or heterogeneous |\n",
    "| Constructor | `list()`                       | `tuple()`                    |\n",
    "| Parntheses  | `[]`                           | `()`                         |\n",
    "\n",
    "\n",
    "### List Methods\n",
    "* All common and mutable sequence operations\n",
    "* The `sort(*, key=None, reverse=False)` method:\n",
    "  * \"This method sorts the list in place, using only < comparisons between items.\"\n",
    "  * \"*key* specifies a function of one argument that is used to extract a comparison key from each list element (for example, `key=str.lower`).\"\n"
   ]
  },
  {
   "cell_type": "code",
   "execution_count": 22,
   "metadata": {},
   "outputs": [
    {
     "data": {
      "text/plain": [
       "[1, 2, 3, 4, 5, 6, 7, 8, 9]"
      ]
     },
     "execution_count": 22,
     "metadata": {},
     "output_type": "execute_result"
    }
   ],
   "source": [
    "i = [5, 3, 7, 6, 4, 1, 9, 2, 8]\n",
    "i.sort()\n",
    "i"
   ]
  },
  {
   "cell_type": "code",
   "execution_count": 23,
   "metadata": {},
   "outputs": [
    {
     "data": {
      "text/plain": [
       "[1, 2, 3, 4, 5, 6, 7, 8, 9, 10]"
      ]
     },
     "execution_count": 23,
     "metadata": {},
     "output_type": "execute_result"
    }
   ],
   "source": [
    "i.append(10)\n",
    "i"
   ]
  },
  {
   "cell_type": "code",
   "execution_count": 24,
   "metadata": {},
   "outputs": [
    {
     "data": {
      "text/plain": [
       "[1, 2, 3, 4, 6, 7, 8, 9, 10]"
      ]
     },
     "execution_count": 24,
     "metadata": {},
     "output_type": "execute_result"
    }
   ],
   "source": [
    "i.remove(5)\n",
    "i"
   ]
  },
  {
   "cell_type": "code",
   "execution_count": 25,
   "metadata": {},
   "outputs": [
    {
     "data": {
      "text/plain": [
       "3"
      ]
     },
     "execution_count": 25,
     "metadata": {},
     "output_type": "execute_result"
    }
   ],
   "source": [
    "i.index(4)"
   ]
  },
  {
   "cell_type": "code",
   "execution_count": 26,
   "metadata": {},
   "outputs": [
    {
     "data": {
      "text/plain": [
       "[1, 2, 3, 4, 5, 6, 7, 8, 9, 10]"
      ]
     },
     "execution_count": 26,
     "metadata": {},
     "output_type": "execute_result"
    }
   ],
   "source": [
    "i.insert(4, 5)  # index, value\n",
    "i"
   ]
  },
  {
   "cell_type": "code",
   "execution_count": 27,
   "metadata": {},
   "outputs": [
    {
     "data": {
      "text/plain": [
       "[1, 2, 3, 4, 5, 6, 7, 8, 9, 10, 11, 12, 13]"
      ]
     },
     "execution_count": 27,
     "metadata": {},
     "output_type": "execute_result"
    }
   ],
   "source": [
    "i.extend([11, 12, 13])\n",
    "i"
   ]
  },
  {
   "cell_type": "code",
   "execution_count": 28,
   "metadata": {},
   "outputs": [
    {
     "data": {
      "text/plain": [
       "[1, 2, 3, 4, 5, 6, 7, 8, 9, 10, 11, 12]"
      ]
     },
     "execution_count": 28,
     "metadata": {},
     "output_type": "execute_result"
    }
   ],
   "source": [
    "i.pop()\n",
    "i"
   ]
  },
  {
   "cell_type": "code",
   "execution_count": 29,
   "metadata": {},
   "outputs": [
    {
     "data": {
      "text/plain": [
       "[2, 3, 4, 5, 6, 7, 8, 9, 10, 11, 12]"
      ]
     },
     "execution_count": 29,
     "metadata": {},
     "output_type": "execute_result"
    }
   ],
   "source": [
    "i.pop(0)\n",
    "i"
   ]
  },
  {
   "cell_type": "code",
   "execution_count": 30,
   "metadata": {},
   "outputs": [
    {
     "data": {
      "text/plain": [
       "[2, 3, 4, 5, 6, 7, 8, 9, 10, 11]"
      ]
     },
     "execution_count": 30,
     "metadata": {},
     "output_type": "execute_result"
    }
   ],
   "source": [
    "i.pop()\n",
    "i"
   ]
  },
  {
   "cell_type": "code",
   "execution_count": 31,
   "metadata": {},
   "outputs": [
    {
     "data": {
      "text/plain": [
       "[11, 10, 9, 8, 7, 6, 5, 4, 3, 2]"
      ]
     },
     "execution_count": 31,
     "metadata": {},
     "output_type": "execute_result"
    }
   ],
   "source": [
    "i.reverse()\n",
    "i"
   ]
  },
  {
   "cell_type": "markdown",
   "metadata": {},
   "source": [
    "## Sets\n",
    "* \"Unordered collection of distinct hashable objects\"\n",
    "* Mutable with methods that can change the contents:\n",
    "  * `add(elem)`\n",
    "  * `discard(elem)`\n",
    "  * `remove(elem)`\n",
    "  * `pop()`: \"Remove and return an arbitrary element from the set. Raises KeyError if the set is empty.\"\n",
    "  * `clear()`\n",
    "  * `update(*others)` or `set |= other | ...`: \"Update the set, adding elements from all others.\"\n",
    "  * `intersection_update(*others)` or `set &= other & ...`: \"Update the set, keeping only elements found in it and all others.\"\n",
    "  * `difference_update(*others)` or `set -= other | ...`: \"Update the set, removing elements found in others.\"\n",
    "  * `symmetric_difference_update(other)` or `set ^= other`: \"Update the set, keeping only elements found in either set, but not in both.\"\n",
    "* Common uses\n",
    "  * Membership testing\n",
    "  * Removing duplicates\n",
    "  * Mathematical operations: union, intersection, (symmetric) difference\n",
    "* No inserting order or indexing supported\n",
    "* Constructed by\n",
    "  * \"Comma-separated list of elements within braces\": `{0, 1, 2}`\n",
    "  * Using `set()` or `set(iterable)`\n",
    "  \n",
    "https://docs.python.org/3/library/stdtypes.html#set-types-set-frozenset\n",
    "\n",
    "### Frozenset\n",
    "* Immutable and hashable set\n",
    "* Can \"be used as a dictionary key or as an element of another set\"\n",
    "* Constructed by using `frozenset()` or `frozenset(iterable)`\n",
    "\n",
    "https://docs.python.org/3/library/stdtypes.html#set-types-set-frozenset\n",
    "\n",
    "\n",
    "### Set Operations\n",
    "For set and frozenset:\n",
    "* `len(s)`: Cardinality (number of elements) of s\n",
    "* `x in s`: Membership test\n",
    "* `x not in s`: Non-membership test\n",
    "* `isdisjoint(other)`\n",
    "* `issubset(other)`\n",
    "* `set <= other`: \"Test whether every element in the set s is in other\"\n",
    "* `set < other`: \"Test whether the set is a proper subset of other, that is, `set <= other` and `set != other`.\"\n",
    "* `issuperset(other)`\n",
    "* `set >= other`: \"Test whether every element in other is in the set.\"\n",
    "* `set > other`: \"Test whether the set is a proper superset of other, that is, `set >= other` and `set != other`.\"\n",
    "* `union(*others)`\n",
    "* `set | other | ...`: \"Return a new set with elements from the set and all others.\"\n",
    "* `intersection(*others)`\n",
    "* `set & other & ...`: \"Return a new set with elements common to the set and all others.\"\n",
    "* `difference(*others)`\n",
    "* `set - other - ...`: \"Return a new set with elements in the set that are not in the others.\"\n",
    "* `symmetric_difference(other)`\n",
    "* `set ^ other`: \"Return a new set with elements in either the set or other but not both.\"\n",
    "* `copy()`: \"Return a shallow copy of the set.\"\n",
    "\n",
    "https://docs.python.org/3/library/stdtypes.html#set-types-set-frozenset\n",
    "\n",
    "\n",
    "\n",
    "Set Methods\n",
    "Set Operations\n",
    "&, |, ^ ..."
   ]
  },
  {
   "cell_type": "code",
   "execution_count": 113,
   "metadata": {},
   "outputs": [
    {
     "data": {
      "text/plain": [
       "{1, 2, 3}"
      ]
     },
     "execution_count": 113,
     "metadata": {},
     "output_type": "execute_result"
    }
   ],
   "source": [
    "s = {1, 2, 3}\n",
    "s"
   ]
  },
  {
   "cell_type": "code",
   "execution_count": 114,
   "metadata": {},
   "outputs": [
    {
     "data": {
      "text/plain": [
       "3"
      ]
     },
     "execution_count": 114,
     "metadata": {},
     "output_type": "execute_result"
    }
   ],
   "source": [
    "len(s)"
   ]
  },
  {
   "cell_type": "code",
   "execution_count": 115,
   "metadata": {},
   "outputs": [
    {
     "data": {
      "text/plain": [
       "False"
      ]
     },
     "execution_count": 115,
     "metadata": {},
     "output_type": "execute_result"
    }
   ],
   "source": [
    "0 in s"
   ]
  },
  {
   "cell_type": "code",
   "execution_count": 116,
   "metadata": {},
   "outputs": [
    {
     "data": {
      "text/plain": [
       "{0, 1, 2, 3}"
      ]
     },
     "execution_count": 116,
     "metadata": {},
     "output_type": "execute_result"
    }
   ],
   "source": [
    "s.add(0)\n",
    "s"
   ]
  },
  {
   "cell_type": "code",
   "execution_count": 117,
   "metadata": {},
   "outputs": [
    {
     "data": {
      "text/plain": [
       "{0, 1, 2}"
      ]
     },
     "execution_count": 117,
     "metadata": {},
     "output_type": "execute_result"
    }
   ],
   "source": [
    "s.remove(3)\n",
    "s"
   ]
  },
  {
   "cell_type": "code",
   "execution_count": 118,
   "metadata": {},
   "outputs": [
    {
     "data": {
      "text/plain": [
       "False"
      ]
     },
     "execution_count": 118,
     "metadata": {},
     "output_type": "execute_result"
    }
   ],
   "source": [
    "t = {0, 1, 2, 3, 4, 5}\n",
    "s.isdisjoint(t)"
   ]
  },
  {
   "cell_type": "code",
   "execution_count": 119,
   "metadata": {},
   "outputs": [
    {
     "data": {
      "text/plain": [
       "True"
      ]
     },
     "execution_count": 119,
     "metadata": {},
     "output_type": "execute_result"
    }
   ],
   "source": [
    "s.issubset(t)"
   ]
  },
  {
   "cell_type": "code",
   "execution_count": 120,
   "metadata": {},
   "outputs": [
    {
     "data": {
      "text/plain": [
       "True"
      ]
     },
     "execution_count": 120,
     "metadata": {},
     "output_type": "execute_result"
    }
   ],
   "source": [
    "s <= t"
   ]
  },
  {
   "cell_type": "code",
   "execution_count": 121,
   "metadata": {},
   "outputs": [
    {
     "data": {
      "text/plain": [
       "False"
      ]
     },
     "execution_count": 121,
     "metadata": {},
     "output_type": "execute_result"
    }
   ],
   "source": [
    "s > t"
   ]
  },
  {
   "cell_type": "code",
   "execution_count": 122,
   "metadata": {},
   "outputs": [
    {
     "data": {
      "text/plain": [
       "{0, 1, 2, 3, 4, 5}"
      ]
     },
     "execution_count": 122,
     "metadata": {},
     "output_type": "execute_result"
    }
   ],
   "source": [
    "u = s.union(t)\n",
    "u"
   ]
  },
  {
   "cell_type": "code",
   "execution_count": 123,
   "metadata": {},
   "outputs": [
    {
     "data": {
      "text/plain": [
       "{0, 1, 2}"
      ]
     },
     "execution_count": 123,
     "metadata": {},
     "output_type": "execute_result"
    }
   ],
   "source": [
    "s.intersection(t)"
   ]
  },
  {
   "cell_type": "code",
   "execution_count": 124,
   "metadata": {},
   "outputs": [
    {
     "data": {
      "text/plain": [
       "set()"
      ]
     },
     "execution_count": 124,
     "metadata": {},
     "output_type": "execute_result"
    }
   ],
   "source": [
    "s.difference(t)"
   ]
  },
  {
   "cell_type": "code",
   "execution_count": 125,
   "metadata": {},
   "outputs": [
    {
     "data": {
      "text/plain": [
       "{3, 4, 5}"
      ]
     },
     "execution_count": 125,
     "metadata": {},
     "output_type": "execute_result"
    }
   ],
   "source": [
    "t.symmetric_difference(s)"
   ]
  },
  {
   "cell_type": "code",
   "execution_count": 126,
   "metadata": {},
   "outputs": [
    {
     "data": {
      "text/plain": [
       "{1, 2}"
      ]
     },
     "execution_count": 126,
     "metadata": {},
     "output_type": "execute_result"
    }
   ],
   "source": [
    "s.pop()\n",
    "s"
   ]
  },
  {
   "cell_type": "code",
   "execution_count": 127,
   "metadata": {},
   "outputs": [
    {
     "data": {
      "text/plain": [
       "set()"
      ]
     },
     "execution_count": 127,
     "metadata": {},
     "output_type": "execute_result"
    }
   ],
   "source": [
    "s.clear()\n",
    "s"
   ]
  },
  {
   "cell_type": "markdown",
   "metadata": {},
   "source": [
    "## Dictonaries\n",
    "* Mutable mapping object\n",
    "* \"Maps hashable values to arbitrary objects\"\n",
    "* Created by\n",
    "  * Pair of braces `{}` for an empty dict\n",
    "  * \"Comma-separated list of `key: value` pairs within braces\": `{'a': 12, 'b': 8, 'c': 2}`\n",
    "  * Using `dict()`, `dict(mapping)`, or `dict(iterable)`\n",
    "\n",
    "https://docs.python.org/3/library/stdtypes.html#mapping-types-dict\n",
    "\n",
    "### Dictionary Operations\n",
    "\n",
    "* `len(d)`\n",
    "* `d[key]`: \"Return the item of *d* with key *key*. Raises a KeyError if *key* is not in the map.\"\n",
    "* `d[key] = value`: \"Set `d[key]` to *value*.\"\n",
    "* `del d[key]`: \"Remove `d[key]` from *d*. Raises a KeyError if *key* is not in the map.\"\n",
    "* `key in d`: \"Return `True` if *d* has a key *key*, else `False`.\"\n",
    "* `key not in d`: \"Equivalent to `not key in d`.\"\n",
    "* `iter(d)`: \"Return an iterator over the keys of the dictionary. This is a shortcut for `iter(d.keys())`.:\n",
    "* `clear()`\" \"Remove all items from the dictionary.\"\n",
    "* `copy()`: \"Return a shallow copy of the dictionary.\"\n",
    "* `fromkeys(iterable[, value])`: \"Create a new dictionary with keys from *iterable* and values set to *value*. `fromkeys()` is a class method that returns a new dictionary. *value* defaults to `None`.\"\n",
    "* `get(key[, default])`: \"Return the value for *key* if *key* is in the dictionary, else *default*. If *default* is not given, it defaults to `None`, so that this method never raises a KeyError.\"\n",
    "* `items()`: \"Return a new view of the dictionary’s items (`(key, value)` pairs). See the [documentation of view objects](https://docs.python.org/3/library/stdtypes.html#dict-views).\"\n",
    "* `keys()`: \"Return a new view of the dictionary’s keys. See the [documentation of view objects](https://docs.python.org/3/library/stdtypes.html#dict-views).\"\n",
    "* `pop(key[, default])`: \"If *key* is in the dictionary, remove it and return its value, else return *default*. If *default* is not given and *key* is not in the dictionary, a KeyError is raised.\n",
    "* `popitem()`: \"Remove and return a `(key, value)` pair from the dictionary. Pairs are returned in LIFO order. `popitem()` is useful to destructively iterate over a dictionary, as often used in set algorithms. If the dictionary is empty, calling `popitem()` raises a KeyError.\"\n",
    "* `setdefault(key[, default])`: \"\"If *key* is in the dictionary, return its value. If not, insert *key* with a value of *default* and return *default*. *default* defaults to `None`.\"\n",
    "* `update([other])`: \"Update the dictionary with the key/value pairs from *other*, overwriting existing keys. Return `None`. `update()` accepts either another dictionary object or an iterable of key/value pairs (as tuples or other iterables of length two). If keyword arguments are specified, the dictionary is then updated with those key/value pairs: `d.update(red=1, blue=2)`.\"\n",
    "* `values()`: \"Return a new view of the dictionary’s values. See the [documentation of view objects](https://docs.python.org/3/library/stdtypes.html#dict-views).\"\n",
    "\n",
    "https://docs.python.org/3/library/stdtypes.html#mapping-types-dict"
   ]
  },
  {
   "cell_type": "code",
   "execution_count": 128,
   "metadata": {},
   "outputs": [
    {
     "data": {
      "text/plain": [
       "dict"
      ]
     },
     "execution_count": 128,
     "metadata": {},
     "output_type": "execute_result"
    }
   ],
   "source": [
    "d = {}\n",
    "type(d)"
   ]
  },
  {
   "cell_type": "code",
   "execution_count": 129,
   "metadata": {},
   "outputs": [
    {
     "data": {
      "text/plain": [
       "{'one': 1, 'two': 2, 'three': 3, 'four': 4}"
      ]
     },
     "execution_count": 129,
     "metadata": {},
     "output_type": "execute_result"
    }
   ],
   "source": [
    "d = {\"one\": 1, \"two\": 2, \"three\": 3, \"four\": 4}\n",
    "d"
   ]
  },
  {
   "cell_type": "code",
   "execution_count": 130,
   "metadata": {},
   "outputs": [
    {
     "data": {
      "text/plain": [
       "dict_items([('one', 1), ('two', 2), ('three', 3), ('four', 4)])"
      ]
     },
     "execution_count": 130,
     "metadata": {},
     "output_type": "execute_result"
    }
   ],
   "source": [
    "d.items()"
   ]
  },
  {
   "cell_type": "code",
   "execution_count": 131,
   "metadata": {},
   "outputs": [
    {
     "name": "stdout",
     "output_type": "stream",
     "text": [
      "one 1\n",
      "two 2\n",
      "three 3\n",
      "four 4\n"
     ]
    }
   ],
   "source": [
    "for key, value in d.items():\n",
    "    print(key, value)"
   ]
  },
  {
   "cell_type": "code",
   "execution_count": 132,
   "metadata": {},
   "outputs": [
    {
     "data": {
      "text/plain": [
       "dict_keys(['one', 'two', 'three', 'four'])"
      ]
     },
     "execution_count": 132,
     "metadata": {},
     "output_type": "execute_result"
    }
   ],
   "source": [
    "d.keys()"
   ]
  },
  {
   "cell_type": "code",
   "execution_count": 133,
   "metadata": {},
   "outputs": [
    {
     "data": {
      "text/plain": [
       "dict_values([1, 2, 3, 4])"
      ]
     },
     "execution_count": 133,
     "metadata": {},
     "output_type": "execute_result"
    }
   ],
   "source": [
    "d.values()"
   ]
  },
  {
   "cell_type": "code",
   "execution_count": 134,
   "metadata": {},
   "outputs": [
    {
     "data": {
      "text/plain": [
       "2"
      ]
     },
     "execution_count": 134,
     "metadata": {},
     "output_type": "execute_result"
    }
   ],
   "source": [
    "d.get(\"two\")"
   ]
  },
  {
   "cell_type": "code",
   "execution_count": null,
   "metadata": {},
   "outputs": [],
   "source": [
    "\"zero\" in d"
   ]
  },
  {
   "cell_type": "code",
   "execution_count": 135,
   "metadata": {},
   "outputs": [
    {
     "data": {
      "text/plain": [
       "{'one': 1, 'two': 2, 'three': 3, 'four': 4, 'zero': 0}"
      ]
     },
     "execution_count": 135,
     "metadata": {},
     "output_type": "execute_result"
    }
   ],
   "source": [
    "d[\"zero\"] = 0\n",
    "d"
   ]
  },
  {
   "cell_type": "code",
   "execution_count": 139,
   "metadata": {},
   "outputs": [
    {
     "data": {
      "text/plain": [
       "True"
      ]
     },
     "execution_count": 139,
     "metadata": {},
     "output_type": "execute_result"
    }
   ],
   "source": [
    "\"zero\" in d"
   ]
  },
  {
   "cell_type": "code",
   "execution_count": 140,
   "metadata": {},
   "outputs": [
    {
     "data": {
      "text/plain": [
       "{'one': 1, 'two': 2, 'three': 3, 'four': 4, 'zero': 0, 'five': 5, 'six': 6}"
      ]
     },
     "execution_count": 140,
     "metadata": {},
     "output_type": "execute_result"
    }
   ],
   "source": [
    "d.update({\"five\": 5, \"six\": 6})\n",
    "d"
   ]
  },
  {
   "cell_type": "code",
   "execution_count": 141,
   "metadata": {},
   "outputs": [
    {
     "data": {
      "text/plain": [
       "{'one': 1, 'two': 2, 'three': 3, 'four': 4, 'zero': 0, 'five': 5}"
      ]
     },
     "execution_count": 141,
     "metadata": {},
     "output_type": "execute_result"
    }
   ],
   "source": [
    "d.pop(\"six\")\n",
    "d"
   ]
  },
  {
   "cell_type": "code",
   "execution_count": 142,
   "metadata": {},
   "outputs": [
    {
     "data": {
      "text/plain": [
       "{'one': 1, 'two': 2, 'three': 3, 'four': 4, 'zero': 0}"
      ]
     },
     "execution_count": 142,
     "metadata": {},
     "output_type": "execute_result"
    }
   ],
   "source": [
    "del d[\"five\"]\n",
    "d"
   ]
  },
  {
   "cell_type": "code",
   "execution_count": 144,
   "metadata": {},
   "outputs": [
    {
     "data": {
      "text/plain": [
       "{}"
      ]
     },
     "execution_count": 144,
     "metadata": {},
     "output_type": "execute_result"
    }
   ],
   "source": [
    "d.clear()\n",
    "d"
   ]
  },
  {
   "cell_type": "markdown",
   "metadata": {},
   "source": [
    "# Converting Data Types\n",
    "and using the constructors to create data types."
   ]
  },
  {
   "cell_type": "code",
   "execution_count": 146,
   "metadata": {},
   "outputs": [
    {
     "data": {
      "text/plain": [
       "1"
      ]
     },
     "execution_count": 146,
     "metadata": {},
     "output_type": "execute_result"
    }
   ],
   "source": [
    "# Converting float to integer\n",
    "int(1.1)"
   ]
  },
  {
   "cell_type": "code",
   "execution_count": 147,
   "metadata": {},
   "outputs": [
    {
     "data": {
      "text/plain": [
       "1.0"
      ]
     },
     "execution_count": 147,
     "metadata": {},
     "output_type": "execute_result"
    }
   ],
   "source": [
    "# converting integer to float \n",
    "float(1)"
   ]
  },
  {
   "cell_type": "code",
   "execution_count": 148,
   "metadata": {},
   "outputs": [
    {
     "data": {
      "text/plain": [
       "'0x1'"
      ]
     },
     "execution_count": 148,
     "metadata": {},
     "output_type": "execute_result"
    }
   ],
   "source": [
    "# converting integer to hex number\n",
    "hex(1)"
   ]
  },
  {
   "cell_type": "code",
   "execution_count": 149,
   "metadata": {},
   "outputs": [
    {
     "data": {
      "text/plain": [
       "'1.0'"
      ]
     },
     "execution_count": 149,
     "metadata": {},
     "output_type": "execute_result"
    }
   ],
   "source": [
    "# converting float to string\n",
    "str(1.0)"
   ]
  },
  {
   "cell_type": "code",
   "execution_count": 150,
   "metadata": {},
   "outputs": [
    {
     "data": {
      "text/plain": [
       "'1'"
      ]
     },
     "execution_count": 150,
     "metadata": {},
     "output_type": "execute_result"
    }
   ],
   "source": [
    "# converting int to string\n",
    "str(1)"
   ]
  },
  {
   "cell_type": "code",
   "execution_count": 151,
   "metadata": {},
   "outputs": [
    {
     "data": {
      "text/plain": [
       "('a',)"
      ]
     },
     "execution_count": 151,
     "metadata": {},
     "output_type": "execute_result"
    }
   ],
   "source": [
    "# creating a tuple using a string\n",
    "tuple('a')"
   ]
  },
  {
   "cell_type": "code",
   "execution_count": 152,
   "metadata": {},
   "outputs": [
    {
     "data": {
      "text/plain": [
       "{'a'}"
      ]
     },
     "execution_count": 152,
     "metadata": {},
     "output_type": "execute_result"
    }
   ],
   "source": [
    "# creating a set using a string\n",
    "set('a')"
   ]
  },
  {
   "cell_type": "code",
   "execution_count": 153,
   "metadata": {},
   "outputs": [
    {
     "data": {
      "text/plain": [
       "['a']"
      ]
     },
     "execution_count": 153,
     "metadata": {},
     "output_type": "execute_result"
    }
   ],
   "source": [
    "# creating a list using a string\n",
    "list('a')"
   ]
  },
  {
   "cell_type": "code",
   "execution_count": 154,
   "metadata": {},
   "outputs": [
    {
     "data": {
      "text/plain": [
       "{'one': 1}"
      ]
     },
     "execution_count": 154,
     "metadata": {},
     "output_type": "execute_result"
    }
   ],
   "source": [
    "# creating a dictionary using a mapping\n",
    "dict([('one', 1)])"
   ]
  },
  {
   "cell_type": "code",
   "execution_count": 155,
   "metadata": {},
   "outputs": [
    {
     "data": {
      "text/plain": [
       "{'one': 1}"
      ]
     },
     "execution_count": 155,
     "metadata": {},
     "output_type": "execute_result"
    }
   ],
   "source": [
    "# creating a dictionary using keyword arguments\n",
    "dict(one=1)"
   ]
  },
  {
   "cell_type": "markdown",
   "metadata": {},
   "source": [
    "# Functions vs Methods\n",
    "* Functions and methods are defined using the `def` keyword.\n",
    "* \"It must be followed by the function name and the parenthesized list of parameters\".\n",
    "* Use `lower_case_with_underscores` for function and method names.\n",
    "* The function statements are indented.\n",
    "* Docstring (Documentation string) should be the first statement after the function definition.\n",
    "\n",
    "## Functions\n",
    "* Object indepdendent\n",
    "* Piece of code\n",
    "* Build-in functions https://docs.python.org/3/library/functions.html\n",
    "  * `dict()`\n",
    "  * `float()`\n",
    "  * `format()`\n",
    "  * `int()`\n",
    "  * `iter()`\n",
    "  * `len()`\n",
    "  * `list()`\n",
    "  * `max()`\n",
    "  * `min()`\n",
    "  * `next()`\n",
    "  * `open()`\n",
    "  * `print()`\n",
    "  * `range()`\n",
    "  * `round()`\n",
    "  * `set()`\n",
    "  * `sorted()`\n",
    "  * `str()`\n",
    "  * `sum()`\n",
    "  * `tuple()`\n",
    "  * `type()`\n",
    "  * `zip()`\n",
    "  * ...\n",
    "  \n",
    "### Defining Functions\n",
    "* \"The keyword `def` introduces a function definition. It must be followed by the function name and the parenthesized list of formal parameters. The statements that form the body of the function start at the next line, and must be indented.\"\n",
    "* \"The first statement of the function body can optionally be a string literal; this string literal is the function’s documentation string, or *docstring*.\"\n",
    "* \"A function definition defines a user-defined function object\"\n",
    "* \"A function definition is an executable statement\"\n",
    "* \"Its execution binds the function name in the current local namespace to a function object\"\n",
    "* \"The function definition does not execute the function body; this gets executed only when the function is called\"\n",
    "\n",
    "https://docs.python.org/3/tutorial/controlflow.html#defining-functions\n",
    "\n",
    "https://docs.python.org/3/reference/compound_stmts.html#function"
   ]
  },
  {
   "cell_type": "code",
   "execution_count": 156,
   "metadata": {},
   "outputs": [],
   "source": [
    "# define a function\n",
    "def a_function_that_does_nothing():\n",
    "    pass\n",
    "\n",
    "# call the function\n",
    "a_function_that_does_nothing()"
   ]
  },
  {
   "cell_type": "code",
   "execution_count": 157,
   "metadata": {},
   "outputs": [
    {
     "data": {
      "text/plain": [
       "8"
      ]
     },
     "execution_count": 157,
     "metadata": {},
     "output_type": "execute_result"
    }
   ],
   "source": [
    "# simple function that returns the sum of the two arguments\n",
    "def sum_numbers(a, b):\n",
    "    return a+b\n",
    "\n",
    "sum_numbers(3, 5)"
   ]
  },
  {
   "cell_type": "markdown",
   "metadata": {},
   "source": [
    "### Arguments vs Parameters\n",
    "* **Parameters:** the names of variables in the function definition\n",
    "* **Arguments:** \"the values actually passed to a function when calling it\"\n",
    "\n",
    "`def f(x, y, z=0): \n",
    "    pass`\n",
    "\n",
    "*x*, *y*, and *z* are the parameters of `f`.\n",
    "\n",
    "`f(3, 2, 1)`\n",
    "\n",
    "the values `3`, `2`, and `1` are the arguments passed to the function `f`.\n",
    "\n",
    "https://docs.python.org/3/faq/programming.html#what-is-the-difference-between-arguments-and-parameters\n",
    "\n",
    "### Function Parameters\n",
    "* \"A named entity in a function (or method) definition that specifies an argument (or in some cases, arguments) that the function can accept\"\n",
    "* Kinds of parameter:\n",
    "  * **positional-or-keyword:** \"specifies an argument that can be passed either positionally or as a keyword argument. This is the default kind of parameter, for example foo and bar in the following: `def funct(foo, bar=None): ...`\"\n",
    "  * **positional-only:** \"specifies an argument that can be supplied only by position. Python has no syntax for defining positional-only parameters. However, some built-in functions have positional-only parameters (e.g. `abs()`).\"\n",
    "  * **keyword-only:** \"specifies an argument that can be supplied only by keyword. Keyword-only parameters can be defined by including a single var-positional parameter or bare * in the parameter list of the function definition before them, for example kw_only1 and kw_only2 in the following: `def func(arg, *, kw_only1, kw_only2): ...`\"\n",
    "  * **var-positional:** \"specifies that an arbitrary sequence of positional arguments can be provided (in addition to any positional arguments already accepted by other parameters). Such a parameter can be defined by prepending the parameter name with `*`, for example args in the following: `def func(*args, **kwargs): ...`\"\n",
    "  * **var-keyword:** \"specifies that arbitrarily many keyword arguments can be provided (in addition to any keyword arguments already accepted by other parameters). Such a parameter can be defined by prepending the parameter name with `**`, for example kwargs in the example above.\"\n",
    "\n",
    "### Default Parameter Values\n",
    "* \"When one or more parameters have the form `parameter = expression`, the function is said to have 'default parameter values'\"\n",
    "* \"For a parameter with a default value, the corresponding argument may be omitted from a call, in which case the parameter’s default value is substituted\"\n",
    "* \"If a parameter has a default value, all following parameters up until the '`*`' must also have a default value — this is a syntactic restriction that is not expressed by the grammar.\"\n",
    "* \"**Default parameter values are evaluated from left to right when the function definition is executed**\"\n",
    "* \"The expression is evaluated once, when the function is defined, and that the same “pre-computed” value is used for each call\" (see also https://docs.python.org/3/faq/programming.html#why-are-default-values-shared-between-objects)\n",
    "* \"When a default parameter is a mutable object, such as a list or a dictionary: if the function modifies the object (e.g. by appending an item to a list), the default value is in effect modified\"\n",
    "\n",
    "\n",
    "https://docs.python.org/3/glossary.html#term-parameter\n",
    "\n",
    "https://docs.python.org/3/tutorial/controlflow.html#more-on-defining-functions\n",
    "\n",
    "https://docs.python.org/3/reference/compound_stmts.html#function"
   ]
  },
  {
   "cell_type": "code",
   "execution_count": 158,
   "metadata": {},
   "outputs": [
    {
     "data": {
      "text/plain": [
       "9"
      ]
     },
     "execution_count": 158,
     "metadata": {},
     "output_type": "execute_result"
    }
   ],
   "source": [
    "def square_number(x):\n",
    "    \"\"\"This function returns the input value multiplied with itself\"\"\"\n",
    "    return x*x\n",
    "\n",
    "square_number(3)"
   ]
  },
  {
   "cell_type": "code",
   "execution_count": 159,
   "metadata": {},
   "outputs": [
    {
     "data": {
      "text/plain": [
       "19"
      ]
     },
     "execution_count": 159,
     "metadata": {},
     "output_type": "execute_result"
    }
   ],
   "source": [
    "def square_number_and_add_value(x, a=10):\n",
    "    \"\"\"\n",
    "    This function squares the input value x and then adds\n",
    "    a value a to it (a defaults to 10).\n",
    "    \"\"\"\n",
    "    return (x*x) + a\n",
    "\n",
    "square_number_and_add_value(3)"
   ]
  },
  {
   "cell_type": "code",
   "execution_count": 160,
   "metadata": {},
   "outputs": [
    {
     "data": {
      "text/plain": [
       "9"
      ]
     },
     "execution_count": 160,
     "metadata": {},
     "output_type": "execute_result"
    }
   ],
   "source": [
    "square_number_and_add_value(3, 0)"
   ]
  },
  {
   "cell_type": "markdown",
   "metadata": {},
   "source": [
    "###  Lambda Expressions\n",
    "\"Small anonymous functions can be created with the ```lambda``` keyword. This function returns the sum of its two arguments: ```lambda a, b: a+b```. ```lambda``` functions can be used wherever function objects are required. They are syntactically restricted to a single expression. Semantically, they are just syntactic sugar for a normal function definition. Like nested function definitions, ```lambda``` functions can reference variables from the containing scope.\"\n",
    "\n",
    "https://docs.python.org/3/tutorial/controlflow.html?highlight=lambda#lambda-expressions"
   ]
  },
  {
   "cell_type": "code",
   "execution_count": 161,
   "metadata": {},
   "outputs": [
    {
     "name": "stdout",
     "output_type": "stream",
     "text": [
      "42\n",
      "43\n"
     ]
    }
   ],
   "source": [
    "# use a lambda expression to return a function\n",
    "# example from https://docs.python.org/3/tutorial/controlflow.html?highlight=lambda#lambda-expressions\n",
    "def make_incrementor(n):\n",
    "    return lambda x: x + n\n",
    "\n",
    "f = make_incrementor(42)\n",
    "\n",
    "print(f(0))\n",
    "\n",
    "print(f(1))"
   ]
  },
  {
   "cell_type": "code",
   "execution_count": 164,
   "metadata": {},
   "outputs": [
    {
     "data": {
      "text/plain": [
       "[(4, 'four'), (1, 'one'), (3, 'three'), (2, 'two')]"
      ]
     },
     "execution_count": 164,
     "metadata": {},
     "output_type": "execute_result"
    }
   ],
   "source": [
    "# pass a small function as an argument\n",
    "# example from https://docs.python.org/3/tutorial/controlflow.html?highlight=lambda#lambda-expressions\n",
    "pairs = [(1, 'one'), (2, 'two'), (3, 'three'), (4, 'four')]\n",
    "pairs.sort(key=lambda pair: pair[1])\n",
    "pairs"
   ]
  },
  {
   "cell_type": "code",
   "execution_count": 165,
   "metadata": {},
   "outputs": [
    {
     "name": "stdout",
     "output_type": "stream",
     "text": [
      "15\n",
      "11\n"
     ]
    }
   ],
   "source": [
    "# define anonymous functions\n",
    "multiply = lambda x, y: x * y\n",
    "add = lambda x, y: x + y\n",
    "\n",
    "print(multiply(5,3))\n",
    "print(add(4,7))"
   ]
  },
  {
   "cell_type": "code",
   "execution_count": 166,
   "metadata": {},
   "outputs": [
    {
     "data": {
      "text/plain": [
       "76"
      ]
     },
     "execution_count": 166,
     "metadata": {},
     "output_type": "execute_result"
    }
   ],
   "source": [
    "# lambda function with *args\n",
    "lambda_args = lambda *args: sum(args)\n",
    "lambda_args(10, 21, 45)"
   ]
  },
  {
   "cell_type": "code",
   "execution_count": 167,
   "metadata": {},
   "outputs": [
    {
     "data": {
      "text/plain": [
       "[3, 11, 25]"
      ]
     },
     "execution_count": 167,
     "metadata": {},
     "output_type": "execute_result"
    }
   ],
   "source": [
    "# sum tuples of arbitraray length\n",
    "[lambda_args(*x_tuple) for x_tuple in [(1, 2), (1, 4, 6), (3, 6, 10, 6)]]"
   ]
  },
  {
   "cell_type": "code",
   "execution_count": 168,
   "metadata": {},
   "outputs": [
    {
     "data": {
      "text/plain": [
       "[4, 5, 6, 7, -8]"
      ]
     },
     "execution_count": 168,
     "metadata": {},
     "output_type": "execute_result"
    }
   ],
   "source": [
    "# Make a list comprehension to increase the values in alist by 2\n",
    "alist = [2, 3, 4, 5, -10]\n",
    "add = lambda x: x + 2\n",
    "\n",
    "[add(a) for a in alist]"
   ]
  },
  {
   "cell_type": "markdown",
   "metadata": {},
   "source": [
    "## Methods\n",
    "* Object dependent (linked to an object)\n",
    "* \"A function that 'belongs' to an object\" (https://docs.python.org/3/tutorial/controlflow.html#defining-functions)\n",
    "* \"Always use self as the name for the first method argument\" (https://docs.python.org/3/tutorial/controlflow.html#intermezzo-coding-style)\n",
    "\n",
    "\n",
    "https://docs.python.org/3/tutorial/controlflow.html#defining-functions\n",
    "https://www.geeksforgeeks.org/difference-method-function-python/"
   ]
  },
  {
   "cell_type": "code",
   "execution_count": 169,
   "metadata": {},
   "outputs": [],
   "source": [
    "class MyClass:\n",
    "    \"\"\"\n",
    "    A simple example class\n",
    "    Example from https://docs.python.org/3/tutorial/classes.html\n",
    "    \"\"\"\n",
    "    i = 12345\n",
    "\n",
    "    def f(self):\n",
    "        return 'hello world'"
   ]
  },
  {
   "cell_type": "code",
   "execution_count": 170,
   "metadata": {},
   "outputs": [
    {
     "data": {
      "text/plain": [
       "<__main__.MyClass at 0x7f752cb0f668>"
      ]
     },
     "execution_count": 170,
     "metadata": {},
     "output_type": "execute_result"
    }
   ],
   "source": [
    "x = MyClass()\n",
    "x"
   ]
  },
  {
   "cell_type": "code",
   "execution_count": 171,
   "metadata": {},
   "outputs": [
    {
     "data": {
      "text/plain": [
       "'hello world'"
      ]
     },
     "execution_count": 171,
     "metadata": {},
     "output_type": "execute_result"
    }
   ],
   "source": [
    "x.f()"
   ]
  },
  {
   "cell_type": "markdown",
   "metadata": {},
   "source": [
    "## Scopes and Namespaces\n",
    "\n",
    "\"A namespace is a mapping from names to objects. (...) The important thing to know about namespaces is that there is absolutely no relation between names in different namespaces; for instance, two different modules may both define a function ```maximize``` without confusion — users of the modules must prefix it with the module name.\"\n",
    "\n",
    "\"A scope is a textual region of a Python program where a namespace is directly accessible. “Directly accessible” here means that an unqualified reference to a name attempts to find the name in the namespace.\n",
    "\n",
    "Although scopes are determined statically, they are used dynamically. At any time during execution, there are at least three nested scopes whose namespaces are directly accessible:\n",
    "* the innermost scope, which is searched first, contains the local names\n",
    "* the scopes of any enclosing functions, which are searched starting with the nearest enclosing scope, contains non-local, but also non-global names\n",
    "* the next-to-last scope contains the current module’s global names\n",
    "* the outermost scope (searched last) is the namespace containing built-in names\"\n",
    "\n",
    "https://docs.python.org/3/tutorial/classes.html#python-scopes-and-namespaces\n",
    "\n",
    "\n",
    "\"Variables that are defined inside a function body have a local scope, and those defined outside have a global scope.  \n",
    "\n",
    "This means that local variables can be accessed only inside the function in which they are declared, whereas global variables can be accessed throughout the program body by all functions. When you call a function, the variables declared inside it are brought into scope.\"\n",
    "\n",
    "https://pylessons.com/Python-3-basics-tutorial-global-local-variables/\n",
    "\n",
    "\n",
    "### The ```global``` statement\n",
    "\n",
    "\"The ```global``` statement is a declaration which holds for the entire current code block. It means that the listed identifiers are to be interpreted as globals.\"\n",
    "\n",
    "https://docs.python.org/3/reference/simple_stmts.html#the-global-statement\n",
    "\n",
    "\n",
    "Examples from https://www.programiz.com/python-programming/namespace:\n"
   ]
  },
  {
   "cell_type": "code",
   "execution_count": 39,
   "metadata": {},
   "outputs": [
    {
     "name": "stdout",
     "output_type": "stream",
     "text": [
      "inner a = 30\n",
      "outer a = 20\n",
      "main a = 10\n"
     ]
    }
   ],
   "source": [
    "def outer_function():\n",
    "    a = 20\n",
    "    def inner_function():\n",
    "        a = 30\n",
    "        print('inner a =',a)\n",
    "\n",
    "    inner_function()\n",
    "    print('outer a =',a)\n",
    "     \n",
    "a = 10\n",
    "outer_function()\n",
    "print('main a =',a)"
   ]
  },
  {
   "cell_type": "code",
   "execution_count": 41,
   "metadata": {},
   "outputs": [
    {
     "name": "stdout",
     "output_type": "stream",
     "text": [
      "inner a = 30\n",
      "inner b = 30\n",
      "outer a = 30\n",
      "outer b = 30\n",
      "main a = 30\n",
      "main b = 10\n"
     ]
    }
   ],
   "source": [
    "def outer_function():\n",
    "    global a\n",
    "    b = 20\n",
    "    a = 20\n",
    "    def inner_function():\n",
    "        global a\n",
    "        nonlocal b\n",
    "        a = 30\n",
    "        b = 30\n",
    "        print('inner a =', a)\n",
    "        print('inner b =', b)\n",
    "\n",
    "    inner_function()\n",
    "    print('outer a =', a)\n",
    "    print('outer b =', b)\n",
    "     \n",
    "a = 10\n",
    "b = 10\n",
    "outer_function()\n",
    "print('main a =', a)\n",
    "print('main b =', b)"
   ]
  },
  {
   "cell_type": "code",
   "execution_count": null,
   "metadata": {},
   "outputs": [],
   "source": []
  },
  {
   "cell_type": "markdown",
   "metadata": {},
   "source": [
    "# Classes and Objects\n",
    "* \"Objects are Python’s abstraction for data.\"\n",
    "* **\"All data in a Python program is represented by objects or by relations between objects.\"**\n",
    "* \"Every object has an identity, a type and a value.\"\n",
    "* \"An object’s identity never changes once it has been created; you may think of it as the object’s address in memory.\"\n",
    "* \"The `‘is’` operator compares the identity of two objects.\"\n",
    "* \"The `id()` function returns an integer representing its identity.\"\n",
    "\n",
    "https://docs.python.org/dev/reference/datamodel.html\n",
    "\n",
    "* Classes are defined using the `class` keyword.\n",
    "* Use the `CamelCase` syntax for class names\n",
    "* \"Creating a new class creates a new *type* of object, allowing new *instances* of that type to be made.\"\n",
    "\n",
    "https://docs.python.org/3/tutorial/classes.html"
   ]
  },
  {
   "cell_type": "code",
   "execution_count": 176,
   "metadata": {},
   "outputs": [
    {
     "data": {
      "text/plain": [
       "__main__.Book"
      ]
     },
     "execution_count": 176,
     "metadata": {},
     "output_type": "execute_result"
    }
   ],
   "source": [
    "# user defined class\n",
    "class Book():\n",
    "    pass\n",
    "\n",
    "# create an instance of the Book class\n",
    "b = Book()\n",
    "# check the type of the instance\n",
    "type(b)"
   ]
  },
  {
   "cell_type": "code",
   "execution_count": 177,
   "metadata": {},
   "outputs": [
    {
     "data": {
      "text/plain": [
       "140141237695712"
      ]
     },
     "execution_count": 177,
     "metadata": {},
     "output_type": "execute_result"
    }
   ],
   "source": [
    "# get the identiy integer of the instance e\n",
    "id(b)"
   ]
  },
  {
   "cell_type": "code",
   "execution_count": 178,
   "metadata": {},
   "outputs": [
    {
     "data": {
      "text/plain": [
       "False"
      ]
     },
     "execution_count": 178,
     "metadata": {},
     "output_type": "execute_result"
    }
   ],
   "source": [
    "# create a second instance of the Book class\n",
    "c = Book()\n",
    "# check for the identity of the two instances\n",
    "b is c"
   ]
  },
  {
   "cell_type": "code",
   "execution_count": 179,
   "metadata": {},
   "outputs": [
    {
     "data": {
      "text/plain": [
       "True"
      ]
     },
     "execution_count": 179,
     "metadata": {},
     "output_type": "execute_result"
    }
   ],
   "source": [
    "# create a new variable that points to the e instance\n",
    "b2 = b\n",
    "# check for the identity of the two variables b and b2\n",
    "b is b2"
   ]
  },
  {
   "cell_type": "markdown",
   "metadata": {},
   "source": [
    "## ```self ```\n",
    "\n",
    "\n",
    "\"Often, the first argument of a method is called ```self```. This is nothing more than a convention: the name ```self``` has absolutely no special meaning to Python. Note, however, that by not following the convention your code may be less readable to other Python programmers, and it is also conceivable that a *class browser* program might be written that relies upon such a convention.\"\n",
    "\n",
    "\n",
    "\"Methods may call other methods by using method attributes of the ```self``` argument:\n",
    "\n",
    "```python\n",
    "class Bag:\n",
    "    def __init__(self):\n",
    "        self.data = []\n",
    "\n",
    "    def add(self, x):\n",
    "        self.data.append(x)\n",
    "\n",
    "    def addtwice(self, x):\n",
    "        self.add(x)\n",
    "        self.add(x)\n",
    "```\n",
    "\"\n",
    "\n",
    "https://docs.python.org/3/tutorial/classes.html#random-remarks\n",
    "\n",
    "\n",
    "## __init()__\n",
    "\n",
    "\"The instantiation operation (“calling” a class object) creates an empty object. Many classes like to create objects with instances customized to a specific initial state. Therefore a class may define a special method named ```__init__()```, like this:\n",
    "\n",
    "```python\n",
    "def __init__(self):\n",
    "    self.data = []\n",
    "```\n",
    "\n",
    "When a class defines an ```__init__()``` method, class instantiation automatically invokes ```__init__()``` for the newly-created class instance. So in this example, a new, initialized instance can be obtained by:\n",
    "\n",
    "```python\n",
    "x = MyClass()\n",
    "```\n",
    "\n",
    "\n",
    "Of course, the ```__init__()``` method may have arguments for greater flexibility. In that case, arguments given to the class instantiation operator are passed on to ```__init__()```. For example,\n",
    "\n",
    "```python\n",
    ">>> class Complex:\n",
    "...     def __init__(self, realpart, imagpart):\n",
    "...         self.r = realpart\n",
    "...         self.i = imagpart\n",
    "...\n",
    ">>> x = Complex(3.0, -4.5)\n",
    ">>> x.r, x.i\n",
    "(3.0, -4.5)\n",
    "```\n",
    "\n",
    "Methods may reference global names in the same way as ordinary functions. The global scope associated with a method is the module containing its definition. (A class is never used as a global scope.) While one rarely encounters a good reason for using global data in a method, there are many legitimate uses of the global scope: for one thing, functions and modules imported into the global scope can be used by methods, as well as functions and classes defined in it. Usually, the class containing the method is itself defined in this global scope, and in the next section we’ll find some good reasons why a method would want to reference its own class.\n",
    "\n",
    "Each value is an object, and therefore has a class (also called its type). It is stored as ```object.__class__```.\"\n",
    "\n",
    "https://docs.python.org/3/tutorial/classes.html#class-objects\n",
    "\n",
    "## Inheritance\n",
    "\n",
    "\n",
    "\"Of course, a language feature would not be worthy of the name “class” without supporting inheritance. The syntax for a derived class definition looks like this:\n",
    "\n",
    "```python\n",
    "class DerivedClassName(BaseClassName):\n",
    "    <statement-1>\n",
    "    .\n",
    "    .\n",
    "    .\n",
    "    <statement-N>\n",
    "```\n",
    "The name ```BaseClassName``` must be defined in a scope containing the derived class definition. In place of a base class name, other arbitrary expressions are also allowed. This can be useful, for example, when the base class is defined in another module:\n",
    "\n",
    "```python\n",
    "class DerivedClassName(modname.BaseClassName):\n",
    "```\n",
    "\n",
    "Execution of a derived class definition proceeds the same as for a base class. When the class object is constructed, the base class is remembered. This is used for resolving attribute references: if a requested attribute is not found in the class, the search proceeds to look in the base class. This rule is applied recursively if the base class itself is derived from some other class.\n",
    "\n",
    "There’s nothing special about instantiation of derived classes: ```DerivedClassName()``` creates a new instance of the class. Method references are resolved as follows: the corresponding class attribute is searched, descending down the chain of base classes if necessary, and the method reference is valid if this yields a function object.\n",
    "\n",
    "Derived classes may override methods of their base classes. Because methods have no special privileges when calling other methods of the same object, a method of a base class that calls another method defined in the same base class may end up calling a method of a derived class that overrides it. (For C++ programmers: all methods in Python are effectively ```virtual```.)\n",
    "\n",
    "An overriding method in a derived class may in fact want to extend rather than simply replace the base class method of the same name. There is a simple way to call the base class method directly: just call ```BaseClassName.methodname(self, arguments)```. This is occasionally useful to clients as well. (Note that this only works if the base class is accessible as ```BaseClassName``` in the global scope.)\n",
    "\n",
    "Python has two built-in functions that work with inheritance:\n",
    "* Use ```isinstance()``` to check an instance’s type: ```isinstance(obj, int)``` will be ```True``` only if ```obj.__class__``` is ```int``` or some class derived from ```int```.\n",
    "* Use ```issubclass()``` to check class inheritance: ```issubclass(bool, int)``` is ```True``` since bool is a subclass of ```int```. However, ```issubclass(float, int)``` is ```False``` since ```float``` is not a subclass of ```int```.\"\n",
    "\n",
    "https://docs.python.org/3/tutorial/classes.html#inheritance"
   ]
  },
  {
   "cell_type": "code",
   "execution_count": 184,
   "metadata": {},
   "outputs": [
    {
     "name": "stdout",
     "output_type": "stream",
     "text": [
      "John Doe\n"
     ]
    }
   ],
   "source": [
    "# example from https://www.w3schools.com/python/python_inheritance.asp\n",
    "class Person:\n",
    "    def __init__(self, fname, lname):\n",
    "        self.firstname = fname\n",
    "        self.lastname = lname\n",
    "\n",
    "    def printname(self):\n",
    "        print(self.firstname, self.lastname)\n",
    "\n",
    "x = Person(\"John\", \"Doe\")\n",
    "x.printname()"
   ]
  },
  {
   "cell_type": "code",
   "execution_count": 185,
   "metadata": {},
   "outputs": [
    {
     "name": "stdout",
     "output_type": "stream",
     "text": [
      "Mike Olsen\n"
     ]
    }
   ],
   "source": [
    "class Student(Person):\n",
    "    pass\n",
    "\n",
    "x = Student(\"Mike\", \"Olsen\")\n",
    "x.printname()"
   ]
  },
  {
   "cell_type": "markdown",
   "metadata": {},
   "source": [
    "# Exercises\n",
    "\n",
    "## Data Types\n",
    "Questions from https://www.w3resource.com/python-exercises/python-data-types.php.\n",
    "* Write a Python program to test whether an input is an integer.\n",
    "* Write a Python program to sort (ascending and descending) a dictionary by value.\n",
    "* Write a Python program to check if a given key already exists in a dictionary.\n",
    "* Write a Python program to remove duplicates from a list.\n",
    "* Write a Python program to check a list is empty or not.\n",
    "* Write a Python function that takes two lists and returns True if they have at least one common member."
   ]
  },
  {
   "cell_type": "code",
   "execution_count": 204,
   "metadata": {},
   "outputs": [
    {
     "data": {
      "text/plain": [
       "True"
      ]
     },
     "execution_count": 204,
     "metadata": {},
     "output_type": "execute_result"
    }
   ],
   "source": [
    "# input is integer\n",
    "isinstance(3, int)"
   ]
  },
  {
   "cell_type": "code",
   "execution_count": 230,
   "metadata": {},
   "outputs": [
    {
     "data": {
      "text/plain": [
       "True"
      ]
     },
     "execution_count": 230,
     "metadata": {},
     "output_type": "execute_result"
    }
   ],
   "source": [
    "a = 3\n",
    "a == int(a)"
   ]
  },
  {
   "cell_type": "code",
   "execution_count": 232,
   "metadata": {},
   "outputs": [
    {
     "data": {
      "text/plain": [
       "False"
      ]
     },
     "execution_count": 232,
     "metadata": {},
     "output_type": "execute_result"
    }
   ],
   "source": [
    "type(3.0) == int"
   ]
  },
  {
   "cell_type": "code",
   "execution_count": 235,
   "metadata": {},
   "outputs": [
    {
     "data": {
      "text/plain": [
       "[('two', 2), ('one', 1)]"
      ]
     },
     "execution_count": 235,
     "metadata": {},
     "output_type": "execute_result"
    }
   ],
   "source": [
    "# sort dict\n",
    "d = {'one': 1, 'two':2}\n",
    "sorted(d.items(), key=lambda x: x[1], reverse=True)"
   ]
  },
  {
   "cell_type": "code",
   "execution_count": 238,
   "metadata": {},
   "outputs": [
    {
     "data": {
      "text/plain": [
       "True"
      ]
     },
     "execution_count": 238,
     "metadata": {},
     "output_type": "execute_result"
    }
   ],
   "source": [
    "# check key in dict\n",
    "'one' in d"
   ]
  },
  {
   "cell_type": "code",
   "execution_count": 207,
   "metadata": {},
   "outputs": [
    {
     "data": {
      "text/plain": [
       "{1, 2, 3}"
      ]
     },
     "execution_count": 207,
     "metadata": {},
     "output_type": "execute_result"
    }
   ],
   "source": [
    "# remove duplicates from list\n",
    "set([1, 2, 3, 1, 2, 3])"
   ]
  },
  {
   "cell_type": "code",
   "execution_count": 210,
   "metadata": {},
   "outputs": [
    {
     "name": "stdout",
     "output_type": "stream",
     "text": [
      "True\n",
      "False\n"
     ]
    }
   ],
   "source": [
    "# check empty list\n",
    "print(not [])\n",
    "\n",
    "print(not [1, 2])"
   ]
  },
  {
   "cell_type": "code",
   "execution_count": 243,
   "metadata": {},
   "outputs": [
    {
     "data": {
      "text/plain": [
       "True"
      ]
     },
     "execution_count": 243,
     "metadata": {},
     "output_type": "execute_result"
    }
   ],
   "source": [
    "not ''"
   ]
  },
  {
   "cell_type": "code",
   "execution_count": 239,
   "metadata": {},
   "outputs": [
    {
     "data": {
      "text/plain": [
       "True"
      ]
     },
     "execution_count": 239,
     "metadata": {},
     "output_type": "execute_result"
    }
   ],
   "source": [
    "len([]) == 0"
   ]
  },
  {
   "cell_type": "code",
   "execution_count": 246,
   "metadata": {},
   "outputs": [
    {
     "data": {
      "text/plain": [
       "True"
      ]
     },
     "execution_count": 246,
     "metadata": {},
     "output_type": "execute_result"
    }
   ],
   "source": [
    "# check common member in lists\n",
    "\n",
    "def check_common(a, b):\n",
    "    for i in a:\n",
    "        if i in b:\n",
    "            return True\n",
    "    return False\n",
    "\n",
    "\n",
    "a = [1, 2, 3]\n",
    "b = [3, 4, 5]\n",
    "\n",
    "check_common(a, b)\n"
   ]
  },
  {
   "cell_type": "markdown",
   "metadata": {},
   "source": [
    "## Functions\n",
    "Some questions from https://www.w3resource.com/python-exercises/python-functions-exercises.php.\n",
    "* Write a Python function to find the Max of three numbers.\n",
    "* Write a Python function to sum all the numbers in a list.\n",
    "* Write a Python program to reverse a string. Go to the editor. Sample String : \"1234abcd\". Expected Output : \"dcba4321\".\n",
    "* Write a Python function to calculate the factorial of a number (a non-negative integer). The function accepts the number as an argument. \n",
    "* Write a Python function to check whether a number is in a given range.\n",
    "* Define a `lambda` function to double a value.\n",
    "* Use the `lambda` function to double values in a list [10, 12, 14, 16]. Use list comprehension.\n",
    "* Define a function that returns `min()` and `max()` based on string input."
   ]
  },
  {
   "cell_type": "code",
   "execution_count": 248,
   "metadata": {},
   "outputs": [
    {
     "data": {
      "text/plain": [
       "3"
      ]
     },
     "execution_count": 248,
     "metadata": {},
     "output_type": "execute_result"
    }
   ],
   "source": [
    "# max of 3 numbers\n",
    "def max_of_three(a, b, c):\n",
    "    return max([a, b, c])\n",
    "max_of_three(1, 2, 3)"
   ]
  },
  {
   "cell_type": "code",
   "execution_count": 249,
   "metadata": {},
   "outputs": [
    {
     "data": {
      "text/plain": [
       "6"
      ]
     },
     "execution_count": 249,
     "metadata": {},
     "output_type": "execute_result"
    }
   ],
   "source": [
    "# sum of list\n",
    "def sum_of_list(a):\n",
    "    return sum(a)\n",
    "sum_of_list([1, 2, 3])"
   ]
  },
  {
   "cell_type": "code",
   "execution_count": 250,
   "metadata": {},
   "outputs": [
    {
     "data": {
      "text/plain": [
       "'dcba4321'"
      ]
     },
     "execution_count": 250,
     "metadata": {},
     "output_type": "execute_result"
    }
   ],
   "source": [
    "# reverse string\n",
    "\"1234abcd\"[::-1]"
   ]
  },
  {
   "cell_type": "code",
   "execution_count": 225,
   "metadata": {},
   "outputs": [
    {
     "name": "stdout",
     "output_type": "stream",
     "text": [
      "4\n",
      "3\n",
      "2\n",
      "1\n"
     ]
    },
    {
     "data": {
      "text/plain": [
       "'dcba'"
      ]
     },
     "execution_count": 225,
     "metadata": {},
     "output_type": "execute_result"
    }
   ],
   "source": [
    "def rev(s):\n",
    "    r = ''\n",
    "    for i in range(len(s), 0, -1):\n",
    "        r += s[i-1]\n",
    "        #r = r+s[i-1]\n",
    "    return r\n",
    "rev('abcd')"
   ]
  },
  {
   "cell_type": "code",
   "execution_count": 251,
   "metadata": {},
   "outputs": [
    {
     "data": {
      "text/plain": [
       "120"
      ]
     },
     "execution_count": 251,
     "metadata": {},
     "output_type": "execute_result"
    }
   ],
   "source": [
    "# factorial\n",
    "def fac(a):\n",
    "    if a > 0:\n",
    "        return a*fac(a-1)\n",
    "    else:\n",
    "        return 1\n",
    "fac(5)"
   ]
  },
  {
   "cell_type": "code",
   "execution_count": 226,
   "metadata": {},
   "outputs": [
    {
     "name": "stdout",
     "output_type": "stream",
     "text": [
      "3 in range\n"
     ]
    }
   ],
   "source": [
    "# number in range\n",
    "i = 3\n",
    "if i in range(0, 9):\n",
    "    print(\"{} in range\".format(i))"
   ]
  },
  {
   "cell_type": "code",
   "execution_count": 253,
   "metadata": {},
   "outputs": [
    {
     "data": {
      "text/plain": [
       "8"
      ]
     },
     "execution_count": 253,
     "metadata": {},
     "output_type": "execute_result"
    }
   ],
   "source": [
    "# lambda function to double a value\n",
    "double = lambda x: x*2\n",
    "double(4)"
   ]
  },
  {
   "cell_type": "code",
   "execution_count": 228,
   "metadata": {},
   "outputs": [
    {
     "data": {
      "text/plain": [
       "[2, 4, 6, 8]"
      ]
     },
     "execution_count": 228,
     "metadata": {},
     "output_type": "execute_result"
    }
   ],
   "source": [
    "# list comprehension to double values in a list\n",
    "[double(x) for x in [1, 2, 3, 4]]"
   ]
  },
  {
   "cell_type": "code",
   "execution_count": 229,
   "metadata": {},
   "outputs": [
    {
     "data": {
      "text/plain": [
       "3"
      ]
     },
     "execution_count": 229,
     "metadata": {},
     "output_type": "execute_result"
    }
   ],
   "source": [
    "# Define a function that returns min() and max() based on string input.\n",
    "def mm(i, f):\n",
    "    if f=='min':\n",
    "        return min(i)\n",
    "    elif f=='max':\n",
    "        return max(i)\n",
    "    print(\"function {} not found\".format(f))\n",
    "mm([1, 2, 3], 'max')"
   ]
  },
  {
   "cell_type": "markdown",
   "metadata": {},
   "source": [
    "## Classes\n",
    "Questions from https://www.w3resource.com/python-exercises/class-exercises/index.php.\n",
    "* Write a Python class to convert an integer to a roman numeral. \n",
    "* Write a Python class named Circle constructed by a radius and two methods which will compute the area and the perimeter of a circle."
   ]
  },
  {
   "cell_type": "code",
   "execution_count": null,
   "metadata": {},
   "outputs": [],
   "source": []
  },
  {
   "cell_type": "code",
   "execution_count": null,
   "metadata": {},
   "outputs": [],
   "source": []
  },
  {
   "cell_type": "markdown",
   "metadata": {},
   "source": [
    "# Exercise Solutions\n",
    "## Data Types"
   ]
  },
  {
   "cell_type": "code",
   "execution_count": null,
   "metadata": {},
   "outputs": [],
   "source": [
    "# Write a Python program to test whether an input is an integer.\n",
    "# https://www.w3resource.com/python-exercises/python-data-type-exercise-16.php\n",
    "def is_integer(n):    \n",
    "    try:  \n",
    "        n= int(n)  \n",
    "        print(\"valid integer :\", n)  \n",
    "    except ValueError as err:  \n",
    "        print(err)  \n",
    "is_integer(15)  \n",
    "is_integer(5.65)  \n",
    "is_integer('5.65')  "
   ]
  },
  {
   "cell_type": "code",
   "execution_count": null,
   "metadata": {},
   "outputs": [],
   "source": [
    "# Write a Python program to sort (ascending and descending) a dictionary by value.\n",
    "# https://www.w3resource.com/python-exercises/python-data-type-exercise-17.php\n",
    "\n",
    "import operator\n",
    "d = {1: 2, 3: 4, 4: 3, 2: 1, 0: 0}\n",
    "print('Original dictionary : ',d)\n",
    "\n",
    "sorted_d = sorted(d.items(), key=operator.itemgetter(0))\n",
    "print('Dictionary in ascending order by value : ',sorted_d)\n",
    "\n",
    "sorted_d = sorted(d.items(), key=operator.itemgetter(0),reverse=True)\n",
    "print('Dictionary in descending order by value : ',sorted_d)"
   ]
  },
  {
   "cell_type": "code",
   "execution_count": null,
   "metadata": {},
   "outputs": [],
   "source": [
    "# Write a Python program to check if a given key already exists in a dictionary.\n",
    "# https://www.w3resource.com/python-exercises/python-data-type-exercise-21.php\n",
    "\n",
    "d = {1: 10, 2: 20, 3: 30, 4: 40, 5: 50, 6: 60}  \n",
    "def is_key_present(x):  \n",
    "    if x in d:  \n",
    "        print('Key is present in the dictionary')  \n",
    "    else:  \n",
    "        print('Key is not present in the dictionary')  \n",
    "\n",
    "is_key_present(5)  \n",
    "is_key_present(9)  "
   ]
  },
  {
   "cell_type": "code",
   "execution_count": null,
   "metadata": {},
   "outputs": [],
   "source": [
    "# Write a Python program to remove duplicates from a list.\n",
    "# https://www.w3resource.com/python-exercises/python-data-type-exercise-23.php\n",
    "\n",
    "a = [10, 20, 30, 20, 10, 50, 60, 40, 80, 50, 40]  \n",
    "  \n",
    "dup_items = set()  \n",
    "uniq_items = []  \n",
    "for x in a:  \n",
    "    if x not in dup_items:  \n",
    "        uniq_items.append(x)  \n",
    "        dup_items.add(x)  \n",
    "\n",
    "print(dup_items) "
   ]
  },
  {
   "cell_type": "code",
   "execution_count": null,
   "metadata": {},
   "outputs": [],
   "source": [
    "# Write a Python program to check a list is empty or not.\n",
    "# https://www.w3resource.com/python-exercises/python-data-type-exercise-24.php\n",
    "\n",
    "l = []  \n",
    "if not l:  \n",
    "    print(\"List is empty\")  "
   ]
  },
  {
   "cell_type": "code",
   "execution_count": null,
   "metadata": {},
   "outputs": [],
   "source": [
    "# Write a Python function that takes two lists and returns True if they have at least one common member.\n",
    "# https://www.w3resource.com/python-exercises/python-data-type-exercise-31.php\n",
    "\n",
    "def common_data(list1, list2):\n",
    "    result = False\n",
    "    for x in list1:\n",
    "        for y in list2:\n",
    "            if x == y:\n",
    "                result = True\n",
    "                return result\n",
    "print(common_data([1,2,3,4,5], [5,6,7,8,9]))\n",
    "print(common_data([1,2,3,4,5], [6,7,8,9]))\n"
   ]
  },
  {
   "cell_type": "markdown",
   "metadata": {},
   "source": [
    "## Functions"
   ]
  },
  {
   "cell_type": "code",
   "execution_count": null,
   "metadata": {},
   "outputs": [],
   "source": [
    "# Write a Python function to find the Max of three numbers.\n",
    "# https://www.w3resource.com/python-exercises/python-functions-exercise-1.php\n",
    "\n",
    "def max_of_two( x, y ):\n",
    "    if x > y:\n",
    "        return x\n",
    "    return y\n",
    "def max_of_three( x, y, z ):\n",
    "    return max_of_two( x, max_of_two( y, z ) )\n",
    "print(max_of_three(3, 6, -5))"
   ]
  },
  {
   "cell_type": "code",
   "execution_count": null,
   "metadata": {},
   "outputs": [],
   "source": [
    "# Write a Python function to sum all the numbers in a list.\n",
    "# https://www.w3resource.com/python-exercises/python-functions-exercise-2.php\n",
    "def sum(numbers):\n",
    "    total = 0\n",
    "    for x in numbers:\n",
    "        total += x\n",
    "    return total\n",
    "print(sum((8, 2, 3, 0, 7)))"
   ]
  },
  {
   "cell_type": "code",
   "execution_count": null,
   "metadata": {},
   "outputs": [],
   "source": [
    "# Write a Python program to reverse a string. Go to the editor. \n",
    "# Sample String : \"1234abcd\". Expected Output : \"dcba4321\".\n",
    "# https://www.w3resource.com/python-exercises/python-functions-exercise-4.php\n",
    "\n",
    "def string_reverse(str1):\n",
    "\n",
    "    rstr1 = ''\n",
    "    index = len(str1)\n",
    "    while index > 0:\n",
    "        rstr1 += str1[ index - 1 ]\n",
    "        index = index - 1\n",
    "    return rstr1\n",
    "print(string_reverse('1234abcd'))"
   ]
  },
  {
   "cell_type": "code",
   "execution_count": 215,
   "metadata": {},
   "outputs": [
    {
     "name": "stdout",
     "output_type": "stream",
     "text": [
      "Input a number to compute the factiorial : 3\n",
      "6\n"
     ]
    }
   ],
   "source": [
    "# Write a Python function to calculate the factorial of a number (a non-negative integer). \n",
    "# The function accepts the number as an argument. \n",
    "# https://www.w3resource.com/python-exercises/python-functions-exercise-5.php\n",
    "\n",
    "def factorial(n):\n",
    "    if n == 0:\n",
    "        return 1\n",
    "    else:\n",
    "        return n * factorial(n-1)\n",
    "n=int(input(\"Input a number to compute the factiorial : \"))\n",
    "print(factorial(n))"
   ]
  },
  {
   "cell_type": "code",
   "execution_count": null,
   "metadata": {},
   "outputs": [],
   "source": [
    "# Write a Python function to check whether a number is in a given range.\n",
    "# https://www.w3resource.com/python-exercises/python-functions-exercise-6.php\n",
    "\n",
    "def test_range(n):\n",
    "    if n in range(3,9):\n",
    "        print( \" %s is in the range\"%str(n))\n",
    "    else :\n",
    "        print(\"The number is outside the given range.\")\n",
    "test_range(5)"
   ]
  },
  {
   "cell_type": "code",
   "execution_count": null,
   "metadata": {},
   "outputs": [],
   "source": [
    "# Define a `lambda` function to double a value.\n",
    "lambda_f = (lambda x: 2 * x)"
   ]
  },
  {
   "cell_type": "code",
   "execution_count": null,
   "metadata": {},
   "outputs": [],
   "source": [
    "# Use the `lambda` function to double values in a list [10, 12, 14, 16]. Use list comprehension.\n",
    "([lambda_f(x) for x in [10, 12, 14, 16]])"
   ]
  },
  {
   "cell_type": "code",
   "execution_count": null,
   "metadata": {},
   "outputs": [],
   "source": [
    "# Define a function that returns `min()` and `max()` based on string input.\n",
    "alist = [10, 40, 12, 14, 16]\n",
    "\n",
    "def output(value_list, some_func):\n",
    "    print(some_func(value_list))\n",
    "    return some_func(value_list)\n",
    "    \n",
    "\n",
    "result1 = output(alist, max)"
   ]
  },
  {
   "cell_type": "markdown",
   "metadata": {},
   "source": [
    "## Classes"
   ]
  },
  {
   "cell_type": "code",
   "execution_count": 256,
   "metadata": {},
   "outputs": [
    {
     "name": "stdout",
     "output_type": "stream",
     "text": [
      "I\n",
      "MMXIX\n",
      "MMMM\n"
     ]
    }
   ],
   "source": [
    "# Write a Python class to convert an integer to a roman numeral. \n",
    "# https://www.w3resource.com/python-exercises/class-exercises/python-class-exercise-1.php\n",
    "\n",
    "class Roman:\n",
    "    def int_to_Roman(self, num):\n",
    "        val = [\n",
    "            1000, 900, 500, 400,\n",
    "            100, 90, 50, 40,\n",
    "            10, 9, 5, 4,\n",
    "            1\n",
    "            ]\n",
    "        syb = [\n",
    "            \"M\", \"CM\", \"D\", \"CD\",\n",
    "            \"C\", \"XC\", \"L\", \"XL\",\n",
    "            \"X\", \"IX\", \"V\", \"IV\",\n",
    "            \"I\"\n",
    "            ]\n",
    "        roman_num = ''\n",
    "        i = 0\n",
    "        while  num > 0:\n",
    "            for _ in range(num // val[i]):\n",
    "                roman_num += syb[i]\n",
    "                num -= val[i]\n",
    "            i += 1\n",
    "        return roman_num\n",
    "\n",
    "\n",
    "print(Roman().int_to_Roman(1))\n",
    "print(Roman().int_to_Roman(2019))\n",
    "print(Roman().int_to_Roman(4000))"
   ]
  },
  {
   "cell_type": "code",
   "execution_count": null,
   "metadata": {},
   "outputs": [],
   "source": [
    "# Write a Python class named Circle constructed by a radius and two methods which will compute \n",
    "# the area and the perimeter of a circle.\n",
    "# https://www.w3resource.com/python-exercises/class-exercises/python-class-exercise-11.php\n",
    "\n",
    "class Circle():\n",
    "    def __init__(self, r):\n",
    "        self.radius = r\n",
    "\n",
    "    def area(self):\n",
    "        return self.radius**2*3.14\n",
    "    \n",
    "    def perimeter(self):\n",
    "        return 2*self.radius*3.14\n",
    "\n",
    "NewCircle = Circle(8)\n",
    "print(NewCircle.area())\n",
    "print(NewCircle.perimeter())"
   ]
  }
 ],
 "metadata": {
  "kernelspec": {
   "display_name": "Python 3",
   "language": "python",
   "name": "python3"
  },
  "language_info": {
   "codemirror_mode": {
    "name": "ipython",
    "version": 3
   },
   "file_extension": ".py",
   "mimetype": "text/x-python",
   "name": "python",
   "nbconvert_exporter": "python",
   "pygments_lexer": "ipython3",
   "version": "3.6.8"
  }
 },
 "nbformat": 4,
 "nbformat_minor": 2
}
