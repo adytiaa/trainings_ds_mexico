{
 "cells": [
  {
   "cell_type": "markdown",
   "metadata": {},
   "source": [
    "# Introduction to Machine Learning"
   ]
  },
  {
   "cell_type": "markdown",
   "metadata": {},
   "source": [
    "- **Machine learning**: the science and art of programming computers so they can learn from data.\n",
    "\n",
    "- In *classical programming* humans input rules (a program) and data to be processed according to these rules, and the outputs are *answers*. \n",
    "\n",
    "- In **machine learning**, humans input data and the expected answers, and the outputs are the rules."
   ]
  },
  {
   "cell_type": "markdown",
   "metadata": {},
   "source": [
    "<img src=\"img_ML/Figure_1_ML.png\"/>"
   ]
  },
  {
   "cell_type": "markdown",
   "metadata": {},
   "source": [
    "<sub>Adapted from ‘Deep Learning with Python’ by Francois Chollet.</sub>"
   ]
  },
  {
   "cell_type": "markdown",
   "metadata": {},
   "source": [
    "What is **machine learning** useful for?"
   ]
  },
  {
   "cell_type": "markdown",
   "metadata": {},
   "source": [
    "- Problems for which existing solutions require a lot of hand-tuning or long lists of rules.\n",
    "- Complex problems for which there is no solution using a traditional approach.\n",
    "- Fluctuating environments since it can adapt to new data.\n",
    "- Large amounts of data."
   ]
  },
  {
   "cell_type": "markdown",
   "metadata": {},
   "source": [
    "### Machine Learning: Email Spam Filtering\n",
    "\n",
    "- Machine learning algorithms deal with spam filtering problem:\n",
    "e.g. multilayer perceptron, C4.5 decision tree."
   ]
  },
  {
   "cell_type": "markdown",
   "metadata": {},
   "source": [
    "<img src=\"img_ML/Figure_2_spam_filter.png\"/>"
   ]
  },
  {
   "cell_type": "markdown",
   "metadata": {},
   "source": [
    "### Machine Learning: Autonomous Driving\n",
    "\n",
    "- Driver assistance; partial, conditional, high or complete automation. "
   ]
  },
  {
   "cell_type": "markdown",
   "metadata": {},
   "source": [
    "<img src=\"img_ML/Figure_3_autonomous_driving.png\"/>"
   ]
  },
  {
   "cell_type": "markdown",
   "metadata": {},
   "source": [
    "<sub>By Dllu - Own work, CC BY-SA 4.0, https://commons.wikimedia.org/w/index.php?curid=64517567\n",
    "By Bcschneider53 - Own work, CC BY-SA 4.0, https://commons.wikimedia.org/w/index.php?curid=63494208</sub>"
   ]
  },
  {
   "cell_type": "markdown",
   "metadata": {},
   "source": [
    "### Machine Learning: Video Surveillance\n",
    "\n",
    "- Track unusual behavior of people like stumbling or stop moving for a long time.\n",
    "- Detection of intruders."
   ]
  },
  {
   "cell_type": "markdown",
   "metadata": {},
   "source": [
    "<img src=\"img_ML/Figure_4_video_surveillance.png\"/>"
   ]
  },
  {
   "cell_type": "markdown",
   "metadata": {},
   "source": [
    "<sub>By Hustvedt - Own work, CC BY-SA 3.0, https://commons.wikimedia.org/w/index.php?curid=3466036\n",
    "By Jimmy answering questions.jpg: Wikimania2009 Beatrice Murchderivative work: Sylenius (talk) - Jimmy answering questions.jpg, CC BY 3.0, https://commons.wikimedia.org/w/index.php?curid=11309460<sub>"
   ]
  },
  {
   "cell_type": "markdown",
   "metadata": {},
   "source": [
    "### Machine Learning: Data Security\n",
    "\n",
    "- Malwares (program or file harmful to a computer user): every new version varies between 2 and 10% from a previous one. "
   ]
  },
  {
   "cell_type": "markdown",
   "metadata": {},
   "source": [
    "<img src=\"img_ML/Figure_5_data_security.png\"/>"
   ]
  },
  {
   "cell_type": "markdown",
   "metadata": {},
   "source": [
    "<sub>By Keministi - Own work, CC0, https://commons.wikimedia.org/w/index.php?curid=65840376<sub>"
   ]
  },
  {
   "cell_type": "markdown",
   "metadata": {},
   "source": [
    "### Machine Learning: Virtual Personal Assistants\n",
    "\n",
    "- Siri, Alexa: find information when asked over voice."
   ]
  },
  {
   "cell_type": "markdown",
   "metadata": {},
   "source": [
    "<img src=\"img_ML/Figure_6_virtual_personal_assistants.png\"/>"
   ]
  },
  {
   "cell_type": "markdown",
   "metadata": {},
   "source": [
    "<sub>By Maurizio Pesce from Milan, Italia - Android Assistant on the Google Pixel XL smartphone, CC BY 2.0, https://commons.wikimedia.org/w/index.php?curid=52110130\n",
    "By Frmorrison at English Wikipedia, CC BY-SA 3.0, https://commons.wikimedia.org/w/index.php?curid=47040540\n",
    "https://support.apple.com/lv-lv/HT204389<sub>"
   ]
  },
  {
   "cell_type": "markdown",
   "metadata": {},
   "source": [
    "### Machine Learning: Financial Trading\n",
    "\n",
    "- Predict stock markets moves to improve profits."
   ]
  },
  {
   "cell_type": "markdown",
   "metadata": {},
   "source": [
    "<img src=\"img_ML/Figure_7_financial_trading.png\"/>"
   ]
  },
  {
   "cell_type": "markdown",
   "metadata": {},
   "source": [
    "<sub>By Katrina.Tuliao - https://www.tradergroup.org, Public Domain, https://commons.wikimedia.org/w/index.php?curid=12262407<sub>"
   ]
  },
  {
   "cell_type": "markdown",
   "metadata": {},
   "source": [
    "### Machine Learning: Healthcare\n",
    "\n",
    "- Disease detection.\n",
    "- Assessing risk factors.\n",
    "- Drug discovery.\n",
    "- Predict readmissions."
   ]
  },
  {
   "cell_type": "markdown",
   "metadata": {},
   "source": [
    "<img src=\"img_ML/Figure_8_healthcare.png\"/>"
   ]
  },
  {
   "cell_type": "markdown",
   "metadata": {},
   "source": [
    "<sub>By Unknown - http://www.dodmedia.osd.mil/Assets/1991/Army/DA-ST-91-01841.JPEG, Public Domain, https://commons.wikimedia.org/w/index.php?curid=780720\n",
    "By Seattle Municipal Archives from Seattle, WA - Doctors with patient, 1999, CC BY 2.0, https://commons.wikimedia.org/w/index.php?curid=9842204<sub>"
   ]
  },
  {
   "cell_type": "markdown",
   "metadata": {},
   "source": [
    "### Machine Learning: Personalized Marketing\n",
    "\n",
    "- Understand customer’s behavior to deliver individualized messages and product offerings to current or prospective customers."
   ]
  },
  {
   "cell_type": "markdown",
   "metadata": {},
   "source": [
    "<img src=\"img_ML/Figure_9_personalized_marketing.png\"/>"
   ]
  },
  {
   "cell_type": "markdown",
   "metadata": {},
   "source": [
    "<sub>By Econ5470team3 - Own work, CC BY-SA 4.0, https://commons.wikimedia.org/w/index.php?curid=48541946<sub>"
   ]
  },
  {
   "cell_type": "markdown",
   "metadata": {},
   "source": [
    "### Machine Learning: Fraud Detection\n",
    "\n",
    "- Detect potential fraud cases e.g. insurance companies, banks."
   ]
  },
  {
   "cell_type": "markdown",
   "metadata": {},
   "source": [
    "<img src=\"img_ML/Figure_10_fraud_detection.png\"/>"
   ]
  },
  {
   "cell_type": "markdown",
   "metadata": {},
   "source": [
    "<sub>https://medium.com/@curiousily/credit-card-fraud-detection-using-autoencoders-in-keras-tensorflow-for-hackers-part-vii-20e0c85301bd<sub>"
   ]
  },
  {
   "cell_type": "markdown",
   "metadata": {},
   "source": [
    "### Machine Learning: Recommender Systems\n",
    "\n",
    "- Predict the rating or preference a user would give to an item:\n",
    "e.g. movie, song, research article, search queries, restaurants."
   ]
  },
  {
   "cell_type": "markdown",
   "metadata": {},
   "source": [
    "<img src=\"img_ML/Figure_11_recommender_systems.png\"/>"
   ]
  },
  {
   "cell_type": "markdown",
   "metadata": {},
   "source": [
    "<sub>https://www.offerzen.com/blog/how-to-build-a-content-based-recommender-system-for-your-product<sub>"
   ]
  },
  {
   "cell_type": "markdown",
   "metadata": {},
   "source": [
    "### What do you need for **machine learning**?\n",
    "\n",
    "- **Input data points**: e.g. pictures, sound files.\n",
    "- **Examples of the expected output (answers)**: e.g. tags such as ‘dogs’, ‘cats’; human-generated transcripts of sound files.\n",
    "- **A way to measure whether the algorithm is doing a good job**: to determine the distance between the algorithm’s output and its expected output. \n",
    "\n",
    "This is a feedback signal to adjust the way the algorithm works. "
   ]
  },
  {
   "cell_type": "markdown",
   "metadata": {},
   "source": [
    "<img src=\"img_ML/Figure_12_needs_ML.png\"/>"
   ]
  },
  {
   "cell_type": "markdown",
   "metadata": {},
   "source": [
    "<sub>Adapted from ‘Deep Learning with Python’ by Francois Chollet<sub>"
   ]
  },
  {
   "cell_type": "markdown",
   "metadata": {},
   "source": [
    "**Machine Learning**: learn useful representations of the input data to get us closer to the expected output.   "
   ]
  },
  {
   "cell_type": "markdown",
   "metadata": {},
   "source": [
    "<img src=\"img_ML/Figure_13_data_representations.png\"/>"
   ]
  },
  {
   "cell_type": "markdown",
   "metadata": {},
   "source": [
    "<sub>Adapted from ‘Deep Learning with Python’ by Francois Chollet.<sub>"
   ]
  },
  {
   "cell_type": "markdown",
   "metadata": {},
   "source": [
    "- **ML algorithms** automatically find transformations that turn data into useful representations of a given task. \n",
    "\n",
    "- To find these transformations they search into a set of operations, the **hypothesis space**.\n",
    "\n",
    "- **ML** searches useful **representations** of input data, within a predefined space of possibilities, using guidance from a **feedback signal**."
   ]
  },
  {
   "cell_type": "markdown",
   "metadata": {},
   "source": [
    "<img src=\"img_ML/Figure_14_ML_steps.png\"/>"
   ]
  },
  {
   "cell_type": "markdown",
   "metadata": {},
   "source": [
    "### Data Acquisition\n",
    "\n",
    "- Understand the problem.\n",
    "- Identify data sources.\n",
    "- Spot possible problems with the data."
   ]
  },
  {
   "cell_type": "markdown",
   "metadata": {},
   "source": [
    "### Data Types"
   ]
  },
  {
   "cell_type": "markdown",
   "metadata": {},
   "source": [
    "<img src=\"img_ML/Figure_15_data_types.png\"/>"
   ]
  },
  {
   "cell_type": "markdown",
   "metadata": {},
   "source": [
    "<img src=\"img_ML/Figure_16_data_types.png\"/>"
   ]
  },
  {
   "cell_type": "markdown",
   "metadata": {},
   "source": [
    "### Preprocessing: Data\n",
    "\n",
    "- Separate relevant data from noise.\n",
    "- Establish the data types available and the missing data.\n",
    "- Handling missing values.\n",
    "- Redundancy problems.\n",
    "- Data transformation.\n",
    "- Data reduction: e.g. aggregation."
   ]
  },
  {
   "cell_type": "markdown",
   "metadata": {},
   "source": [
    "### Processing: Train a Model  \n",
    "\n",
    "- Build a machine learning model of data to solve problems such as classification and regression. \n",
    "- The different parameters of this model can then be tweaked. "
   ]
  },
  {
   "cell_type": "markdown",
   "metadata": {},
   "source": [
    "### Machine Learning Algorithms"
   ]
  },
  {
   "cell_type": "markdown",
   "metadata": {},
   "source": [
    "<img src=\"img_ML/Figure_17_ML_algorithms.png\"/>\n",
    "\n",
    "https://scikit-learn.org/stable/tutorial/machine_learning_map/index.html"
   ]
  },
  {
   "cell_type": "markdown",
   "metadata": {},
   "source": [
    "### Types of Machine Learning Systems\n",
    "\n",
    "*Are they trained with human supervision?*\n",
    "\n",
    "                - Supervised\n",
    "                - Unsupervised \n",
    "                - Semisupervised\n",
    "                - Reinforcement Learning"
   ]
  },
  {
   "cell_type": "markdown",
   "metadata": {},
   "source": [
    "Can they learn incrementally on the fly?\n",
    "\n",
    "             - Online\n",
    "             - Batch Learning"
   ]
  },
  {
   "cell_type": "markdown",
   "metadata": {},
   "source": [
    "Do they compare new input data to known data points or do they detect patterns?\n",
    "                     - Instance-based\n",
    "                     - Model-based "
   ]
  },
  {
   "cell_type": "markdown",
   "metadata": {},
   "source": [
    "**These criteria can be combined.**"
   ]
  },
  {
   "cell_type": "markdown",
   "metadata": {},
   "source": [
    "### Supervised Learning\n",
    "\n",
    "The training data fed to the algorithm includes the desired solutions, called labels.\n",
    "\n",
    "In classification, the labels are discrete categories e.g. spam detection. \n",
    "In regression, the labels are continuous quantities e.g predicting the price of a car given the brand, mileage, etc"
   ]
  },
  {
   "cell_type": "markdown",
   "metadata": {},
   "source": [
    "Algorithms:\n",
    "- Linear Regression\n",
    "- Logistic Regression\n",
    "- Support Vector Machines (SVMs)\n",
    "- Decision Trees and Random Forest\n",
    "- Neural Networks"
   ]
  },
  {
   "cell_type": "markdown",
   "metadata": {},
   "source": [
    "<img src=\"img_ML/Figure_18_supervised_learning.png\"/>"
   ]
  },
  {
   "cell_type": "markdown",
   "metadata": {},
   "source": [
    "<sub>From ‘Python Data Science Handbook’ by Jake Vander Plas.<sub>"
   ]
  },
  {
   "cell_type": "markdown",
   "metadata": {},
   "source": [
    "### Supervised Learning: Linear Regression\n",
    "\n",
    "- In regression, the labels are continuous quantities.\n",
    "- A linear model makes a prediction by simply computing a weight sum of input features, plus a constant called the bias term or intercept term."
   ]
  },
  {
   "cell_type": "markdown",
   "metadata": {},
   "source": [
    "A simple regression model:\n",
    "\n",
    "$$y = ax + b$$"
   ]
  },
  {
   "cell_type": "markdown",
   "metadata": {},
   "source": [
    "<img src=\"img_ML/Figure_19_linear_regression.png\"/>"
   ]
  },
  {
   "cell_type": "markdown",
   "metadata": {},
   "source": [
    "- A linear model can be used to fit nonlinear data: polynomial regression.\n",
    "\n",
    "- Pass powers of each feature as new features and train the linear model on this set of features."
   ]
  },
  {
   "cell_type": "markdown",
   "metadata": {},
   "source": [
    "$$y = a_0 + a_1x_1 + a_2x_2 + a_3x_3 + ...$$ to $$y = a_0 + a_1x + a_2x^2 + a_3x^3+ ...$$ "
   ]
  },
  {
   "cell_type": "markdown",
   "metadata": {},
   "source": [
    "### Supervised Learning: Linear Regression\n",
    "#### Regularization\n",
    "\n",
    "- A way to reduce overfitting is to regularize the model (e.g. constrain it), having less degrees of freedom.\n",
    "\n",
    "- For example in a polynomial model: reduce the number of polynomial degrees.\n",
    "\n",
    "- Regularization of a linear model is usually achieved by constraining the weights of the model. "
   ]
  },
  {
   "cell_type": "markdown",
   "metadata": {},
   "source": [
    "### Supervised Learning: Logistic Regression\n",
    "\n",
    "- Some regression algorithms can be used for **classification** as well.\n",
    "- **Logistic regression**: estimates the probability that an instance belongs to a particular class (e.g. what is the probability that an email is spam?).\n",
    "- If the probability is grater that 50% the model predicts the instance belongs to that class (positive class, labeled ‘1’), or else it predicts that not (negative class, labeled ‘0’)\n",
    "- **Logistic Regression** can be generalized to support multiple classes directly."
   ]
  },
  {
   "cell_type": "markdown",
   "metadata": {},
   "source": [
    "<img src=\"img_ML/Figure_20_logistic_regression.png\"/>"
   ]
  },
  {
   "cell_type": "markdown",
   "metadata": {},
   "source": [
    "<sub>Adapted from ‘Deep Learning with Python’ by Francois Chollet.<sub>"
   ]
  },
  {
   "cell_type": "markdown",
   "metadata": {},
   "source": [
    "### Supervised Learning: Support Vector Machines (SVM)\n",
    "\n",
    "- **SVM** performs linear and non-linear regression, classification, regression and outlier detection.\n",
    "- **SVM** classifiers do not output probabilities for each class.\n",
    "- An **SVM model** is a representation of the examples as points in space, mapped so that the examples of the separate categories are divided by a gap as wide as possible.\n",
    "- New examples are then mapped into that space and predicted to belong to a category based on which side of the gap they fall."
   ]
  },
  {
   "cell_type": "markdown",
   "metadata": {},
   "source": [
    "<img src=\"img_ML/Figure_21_SVM.png\"/>"
   ]
  },
  {
   "cell_type": "markdown",
   "metadata": {},
   "source": [
    "<sub>From ‘Python Data Science Handbook’ by Jake Vander Plas.<sub>"
   ]
  },
  {
   "cell_type": "markdown",
   "metadata": {},
   "source": [
    "- **Linear SVM**: the line that maximizes this margin is the one chosen as the optimal model. Support vectors: training points touch the margin.\n",
    "\n",
    "- **Kernel SVM**: data non-linearly separable, projected into higher-dimensional space to fit for non-linear relationships with a linear classifier."
   ]
  },
  {
   "cell_type": "markdown",
   "metadata": {},
   "source": [
    "### Supervised Learning: Decision Trees\n",
    "\n",
    "- **Decision Trees** ask a series of questions, and perform a sequence of branching operations based on comparisons of some quantities.\n",
    "- Predict the value of a target variable by learning simple decision rules inferred from the data features. \n",
    "- Classification and regression tasks and multioutput tasks (with more than two classes). \n",
    "- Estimate the probability that an instance belongs to a particular class k."
   ]
  },
  {
   "cell_type": "markdown",
   "metadata": {},
   "source": [
    "<img src=\"img_ML/Figure_22_decision_trees.png\"/>"
   ]
  },
  {
   "cell_type": "markdown",
   "metadata": {},
   "source": [
    "<sub>From ‘Hands-On Machine Learning with Scikit-Learn and TensorFlow’ by Aurélien Géron.<sub>"
   ]
  },
  {
   "cell_type": "markdown",
   "metadata": {},
   "source": [
    "- Select the feature that bests splits the data (produces pure partitions).\n",
    "- Remove this chosen feature from the feature list and repeats the previous step until leaf nodes are found.\n",
    "- Attribute selection measures: \n",
    "\t- Information gain.\n",
    "\t- Gini index: impurity measure. \n",
    "- **CART (Classification and Regression Trees) Algorithm**: produces binary trees (Scikit Learn)\n",
    "    - **Classification**: at each step, picks a feature and splits the dataset into 2 parts based on how best to reduce node impurities at the next lower level.\n",
    "    - **Regression**: the continuous value is computed to be the ‘average’ of the other nodes within that leaf node, it splits the dataset in a way that minimizes the MSE."
   ]
  },
  {
   "cell_type": "markdown",
   "metadata": {},
   "source": [
    "### Supervised Learning: Random Forest\n",
    "\n",
    "- **Random Forest**: a group of Decision Trees classifiers (or regressors), each trained on a different random subset of the training set. \n",
    "- Obtains the predictions of all individual trees and then predict the class that gets majority of votes (or the average for regression).\n",
    "\n",
    "- Instead of searching for the very best feature when splitting a node, it searches for the best feature among a random subset of features.\n",
    "\n",
    "- **Random Forest** builds multiple CART models with different samples and initial variables, each tree gives a ‘vote’ for a certain class, the forest chooses the class that gets more votes. \n",
    "- In **regression** it takes the average of outputs by different trees. \n",
    "\n"
   ]
  },
  {
   "cell_type": "markdown",
   "metadata": {},
   "source": [
    "<img src=\"img_ML/Figure_23_random_forest.png\"/>"
   ]
  },
  {
   "cell_type": "markdown",
   "metadata": {},
   "source": [
    "<sub>From https://medium.com/@williamkoehrsen/random-forest-simple-explanation-377895a60d2d<sub>"
   ]
  },
  {
   "cell_type": "markdown",
   "metadata": {},
   "source": [
    "**Advantages**\n",
    "\n",
    "- Both training and prediction are very fast.\n",
    "- The multiple trees allow for a probabilistic classification.\n",
    "- The nonparametric model is extremely flexible performing well on tasks that are under-fit by other estimators.\n"
   ]
  },
  {
   "cell_type": "markdown",
   "metadata": {},
   "source": [
    "**Disadvantages**\n",
    "\n",
    "- The results are not easily interpretable."
   ]
  },
  {
   "cell_type": "markdown",
   "metadata": {},
   "source": [
    "### Unsupervised Learning\n",
    "\n",
    "- The training data is unlabeled.\n",
    "- **Clustering**: grouping similar entities together. \n",
    "- **Visualization**: output 2D or 3D representation of complex and data that can be easily plotted. "
   ]
  },
  {
   "cell_type": "markdown",
   "metadata": {},
   "source": [
    "**Algorithms**\n",
    "\n",
    "*Clustering* \n",
    "- k-Means.\n",
    "- Hierarchical Cluster Analysis\n",
    "\n",
    "*Visualization*\n",
    "- Principal Component Analysis (PCA)\n",
    "- t-distributed Stochastic Neighbor Embedding (t-SNE)"
   ]
  },
  {
   "cell_type": "markdown",
   "metadata": {},
   "source": [
    "### Unsupervised Learning: k-Means\n",
    "\n",
    "- k-Means algorithm searches for a pre-determined number of clusters within an unlabeled multidimensional dataset.\n",
    "- The cluster center is the arithmetic mean of all the points belonging to the cluster.\n",
    "- The partitions try to minimize the within-cluster sum of squares (inertia).\n",
    "- Each point is closer to its own cluster center than to other cluster centers."
   ]
  },
  {
   "cell_type": "markdown",
   "metadata": {},
   "source": [
    "<img src=\"img_ML/Figure_24_k_means.png\"/>"
   ]
  },
  {
   "cell_type": "markdown",
   "metadata": {},
   "source": [
    "<sub>From ‘Python Data Science Handbook’ by Jake Vander Plas.<sub>"
   ]
  },
  {
   "cell_type": "markdown",
   "metadata": {},
   "source": [
    "### Unsupervised Learning: Principal Component Analysis (PCA)\n",
    "\n",
    "- **Dimensionality reduction**: when there are many features (e.g. thousands or millions) for each training instance it makes training slow and it could be hard to find a good solution."
   ]
  },
  {
   "cell_type": "markdown",
   "metadata": {},
   "source": [
    "- **PCA**: \n",
    "\t- identifies the hyperplane that lies closest to the data \n",
    "\t- projects the data onto the hyperplane\n",
    "\t- selects the projection that preserves the maximum amount of variance"
   ]
  },
  {
   "cell_type": "markdown",
   "metadata": {},
   "source": [
    "<img src=\"img_ML/Figure_25_PCA.png\"/>"
   ]
  },
  {
   "cell_type": "markdown",
   "metadata": {},
   "source": [
    "<sub>From ‘Hands-On Machine Learning with Scikit-Learn and TensorFlow’ by Aurélien Géron.<sub>"
   ]
  },
  {
   "cell_type": "markdown",
   "metadata": {},
   "source": [
    "### Unsupervised Learning: t-Distributed Stochastic Neighbor Embedding (t-SNE)\n",
    "\n",
    "- Dimensionality reduction: tries to keep similar instances close and dissimilar instances apart.\n",
    "- It is useful for visualization."
   ]
  },
  {
   "cell_type": "markdown",
   "metadata": {},
   "source": [
    "<img src=\"img_ML/Figure_26_tsne.png\"/>"
   ]
  },
  {
   "cell_type": "markdown",
   "metadata": {},
   "source": [
    "<sub>From https://towardsdatascience.com/an-introduction-to-t-sne-with-python-example-5a3a293108d1<sub>"
   ]
  },
  {
   "cell_type": "markdown",
   "metadata": {},
   "source": [
    "### Semisupervised Learning\n",
    "\n",
    "The training data is **partially labeled**: a lot of unlabeled data with only a little of labeled data.\n",
    "Labeling massive amounts of data is \t\n",
    "- time-consuming \n",
    "- expensive. \n",
    "- introduces human biases on the model.\n",
    "\n",
    "**Example**: Webpage classification, labeled data is used to identify specific groups of webpage types, then the algorithm is  trained on unlabeled data to define the boundaries of those webpage types and may even identify new types of webpages that were unspecified in the existing human-inputted label."
   ]
  },
  {
   "cell_type": "markdown",
   "metadata": {},
   "source": [
    "### Reinforcement Learning\n",
    "\n",
    "- The learning system (**agent**) observes the environment, selects and performs **actions**, and gets **rewards** or **penalties** in return.\n",
    "- It learns by itself what is the best strategy (policy) to maximize the rewards over time."
   ]
  },
  {
   "cell_type": "markdown",
   "metadata": {},
   "source": [
    "**Algorithms**\n",
    "\n",
    "- Monte Carlo\n",
    "- Q-learning\n",
    "- Proximal Policy Optimation (PPO)"
   ]
  },
  {
   "cell_type": "markdown",
   "metadata": {},
   "source": [
    "<img src=\"img_ML/Figure_27_reinforcement_learning.png\"/>"
   ]
  },
  {
   "cell_type": "markdown",
   "metadata": {},
   "source": [
    "<sub>From https://pixabay.com/en/robot-machine-technology-science-312566/<sub>"
   ]
  },
  {
   "cell_type": "markdown",
   "metadata": {},
   "source": [
    "### Batch Learning\n",
    "\n",
    "- The systems is trained using **all the available data**, does not learn incrementally. \n",
    "- It’s typically done **offline**, it takes time and computing resources.\n",
    "- The system is trained and then launched into production running without learning any more.\n",
    "- The data can be updated and then the system is trained again from scratch."
   ]
  },
  {
   "cell_type": "markdown",
   "metadata": {},
   "source": [
    "### Online Learning\n",
    "\n",
    "- The systems is **trained incrementally** feeding it data instances sequentially, either individually or in mini-batches. \n",
    "- Each learning step is fast and cheap.\n",
    "- **Learning rate**: how fast the system should adapt to new data. \n",
    "- The whole process is usually done offline, it is **incremental learning**.\n",
    "- Can be used to train systems on huge datasets that don’t fit in one machine’s main memory.\n",
    "- Good for systems that receive data as a continuous flow (e.g. stock prices)."
   ]
  },
  {
   "cell_type": "markdown",
   "metadata": {},
   "source": [
    "### Instance-based Learning\n",
    "\n",
    "The systems learns the examples by heart, then generalizes to new cases using a similarity measure."
   ]
  },
  {
   "cell_type": "markdown",
   "metadata": {},
   "source": [
    "<img src=\"img_ML/Figure_28_instance_based_learning.png\"/>"
   ]
  },
  {
   "cell_type": "markdown",
   "metadata": {},
   "source": [
    "<sub>Adapted from ‘Hands-On Machine Learning with Scikit-Learn and TensorFlow’ by Aurélien Géron.<sub>"
   ]
  },
  {
   "cell_type": "markdown",
   "metadata": {},
   "source": [
    "### Model-based Learning\n",
    "\n",
    "From a set of examples build a model of these examples and then make predictions."
   ]
  },
  {
   "cell_type": "markdown",
   "metadata": {},
   "source": [
    "<img src=\"img_ML/Figure_29_model_based_learning.png\"/>"
   ]
  },
  {
   "cell_type": "markdown",
   "metadata": {},
   "source": [
    "<sub>Adapted from ‘Hands-On Machine Learning with Scikit-Learn and TensorFlow’ by Aurélien Géron.<sub>"
   ]
  },
  {
   "cell_type": "markdown",
   "metadata": {},
   "source": [
    "### Model Evaluation\n",
    "\n",
    "The performance of a model must be evaluate according to the learning problem: unsupervised learning problems have different metrics from supervised learning ones."
   ]
  },
  {
   "cell_type": "markdown",
   "metadata": {},
   "source": [
    "- *Supervised learning metrics*\n",
    "\t\tAccuracy\n",
    "\t\tConfusion matrix\n",
    "\t\tROC Curve\n",
    "\n",
    "- *Unsupervised learning metrics*\n",
    "\t\tSilhouette Score\n",
    "\t\tAdjusted Rand"
   ]
  },
  {
   "cell_type": "markdown",
   "metadata": {},
   "source": [
    "### Challenges of Machine Learning\n",
    "\n",
    "- Insufficient **quantity** of training data.\n",
    "- **Non-representative** training data: \n",
    "\t- if sample is too small, there is sample **noise** as a result of chance \n",
    "\t- if the sample is large it could be non-representative if the method is flawed (sample **bias**). \n",
    "- Poor **quality** of data: if training data is full of outliers, errors and noise.\n",
    "- Irrelevant features."
   ]
  },
  {
   "cell_type": "markdown",
   "metadata": {},
   "source": [
    "- **Overfitting** the training data\n",
    "\n",
    "\t- the model performs well on training data but does not generalizes well \n",
    "\t- the model is too complex given the underlying data\n",
    "\n",
    "- **Underfitting** the training data\n",
    "\n",
    "\t- the model is too simple to learn the underlying structur"
   ]
  },
  {
   "cell_type": "markdown",
   "metadata": {},
   "source": [
    "<img src=\"img_ML/Figure_30_over_underfitting.png\"/>"
   ]
  },
  {
   "cell_type": "markdown",
   "metadata": {},
   "source": [
    "**High-bias models**: the performance of the model on the validation set is similar to the performance on the training set.\n",
    "\n",
    "**High-variance models**: the performance of the model on the validation set is far worse than the performance on the training set."
   ]
  },
  {
   "cell_type": "markdown",
   "metadata": {},
   "source": [
    "<img src=\"img_ML/Figure_31_bias_variance.png\"/>"
   ]
  },
  {
   "cell_type": "markdown",
   "metadata": {},
   "source": [
    "### Deep Learning\n",
    "\n",
    "- **Deep learning** is a subfield of machine learning: learning successive layers of meaningful representations of the data.\n",
    "- **Depth**: number of layers contributing to the model of the data.\n",
    "- These layered representations are (almost always) learned via models called **neural networks**.\n",
    "- **Neural networks**: structured in layers stacked on top of each other. "
   ]
  },
  {
   "cell_type": "markdown",
   "metadata": {},
   "source": [
    "<img src=\"img_ML/Figure_32_deep_learning.png\"/>"
   ]
  },
  {
   "cell_type": "markdown",
   "metadata": {},
   "source": [
    "<sub>Adapted from ‘Deep Learning with Python’ by Francois Chollet.<sub>"
   ]
  },
  {
   "cell_type": "markdown",
   "metadata": {},
   "source": [
    "**Deep learning** achieved breakthroughs in:\n",
    "\n",
    "- image classification\n",
    "- speech recognition\n",
    "- handwriting transcription\n",
    "- machine translation\n",
    "- text to speech conversion\n",
    "- digital assistants\n",
    "- autonomous driving\n",
    "- ad targeting\n",
    "- search results on the web\n",
    "- superhuman Go playing"
   ]
  },
  {
   "cell_type": "markdown",
   "metadata": {},
   "source": [
    "### Discussion\n",
    "\n",
    "**Which problems would you like to solve with machine learning (use your imagination)?**\n",
    "- Work.\n",
    "- Everyday life.\n",
    "- Holidays.\n",
    "\n",
    "**Discuss ethical implications of using machine learning:**\n",
    "- DNA data.\n",
    "- Recommendation systems: recommend only similar items in case of extreme content?\n",
    "- Algorithmic bias: over and underrepresentation of groups.\n",
    "- Who is legally responsible for a robot’s action?\n"
   ]
  },
  {
   "cell_type": "markdown",
   "metadata": {},
   "source": [
    "# scikit-learn\n",
    "*Machine Learning in Python*\n",
    "\n",
    "![scikit-learn-website](img_ML/scikit-learn-website.png)\n",
    "\n",
    "* \"Simple and efficient tools for data mining and data analysis\n",
    "* Accessible to everybody, and reusable in various contexts\n",
    "* Built on NumPy, SciPy, and matplotlib\n",
    "* Open source, commercially usable - BSD license\"\n",
    "\n",
    "See for the official website with the documentation https://scikit-learn.org/stable/ and https://github.com/scikit-learn/scikit-learn for the GitHub repository.\n",
    "\n",
    "\n",
    "## Data Representation\n",
    "* train data\n",
    "  * rows = samples\n",
    "  * columns = features\n",
    "* test data\n",
    "  * column = labels"
   ]
  },
  {
   "cell_type": "code",
   "execution_count": 23,
   "metadata": {},
   "outputs": [
    {
     "data": {
      "text/html": [
       "<div>\n",
       "<style scoped>\n",
       "    .dataframe tbody tr th:only-of-type {\n",
       "        vertical-align: middle;\n",
       "    }\n",
       "\n",
       "    .dataframe tbody tr th {\n",
       "        vertical-align: top;\n",
       "    }\n",
       "\n",
       "    .dataframe thead th {\n",
       "        text-align: right;\n",
       "    }\n",
       "</style>\n",
       "<table border=\"1\" class=\"dataframe\">\n",
       "  <thead>\n",
       "    <tr style=\"text-align: right;\">\n",
       "      <th></th>\n",
       "      <th>feature_0</th>\n",
       "      <th>feature_1</th>\n",
       "      <th>feature_2</th>\n",
       "      <th>feature_3</th>\n",
       "      <th>feature_4</th>\n",
       "    </tr>\n",
       "  </thead>\n",
       "  <tbody>\n",
       "    <tr>\n",
       "      <th>sample_0</th>\n",
       "      <td>6</td>\n",
       "      <td>6</td>\n",
       "      <td>8</td>\n",
       "      <td>0</td>\n",
       "      <td>4</td>\n",
       "    </tr>\n",
       "    <tr>\n",
       "      <th>sample_1</th>\n",
       "      <td>3</td>\n",
       "      <td>5</td>\n",
       "      <td>1</td>\n",
       "      <td>0</td>\n",
       "      <td>8</td>\n",
       "    </tr>\n",
       "    <tr>\n",
       "      <th>sample_2</th>\n",
       "      <td>2</td>\n",
       "      <td>8</td>\n",
       "      <td>0</td>\n",
       "      <td>4</td>\n",
       "      <td>9</td>\n",
       "    </tr>\n",
       "    <tr>\n",
       "      <th>sample_3</th>\n",
       "      <td>3</td>\n",
       "      <td>2</td>\n",
       "      <td>8</td>\n",
       "      <td>4</td>\n",
       "      <td>8</td>\n",
       "    </tr>\n",
       "    <tr>\n",
       "      <th>sample_4</th>\n",
       "      <td>8</td>\n",
       "      <td>8</td>\n",
       "      <td>1</td>\n",
       "      <td>9</td>\n",
       "      <td>9</td>\n",
       "    </tr>\n",
       "    <tr>\n",
       "      <th>sample_5</th>\n",
       "      <td>4</td>\n",
       "      <td>0</td>\n",
       "      <td>2</td>\n",
       "      <td>8</td>\n",
       "      <td>9</td>\n",
       "    </tr>\n",
       "    <tr>\n",
       "      <th>sample_6</th>\n",
       "      <td>5</td>\n",
       "      <td>5</td>\n",
       "      <td>4</td>\n",
       "      <td>5</td>\n",
       "      <td>1</td>\n",
       "    </tr>\n",
       "  </tbody>\n",
       "</table>\n",
       "</div>"
      ],
      "text/plain": [
       "          feature_0  feature_1  feature_2  feature_3  feature_4\n",
       "sample_0          6          6          8          0          4\n",
       "sample_1          3          5          1          0          8\n",
       "sample_2          2          8          0          4          9\n",
       "sample_3          3          2          8          4          8\n",
       "sample_4          8          8          1          9          9\n",
       "sample_5          4          0          2          8          9\n",
       "sample_6          5          5          4          5          1"
      ]
     },
     "execution_count": 23,
     "metadata": {},
     "output_type": "execute_result"
    }
   ],
   "source": [
    "import numpy as np\n",
    "import pandas as pd\n",
    "\n",
    "x = pd.DataFrame(np.random.randint(low=0, high=10, size=(7, 5)),\n",
    "                 index=['sample_0', 'sample_1', 'sample_2', 'sample_3', 'sample_4', 'sample_5', 'sample_6'\n",
    "                      ],\n",
    "                 columns=['feature_0', 'feature_1', 'feature_2', 'feature_3', 'feature_4',])\n",
    "x"
   ]
  },
  {
   "cell_type": "code",
   "execution_count": 25,
   "metadata": {},
   "outputs": [
    {
     "data": {
      "text/plain": [
       "0     True\n",
       "1    False\n",
       "2     True\n",
       "3    False\n",
       "4    False\n",
       "5    False\n",
       "6     True\n",
       "Name: labels, dtype: bool"
      ]
     },
     "execution_count": 25,
     "metadata": {},
     "output_type": "execute_result"
    }
   ],
   "source": [
    "y = pd.Series([True, False, True, False, False, False, True], name='labels')\n",
    "y"
   ]
  },
  {
   "cell_type": "code",
   "execution_count": 24,
   "metadata": {},
   "outputs": [
    {
     "name": "stdout",
     "output_type": "stream",
     "text": [
      "Full data\n",
      "X: \n",
      "[[0 1]\n",
      " [2 3]\n",
      " [4 5]\n",
      " [6 7]\n",
      " [8 9]]\n",
      "y: [0, 1, 2, 3, 4]\n",
      "\n",
      "Train and test data\n",
      "X_train: \n",
      "[[4 5]\n",
      " [0 1]\n",
      " [6 7]]\n",
      "X_test: \n",
      "[[2 3]\n",
      " [8 9]]\n",
      "y_train: [2, 0, 3]\n",
      "y_test: [1, 4]\n"
     ]
    }
   ],
   "source": [
    "import numpy as np\n",
    "from sklearn.model_selection import train_test_split\n",
    "\n",
    "X, y = np.arange(10).reshape((5, 2)), range(5)\n",
    "\n",
    "print(\"Full data\")\n",
    "print(\"X: \\n{}\".format(X))\n",
    "print(\"y: {}\\n\".format(list(y)))\n",
    "\n",
    "X_train, X_test, y_train, y_test = train_test_split(X, y, test_size=0.33, random_state=42)\n",
    "\n",
    "print(\"Train and test data\")\n",
    "print(\"X_train: \\n{}\".format(X_train))\n",
    "print(\"X_test: \\n{}\".format(X_test))\n",
    "print(\"y_train: {}\".format(y_train))\n",
    "print(\"y_test: {}\".format(y_test))"
   ]
  },
  {
   "cell_type": "markdown",
   "metadata": {},
   "source": [
    "## scikit-learn cheat sheet\n",
    "\n",
    "![scikit-learn-cheat-sheet](img_ML/scikit-learn-cheat-sheet.png)\n",
    "\n",
    "https://s3.amazonaws.com/assets.datacamp.com/blog_assets/Scikit_Learn_Cheat_Sheet_Python.pdf"
   ]
  },
  {
   "cell_type": "markdown",
   "metadata": {},
   "source": [
    "# Tensorflow\n",
    "\n",
    "![tensorflow](img_ML/tensorflow.png)\n",
    "\n",
    "\"TensorFlow makes it easy for beginners and experts to create machine learning models.\"\n",
    "\n",
    "See https://www.tensorflow.org/overview and https://github.com/tensorflow/tensorflow.\n",
    "\n",
    "# PyTorch\n",
    "\n",
    "![pytorch](img_ML/pytorch.png)\n",
    "\n",
    "\"An open source deep learning platform that provides a seamless path from research prototyping to production deployment.\"\n",
    "\n",
    "https://pytorch.org/\n",
    "\n",
    "\"PyTorch is a Python package that provides two high-level features:\n",
    "* Tensor computation (like NumPy) with strong GPU acceleration\n",
    "* Deep neural networks built on a tape-based autograd system\"\n",
    "\n",
    "https://github.com/pytorch/pytorch\n",
    "\n",
    "\n",
    "# Keras\n",
    "![keras](img_ML/keras.png)\n",
    "\n",
    "\"Keras is a high-level neural networks API, written in Python and capable of running on top of TensorFlow, CNTK, or Theano. It was developed with a focus on enabling fast experimentation. *Being able to go from idea to result with the least possible delay is key to doing good research*.\n",
    "\n",
    "Use Keras if you need a deep learning library that:\n",
    "* Allows for easy and fast prototyping (through user friendliness, modularity, and extensibility).\n",
    "* Supports both convolutional networks and recurrent networks, as well as combinations of the two.\n",
    "* Runs seamlessly on CPU and GPU.\"\n",
    "\n",
    "See https://keras.io/ and https://github.com/keras-team/keras/."
   ]
  },
  {
   "cell_type": "code",
   "execution_count": null,
   "metadata": {},
   "outputs": [],
   "source": []
  }
 ],
 "metadata": {
  "kernelspec": {
   "display_name": "Python [conda env:keras]",
   "language": "python",
   "name": "conda-env-keras-py"
  },
  "language_info": {
   "codemirror_mode": {
    "name": "ipython",
    "version": 3
   },
   "file_extension": ".py",
   "mimetype": "text/x-python",
   "name": "python",
   "nbconvert_exporter": "python",
   "pygments_lexer": "ipython3",
   "version": "3.6.7"
  }
 },
 "nbformat": 4,
 "nbformat_minor": 2
}
